{
 "cells": [
  {
   "cell_type": "markdown",
   "metadata": {
    "colab_type": "text",
    "id": "D_drqRn3ebnZ"
   },
   "source": [
    "<table align=\"left\" width=100%>\n",
    "    <tr>\n",
    "        <td width=\"10%\">\n",
    "            <img src=\"title.png\">\n",
    "        </td>\n",
    "        <td>\n",
    "            <div align=\"left\">\n",
    "                <font color=\"#21618C\" size=8px>\n",
    "                  <b>Vaccine Prediction\n",
    "                    </b>\n",
    "                </font>\n",
    "            </div>\n",
    "        </td>\n",
    "    </tr>\n",
    "</table>"
   ]
  },
  {
   "cell_type": "markdown",
   "metadata": {
    "colab_type": "text",
    "id": "3OXjYS1webna"
   },
   "source": [
    "## Problem Statement\n",
    "\n",
    "The data set is the response of people to the h1n1 flu vaccine related questionnaire. The respondents are people of age 6 months and older. This survey was designed to monitor the influenza immunization coverage in 2009-10 season. Machine learning techniques may aid a more efficient analysis in the prediction of how likely the people are to opt for the flu vaccine. In this case study, we predict, how likely it is that the people will take a H1N1 flu vaccine.        "
   ]
  },
  {
   "cell_type": "markdown",
   "metadata": {
    "colab_type": "text",
    "id": "AQO22FFqebnb"
   },
   "source": [
    "## Data Definition\n",
    "\n",
    "**unique_id**: Unique identifier for each respondent - (Numerical)    \n",
    "\n",
    "**h1n1_worry**: Worry about the h1n1 flu(0,1,2,3) 0=Not worried at all, 1=Not very worried, 2=Somewhat worried, 3=Very worried - (Categorical)\n",
    "\n",
    "**h1n1_awareness**: Signifies the amount of knowledge or understanding the respondent has about h1n1 flu - (0,1,2) - 0=No knowledge, 1=little knowledge, 2=good knowledge- (Categorical) \n",
    " \n",
    "**antiviral_medication**: Has the respondent taken antiviral vaccination - (0,1) (Categorical)\n",
    "    \n",
    "**contact_avoidance**: Has avoided any close contact with people who have flu-like symptoms  - (0,1) - (Categorical)\n",
    "    \n",
    "**bought_face_mask**: Has the respondent bought mask or not - (0,1) - (Categorical)\n",
    "    \n",
    "**wash_hands_frequently**: Washes hands frequently or uses hand sanitizer - (0,1) - (Categorical)\n",
    "    \n",
    "**avoid_large_gatherings**: Has the respondent reduced time spent at large gatherings - (0,1) - (Categorical)\n",
    "    \n",
    "**reduced_outside_home_cont**: Has the respondent reduced contact with people outside own house - (0,1) - (Categorical)\n",
    "    \n",
    "**avoid_touch_face**: Avoids touching nose, eyes, mouth - (0,1) - (Categorical)\n",
    "\n",
    "**dr_recc_h1n1_vacc**: Doctor has recommended h1n1 vaccine - (0,1) - (Categorical)\n",
    "    \n",
    "**dr_recc_seasonal_vacc**: Doctor has recommended seasonalflu vaccine - (0,1) - (Categorical)\n",
    "    \n",
    "**chronic_medic_condition**: Has any chronic medical condition - (0,1) - (Categorical)\n",
    "    \n",
    "**cont_child_undr_6_mnth** - Has a regular contact with child the age of 6 months - (0,1) - (Categorical)\n",
    "\n",
    "**is_health_worker**: Is respondent a health worker - (0,1) - (Categorical)\n",
    "    \n",
    "**has_health_insur**: Does respondent have health insurance - (0,1) - (Categorical)\n",
    "    \n",
    "**is_h1n1_vacc_effective**:  Does respondent think that the h1n1 vaccine is effective - (1,2,3,4,5)- (1=Thinks not effective at all, 2=Thinks it is not very effective, 3=Doesn't know if it is effective or not, 4=Thinks it is somewhat effective, 5=Thinks it is highly effective) - (Categorical)\n",
    "\n",
    "**is_h1n1_risky**: What respondenst think about the risk of getting ill with h1n1 in the absence of the vaccine- (1,2,3,4,5)- (1=Thinks it is not very low risk, 2=Thinks it is somewhat low risk, 3=Doesn't know if it is risky or not, 4=Thinks it is somewhat high risk, 5=Thinks it is very highly risky) - (Categorical)\n",
    " \n",
    "**sick_from_h1n1_vacc**: Does respondent worry about getting sick by taking the h1n1 vaccine - (1,2,3,4,5)- (1=Respondent not worried at all, 2=Respondent is not very worried, 3=Doesn't know, 4=Respondent is somewhat worried, 5Respondent is very worried) - (Categorical)\n",
    "\n",
    "**is_seas_vacc_effective**: Does respondent think that the seasonal vaccine is effective- (1,2,3,4,5)- (1=Thinks not effective at all, 2=Thinks it is not very effective, 3=Doesn't know if it is effective or not, 4=Thinks it is somewhat effective, 5=Thinks it is highly effective) - (Categorical)\n",
    "\n",
    "**is_seas_flu_risky**: What respondenst think about the risk of getting ill with seasonal flu in the absence of the vaccine- (1,2,3,4,5)- (1=Thinks it is not very low risk, 2=Thinks it is somewhat low risk, 3=Doesn't know if it is risky or not, 4=Thinks it is somewhat high risk, 5=Thinks it is very highly risky) - (Categorical)\n",
    " \n",
    "**sick_from_seas_vacc**: Does respondent worry about getting sick by taking the seasonal flu vaccine - (1,2,3,4,5)- (1=Respondent not worried at all, 2=Respondent is not very worried, 3=Doesn't know, 4=Respondent is somewhat worried, 5Respondent is very worried) - (Categorical)\n",
    "\n",
    "**age_bracket** - Age bracket of the respondent - (18 - 34 Years, 35 - 44 Years, 45 - 54 Years, 55 - 64 Years, 64+ Years) - (Categorical)\n",
    "    \n",
    "**qualification** - Qualification/education level of the respondent as per their response -(<12 Years, 12 Years, College Graduate, Some College) - (Categorical)\n",
    "    \n",
    "**race**: Respondent's race - (White, Black, Other or Multiple ,Hispanic) - (Categorical) \n",
    "    \n",
    "**sex**: Respondent's sex - (Female, Male) - (Categorical)\n",
    "    \n",
    "**income_level**:Annual income of the respondent as per the 2008 poverty Census - (<=$75000-Above Poverty, >$75000, Below Poverty) - (Categorical)\n",
    "    \n",
    "**marital_status**: Respondent's marital status - (Not Married, Married) - (Categorical)\n",
    "    \n",
    "**housing_status**: Respondent's housing status - (Own, Rent) - (Categorical)\n",
    "    \n",
    "**employment**: Respondent's employment status - (Not in Labor Force, Employed, Unemployed) - (Categorical)\n",
    "    \n",
    "**census_msa**: Residence of the respondent with the MSA(metropolitan statistical area)(Non-MSA, MSA-Not Principle, CityMSA-Principle city) - (Yes, no) - (Categorical)\n",
    "    \n",
    "**no_of_adults**:  Number of adults in the respondent's house (0,1,2,3) - (Yes, no) - (Categorical)\n",
    "\n",
    "**no_of_children**: Number of children in the respondent's house(0,1,2,3) - (Yes, No) - (Categorical)\n",
    "\n",
    "**h1n1_vaccine**: (Dependent variable)Did the respondent received the h1n1 vaccine or not(1,0) - (Yes, No) - (Categorical)"
   ]
  },
  {
   "cell_type": "markdown",
   "metadata": {
    "colab_type": "text",
    "id": "trkPCukEebnc"
   },
   "source": [
    "## Icon Legends\n",
    "<table>\n",
    "  <tr>\n",
    "    <th width=\"25%\"> <img src=\"infer.png\" style=\"width:25%;\"></th>\n",
    "    <th width=\"25%\"> <img src=\"alsoreadicon.png\" style=\"width:25%;\"></th>\n",
    "    <th width=\"25%\"> <img src=\"todo.png\" style=\"width:25%;\"></th>\n",
    "    <th width=\"25%\"> <img src=\"quicktip.png\" style=\"width:25%;\"></th>\n",
    "  </tr>\n",
    "  <tr>\n",
    "    <td><div align=\"center\" style=\"font-size:120%\">\n",
    "        <font color=\"#21618C\"><b>Inferences from outcome</b></font></div>\n",
    "    </td>\n",
    "    <td><div align=\"center\" style=\"font-size:120%\">\n",
    "        <font color=\"#21618C\"><b>Additional Reads</b></font></div>\n",
    "    </td>\n",
    "    <td><div align=\"center\" style=\"font-size:120%\">\n",
    "        <font color=\"#21618C\"><b>Lets do it</b></font></div>\n",
    "    </td>\n",
    "    <td><div align=\"center\" style=\"font-size:120%\">\n",
    "        <font color=\"#21618C\"><b>Quick Tips</b></font></div>\n",
    "    </td>\n",
    "\n",
    "</tr>\n",
    "\n",
    "</table>\n"
   ]
  },
  {
   "cell_type": "markdown",
   "metadata": {},
   "source": [
    "## Table of Content\n",
    "\n",
    "1. **[Import Libraries](#import_lib)**\n",
    "2. **[Set Options](#set_options)**\n",
    "3. **[Read Data](#RD)**\n",
    "4. **[Data Analysis and Preparation](#data_preparation)**\n",
    "    - 4.1 - **[Understand the Dataset](#Data_Understanding)**\n",
    "        - 4.1.1 - **[Data Type](#Data_Types)**\n",
    "        - 4.1.2 - **[Summary Statistics](#Summary_Statistics)**\n",
    "        - 4.1.3 - **[Distribution of Variables](#distribution_variables)**\n",
    "        - 4.1.4 - **[Correlation](#correlation)**\n",
    "        - 4.1.5 - **[Missing Values](#Missing_Values)**      \n",
    "    - 4.2 - **[Prepare the Data](#Data_Preparation)**\n",
    "5. **[Logistic Regression](#LogisticReg)**\n",
    "    - 5.1 - **[Logistic Regression (using MLE)](#withStatsModels)**\n",
    "    - 5.2 - **[Logistic Regression (using SGD)](#usingSGD)**\n",
    "6. **[Conclusion and Interpretation](#conclusion)**"
   ]
  },
  {
   "cell_type": "markdown",
   "metadata": {
    "colab_type": "text",
    "id": "AyalDMN-ebnc"
   },
   "source": [
    "<a id='import_lib'></a>\n",
    "# 1. Import Libraries"
   ]
  },
  {
   "cell_type": "markdown",
   "metadata": {},
   "source": [
    "<table align=\"left\">\n",
    "    <tr>\n",
    "        <td width=\"8%\">\n",
    "            <img src=\"todo.png\">\n",
    "        </td>\n",
    "        <td>\n",
    "            <div align=\"left\", style=\"font-size:120%\">\n",
    "                <font color=\"#21618C\">\n",
    "                    <b>Import the required libraries and functions</b>\n",
    "                </font>\n",
    "            </div>\n",
    "        </td>\n",
    "    </tr>\n",
    "</table>"
   ]
  },
  {
   "cell_type": "code",
   "execution_count": 112,
   "metadata": {
    "colab": {},
    "colab_type": "code",
    "id": "lBgh1J0Mebnd"
   },
   "outputs": [],
   "source": [
    "# suppress display of warnings\n",
    "import warnings\n",
    "warnings.filterwarnings(\"ignore\")\n",
    "\n",
    "# 'Pandas' is used for data manipulation and analysis\n",
    "import pandas as pd \n",
    "\n",
    "# 'Numpy' is used for mathematical operations on large, multi-dimensional arrays and matrices\n",
    "import numpy as np\n",
    "\n",
    "# 'Matplotlib' is a data visualization library for 2D and 3D plots, built on numpy\n",
    "import matplotlib.pyplot as plt\n",
    "from matplotlib.colors import ListedColormap\n",
    "\n",
    "# 'Seaborn' is based on matplotlib; used for plotting statistical graphics\n",
    "import seaborn as sns\n",
    "\n",
    "# import 'is_string_dtype' to check if the type of input is string  \n",
    "from pandas.api.types import is_string_dtype\n",
    "\n",
    "# import various functions to perform classification\n",
    "from sklearn.preprocessing import StandardScaler\n",
    "from sklearn.model_selection import train_test_split\n",
    "from sklearn import metrics\n",
    "from sklearn.linear_model import LogisticRegression\n",
    "from sklearn.metrics import classification_report\n",
    "from sklearn.metrics import cohen_kappa_score\n",
    "from sklearn.metrics import confusion_matrix\n",
    "from sklearn.metrics import roc_auc_score\n",
    "from sklearn.metrics import roc_curve\n",
    "from sklearn.linear_model import SGDClassifier\n",
    "from sklearn.model_selection import GridSearchCV\n",
    "\n",
    "# import functions to perform logistic regression\n",
    "import statsmodels\n",
    "import statsmodels.api as sm"
   ]
  },
  {
   "cell_type": "code",
   "execution_count": 113,
   "metadata": {},
   "outputs": [],
   "source": [
    "# set the plot size using 'rcParams'\n",
    "# once the plot size is set using 'rcParams', it sets the size of all the forthcoming plots in the file\n",
    "# pass width and height in inches to 'figure.figsize' \n",
    "plt.rcParams['figure.figsize'] = [15,8]"
   ]
  },
  {
   "cell_type": "markdown",
   "metadata": {
    "colab_type": "text",
    "id": "Ll0ntaGOebng"
   },
   "source": [
    "<a id='set_options'></a>\n",
    "# 2. Set Options"
   ]
  },
  {
   "cell_type": "markdown",
   "metadata": {},
   "source": [
    "<table align=\"left\">\n",
    "    <tr>\n",
    "        <td width=\"8%\">\n",
    "            <img src=\"todo.png\">\n",
    "        </td>\n",
    "        <td>\n",
    "            <div align=\"left\", style=\"font-size:120%\">\n",
    "                <font color=\"#21618C\">\n",
    "                    <b>Now we make necessary changes to :<br><br>\n",
    "1. Display complete data frames<br>\n",
    "2. To avoid the exponential number<br>\n",
    "                    </b>\n",
    "                </font>\n",
    "            </div>\n",
    "        </td>\n",
    "    </tr>\n",
    "</table>"
   ]
  },
  {
   "cell_type": "code",
   "execution_count": 114,
   "metadata": {
    "colab": {},
    "colab_type": "code",
    "id": "qJcw0J2Cebnh"
   },
   "outputs": [],
   "source": [
    "# display all columns of the dataframe\n",
    "pd.options.display.max_columns = None\n",
    "\n",
    "# display all rows of the dataframe\n",
    "pd.options.display.max_rows = None\n",
    "\n",
    "# use below code to convert the 'exponential' values to float\n",
    "np.set_printoptions(suppress=True)"
   ]
  },
  {
   "cell_type": "markdown",
   "metadata": {
    "colab_type": "text",
    "id": "yPb9_if1ebnl"
   },
   "source": [
    "<a id='RD'></a>\n",
    "# 3. Read Data"
   ]
  },
  {
   "cell_type": "markdown",
   "metadata": {},
   "source": [
    "<table align=\"left\">\n",
    "    <tr>\n",
    "        <td width=\"8%\">\n",
    "            <img src=\"todo.png\">\n",
    "        </td>\n",
    "        <td>\n",
    "            <div align=\"left\", style=\"font-size:120%\">\n",
    "                <font color=\"#21618C\">\n",
    "                    <b>Read and display data to get an insight into the data.</b>\n",
    "                </font>\n",
    "            </div>\n",
    "        </td>\n",
    "    </tr>\n",
    "</table>"
   ]
  },
  {
   "cell_type": "code",
   "execution_count": 115,
   "metadata": {},
   "outputs": [
    {
     "data": {
      "text/plain": [
       "'F:\\\\Python Learning\\\\Imarticus\\\\Projects\\\\Logistic Regression\\\\Solution'"
      ]
     },
     "execution_count": 115,
     "metadata": {},
     "output_type": "execute_result"
    }
   ],
   "source": [
    "import os\n",
    "os.getcwd()"
   ]
  },
  {
   "cell_type": "code",
   "execution_count": 116,
   "metadata": {
    "colab": {},
    "colab_type": "code",
    "id": "MDTwhMqAebnm"
   },
   "outputs": [
    {
     "data": {
      "text/html": [
       "<div>\n",
       "<style scoped>\n",
       "    .dataframe tbody tr th:only-of-type {\n",
       "        vertical-align: middle;\n",
       "    }\n",
       "\n",
       "    .dataframe tbody tr th {\n",
       "        vertical-align: top;\n",
       "    }\n",
       "\n",
       "    .dataframe thead th {\n",
       "        text-align: right;\n",
       "    }\n",
       "</style>\n",
       "<table border=\"1\" class=\"dataframe\">\n",
       "  <thead>\n",
       "    <tr style=\"text-align: right;\">\n",
       "      <th></th>\n",
       "      <th>unique_id</th>\n",
       "      <th>h1n1_worry</th>\n",
       "      <th>h1n1_awareness</th>\n",
       "      <th>antiviral_medication</th>\n",
       "      <th>contact_avoidance</th>\n",
       "      <th>bought_face_mask</th>\n",
       "      <th>wash_hands_frequently</th>\n",
       "      <th>avoid_large_gatherings</th>\n",
       "      <th>reduced_outside_home_cont</th>\n",
       "      <th>avoid_touch_face</th>\n",
       "      <th>dr_recc_h1n1_vacc</th>\n",
       "      <th>dr_recc_seasonal_vacc</th>\n",
       "      <th>chronic_medic_condition</th>\n",
       "      <th>cont_child_undr_6_mnths</th>\n",
       "      <th>is_health_worker</th>\n",
       "      <th>has_health_insur</th>\n",
       "      <th>is_h1n1_vacc_effective</th>\n",
       "      <th>is_h1n1_risky</th>\n",
       "      <th>sick_from_h1n1_vacc</th>\n",
       "      <th>is_seas_vacc_effective</th>\n",
       "      <th>is_seas_risky</th>\n",
       "      <th>sick_from_seas_vacc</th>\n",
       "      <th>age_bracket</th>\n",
       "      <th>qualification</th>\n",
       "      <th>race</th>\n",
       "      <th>sex</th>\n",
       "      <th>income_level</th>\n",
       "      <th>marital_status</th>\n",
       "      <th>housing_status</th>\n",
       "      <th>employment</th>\n",
       "      <th>census_msa</th>\n",
       "      <th>no_of_adults</th>\n",
       "      <th>no_of_children</th>\n",
       "      <th>h1n1_vaccine</th>\n",
       "    </tr>\n",
       "  </thead>\n",
       "  <tbody>\n",
       "    <tr>\n",
       "      <th>0</th>\n",
       "      <td>0</td>\n",
       "      <td>1.0</td>\n",
       "      <td>0.0</td>\n",
       "      <td>0.0</td>\n",
       "      <td>0.0</td>\n",
       "      <td>0.0</td>\n",
       "      <td>0.0</td>\n",
       "      <td>0.0</td>\n",
       "      <td>1.0</td>\n",
       "      <td>1.0</td>\n",
       "      <td>0.0</td>\n",
       "      <td>0.0</td>\n",
       "      <td>0.0</td>\n",
       "      <td>0.0</td>\n",
       "      <td>0.0</td>\n",
       "      <td>1.0</td>\n",
       "      <td>3.0</td>\n",
       "      <td>1.0</td>\n",
       "      <td>2.0</td>\n",
       "      <td>2.0</td>\n",
       "      <td>1.0</td>\n",
       "      <td>2.0</td>\n",
       "      <td>55 - 64 Years</td>\n",
       "      <td>&lt; 12 Years</td>\n",
       "      <td>White</td>\n",
       "      <td>Female</td>\n",
       "      <td>Below Poverty</td>\n",
       "      <td>Not Married</td>\n",
       "      <td>Own</td>\n",
       "      <td>Not in Labor Force</td>\n",
       "      <td>Non-MSA</td>\n",
       "      <td>0.0</td>\n",
       "      <td>0.0</td>\n",
       "      <td>0</td>\n",
       "    </tr>\n",
       "    <tr>\n",
       "      <th>1</th>\n",
       "      <td>1</td>\n",
       "      <td>3.0</td>\n",
       "      <td>2.0</td>\n",
       "      <td>0.0</td>\n",
       "      <td>1.0</td>\n",
       "      <td>0.0</td>\n",
       "      <td>1.0</td>\n",
       "      <td>0.0</td>\n",
       "      <td>1.0</td>\n",
       "      <td>1.0</td>\n",
       "      <td>0.0</td>\n",
       "      <td>0.0</td>\n",
       "      <td>0.0</td>\n",
       "      <td>0.0</td>\n",
       "      <td>0.0</td>\n",
       "      <td>1.0</td>\n",
       "      <td>5.0</td>\n",
       "      <td>4.0</td>\n",
       "      <td>4.0</td>\n",
       "      <td>4.0</td>\n",
       "      <td>2.0</td>\n",
       "      <td>4.0</td>\n",
       "      <td>35 - 44 Years</td>\n",
       "      <td>12 Years</td>\n",
       "      <td>White</td>\n",
       "      <td>Male</td>\n",
       "      <td>Below Poverty</td>\n",
       "      <td>Not Married</td>\n",
       "      <td>Rent</td>\n",
       "      <td>Employed</td>\n",
       "      <td>MSA, Not Principle  City</td>\n",
       "      <td>0.0</td>\n",
       "      <td>0.0</td>\n",
       "      <td>0</td>\n",
       "    </tr>\n",
       "    <tr>\n",
       "      <th>2</th>\n",
       "      <td>2</td>\n",
       "      <td>1.0</td>\n",
       "      <td>1.0</td>\n",
       "      <td>0.0</td>\n",
       "      <td>1.0</td>\n",
       "      <td>0.0</td>\n",
       "      <td>0.0</td>\n",
       "      <td>0.0</td>\n",
       "      <td>0.0</td>\n",
       "      <td>0.0</td>\n",
       "      <td>NaN</td>\n",
       "      <td>NaN</td>\n",
       "      <td>1.0</td>\n",
       "      <td>0.0</td>\n",
       "      <td>0.0</td>\n",
       "      <td>NaN</td>\n",
       "      <td>3.0</td>\n",
       "      <td>1.0</td>\n",
       "      <td>1.0</td>\n",
       "      <td>4.0</td>\n",
       "      <td>1.0</td>\n",
       "      <td>2.0</td>\n",
       "      <td>18 - 34 Years</td>\n",
       "      <td>College Graduate</td>\n",
       "      <td>White</td>\n",
       "      <td>Male</td>\n",
       "      <td>&lt;= $75,000, Above Poverty</td>\n",
       "      <td>Not Married</td>\n",
       "      <td>Own</td>\n",
       "      <td>Employed</td>\n",
       "      <td>MSA, Not Principle  City</td>\n",
       "      <td>2.0</td>\n",
       "      <td>0.0</td>\n",
       "      <td>0</td>\n",
       "    </tr>\n",
       "    <tr>\n",
       "      <th>3</th>\n",
       "      <td>3</td>\n",
       "      <td>1.0</td>\n",
       "      <td>1.0</td>\n",
       "      <td>0.0</td>\n",
       "      <td>1.0</td>\n",
       "      <td>0.0</td>\n",
       "      <td>1.0</td>\n",
       "      <td>1.0</td>\n",
       "      <td>0.0</td>\n",
       "      <td>0.0</td>\n",
       "      <td>0.0</td>\n",
       "      <td>1.0</td>\n",
       "      <td>1.0</td>\n",
       "      <td>0.0</td>\n",
       "      <td>0.0</td>\n",
       "      <td>NaN</td>\n",
       "      <td>3.0</td>\n",
       "      <td>3.0</td>\n",
       "      <td>5.0</td>\n",
       "      <td>5.0</td>\n",
       "      <td>4.0</td>\n",
       "      <td>1.0</td>\n",
       "      <td>65+ Years</td>\n",
       "      <td>12 Years</td>\n",
       "      <td>White</td>\n",
       "      <td>Female</td>\n",
       "      <td>Below Poverty</td>\n",
       "      <td>Not Married</td>\n",
       "      <td>Rent</td>\n",
       "      <td>Not in Labor Force</td>\n",
       "      <td>MSA, Principle City</td>\n",
       "      <td>0.0</td>\n",
       "      <td>0.0</td>\n",
       "      <td>0</td>\n",
       "    </tr>\n",
       "    <tr>\n",
       "      <th>4</th>\n",
       "      <td>4</td>\n",
       "      <td>2.0</td>\n",
       "      <td>1.0</td>\n",
       "      <td>0.0</td>\n",
       "      <td>1.0</td>\n",
       "      <td>0.0</td>\n",
       "      <td>1.0</td>\n",
       "      <td>1.0</td>\n",
       "      <td>0.0</td>\n",
       "      <td>1.0</td>\n",
       "      <td>0.0</td>\n",
       "      <td>0.0</td>\n",
       "      <td>0.0</td>\n",
       "      <td>0.0</td>\n",
       "      <td>0.0</td>\n",
       "      <td>NaN</td>\n",
       "      <td>3.0</td>\n",
       "      <td>3.0</td>\n",
       "      <td>2.0</td>\n",
       "      <td>3.0</td>\n",
       "      <td>1.0</td>\n",
       "      <td>4.0</td>\n",
       "      <td>45 - 54 Years</td>\n",
       "      <td>Some College</td>\n",
       "      <td>White</td>\n",
       "      <td>Female</td>\n",
       "      <td>&lt;= $75,000, Above Poverty</td>\n",
       "      <td>Married</td>\n",
       "      <td>Own</td>\n",
       "      <td>Employed</td>\n",
       "      <td>MSA, Not Principle  City</td>\n",
       "      <td>1.0</td>\n",
       "      <td>0.0</td>\n",
       "      <td>0</td>\n",
       "    </tr>\n",
       "  </tbody>\n",
       "</table>\n",
       "</div>"
      ],
      "text/plain": [
       "   unique_id  h1n1_worry  h1n1_awareness  antiviral_medication  \\\n",
       "0          0         1.0             0.0                   0.0   \n",
       "1          1         3.0             2.0                   0.0   \n",
       "2          2         1.0             1.0                   0.0   \n",
       "3          3         1.0             1.0                   0.0   \n",
       "4          4         2.0             1.0                   0.0   \n",
       "\n",
       "   contact_avoidance  bought_face_mask  wash_hands_frequently  \\\n",
       "0                0.0               0.0                    0.0   \n",
       "1                1.0               0.0                    1.0   \n",
       "2                1.0               0.0                    0.0   \n",
       "3                1.0               0.0                    1.0   \n",
       "4                1.0               0.0                    1.0   \n",
       "\n",
       "   avoid_large_gatherings  reduced_outside_home_cont  avoid_touch_face  \\\n",
       "0                     0.0                        1.0               1.0   \n",
       "1                     0.0                        1.0               1.0   \n",
       "2                     0.0                        0.0               0.0   \n",
       "3                     1.0                        0.0               0.0   \n",
       "4                     1.0                        0.0               1.0   \n",
       "\n",
       "   dr_recc_h1n1_vacc  dr_recc_seasonal_vacc  chronic_medic_condition  \\\n",
       "0                0.0                    0.0                      0.0   \n",
       "1                0.0                    0.0                      0.0   \n",
       "2                NaN                    NaN                      1.0   \n",
       "3                0.0                    1.0                      1.0   \n",
       "4                0.0                    0.0                      0.0   \n",
       "\n",
       "   cont_child_undr_6_mnths  is_health_worker  has_health_insur  \\\n",
       "0                      0.0               0.0               1.0   \n",
       "1                      0.0               0.0               1.0   \n",
       "2                      0.0               0.0               NaN   \n",
       "3                      0.0               0.0               NaN   \n",
       "4                      0.0               0.0               NaN   \n",
       "\n",
       "   is_h1n1_vacc_effective  is_h1n1_risky  sick_from_h1n1_vacc  \\\n",
       "0                     3.0            1.0                  2.0   \n",
       "1                     5.0            4.0                  4.0   \n",
       "2                     3.0            1.0                  1.0   \n",
       "3                     3.0            3.0                  5.0   \n",
       "4                     3.0            3.0                  2.0   \n",
       "\n",
       "   is_seas_vacc_effective  is_seas_risky  sick_from_seas_vacc    age_bracket  \\\n",
       "0                     2.0            1.0                  2.0  55 - 64 Years   \n",
       "1                     4.0            2.0                  4.0  35 - 44 Years   \n",
       "2                     4.0            1.0                  2.0  18 - 34 Years   \n",
       "3                     5.0            4.0                  1.0      65+ Years   \n",
       "4                     3.0            1.0                  4.0  45 - 54 Years   \n",
       "\n",
       "      qualification   race     sex               income_level marital_status  \\\n",
       "0        < 12 Years  White  Female              Below Poverty    Not Married   \n",
       "1          12 Years  White    Male              Below Poverty    Not Married   \n",
       "2  College Graduate  White    Male  <= $75,000, Above Poverty    Not Married   \n",
       "3          12 Years  White  Female              Below Poverty    Not Married   \n",
       "4      Some College  White  Female  <= $75,000, Above Poverty        Married   \n",
       "\n",
       "  housing_status          employment                census_msa  no_of_adults  \\\n",
       "0            Own  Not in Labor Force                   Non-MSA           0.0   \n",
       "1           Rent            Employed  MSA, Not Principle  City           0.0   \n",
       "2            Own            Employed  MSA, Not Principle  City           2.0   \n",
       "3           Rent  Not in Labor Force       MSA, Principle City           0.0   \n",
       "4            Own            Employed  MSA, Not Principle  City           1.0   \n",
       "\n",
       "   no_of_children  h1n1_vaccine  \n",
       "0             0.0             0  \n",
       "1             0.0             0  \n",
       "2             0.0             0  \n",
       "3             0.0             0  \n",
       "4             0.0             0  "
      ]
     },
     "execution_count": 116,
     "metadata": {},
     "output_type": "execute_result"
    }
   ],
   "source": [
    "# read the excel data file \n",
    "df_vaccine = pd.read_csv('../dataset/h1n1_vaccine_prediction.csv')\n",
    "\n",
    "# display the top 5 rows of the dataframe\n",
    "df_vaccine.head()\n",
    "\n",
    "# Note: To display more rows, example 10, use head(10)"
   ]
  },
  {
   "cell_type": "markdown",
   "metadata": {},
   "source": [
    "#### Dimensions of the data"
   ]
  },
  {
   "cell_type": "code",
   "execution_count": 117,
   "metadata": {},
   "outputs": [
    {
     "name": "stdout",
     "output_type": "stream",
     "text": [
      "<class 'pandas.core.frame.DataFrame'>\n",
      "RangeIndex: 26707 entries, 0 to 26706\n",
      "Data columns (total 34 columns):\n",
      " #   Column                     Non-Null Count  Dtype  \n",
      "---  ------                     --------------  -----  \n",
      " 0   unique_id                  26707 non-null  int64  \n",
      " 1   h1n1_worry                 26615 non-null  float64\n",
      " 2   h1n1_awareness             26591 non-null  float64\n",
      " 3   antiviral_medication       26636 non-null  float64\n",
      " 4   contact_avoidance          26499 non-null  float64\n",
      " 5   bought_face_mask           26688 non-null  float64\n",
      " 6   wash_hands_frequently      26665 non-null  float64\n",
      " 7   avoid_large_gatherings     26620 non-null  float64\n",
      " 8   reduced_outside_home_cont  26625 non-null  float64\n",
      " 9   avoid_touch_face           26579 non-null  float64\n",
      " 10  dr_recc_h1n1_vacc          24547 non-null  float64\n",
      " 11  dr_recc_seasonal_vacc      24547 non-null  float64\n",
      " 12  chronic_medic_condition    25736 non-null  float64\n",
      " 13  cont_child_undr_6_mnths    25887 non-null  float64\n",
      " 14  is_health_worker           25903 non-null  float64\n",
      " 15  has_health_insur           14433 non-null  float64\n",
      " 16  is_h1n1_vacc_effective     26316 non-null  float64\n",
      " 17  is_h1n1_risky              26319 non-null  float64\n",
      " 18  sick_from_h1n1_vacc        26312 non-null  float64\n",
      " 19  is_seas_vacc_effective     26245 non-null  float64\n",
      " 20  is_seas_risky              26193 non-null  float64\n",
      " 21  sick_from_seas_vacc        26170 non-null  float64\n",
      " 22  age_bracket                26707 non-null  object \n",
      " 23  qualification              25300 non-null  object \n",
      " 24  race                       26707 non-null  object \n",
      " 25  sex                        26707 non-null  object \n",
      " 26  income_level               22284 non-null  object \n",
      " 27  marital_status             25299 non-null  object \n",
      " 28  housing_status             24665 non-null  object \n",
      " 29  employment                 25244 non-null  object \n",
      " 30  census_msa                 26707 non-null  object \n",
      " 31  no_of_adults               26458 non-null  float64\n",
      " 32  no_of_children             26458 non-null  float64\n",
      " 33  h1n1_vaccine               26707 non-null  int64  \n",
      "dtypes: float64(23), int64(2), object(9)\n",
      "memory usage: 6.9+ MB\n"
     ]
    }
   ],
   "source": [
    "# 'shape' function gives the total number of rows and columns in the data\n",
    "df_vaccine.info()"
   ]
  },
  {
   "cell_type": "code",
   "execution_count": 118,
   "metadata": {},
   "outputs": [
    {
     "data": {
      "text/html": [
       "<div>\n",
       "<style scoped>\n",
       "    .dataframe tbody tr th:only-of-type {\n",
       "        vertical-align: middle;\n",
       "    }\n",
       "\n",
       "    .dataframe tbody tr th {\n",
       "        vertical-align: top;\n",
       "    }\n",
       "\n",
       "    .dataframe thead th {\n",
       "        text-align: right;\n",
       "    }\n",
       "</style>\n",
       "<table border=\"1\" class=\"dataframe\">\n",
       "  <thead>\n",
       "    <tr style=\"text-align: right;\">\n",
       "      <th></th>\n",
       "      <th>Count</th>\n",
       "      <th>Percent</th>\n",
       "    </tr>\n",
       "  </thead>\n",
       "  <tbody>\n",
       "    <tr>\n",
       "      <th>has_health_insur</th>\n",
       "      <td>12274</td>\n",
       "      <td>45.96</td>\n",
       "    </tr>\n",
       "    <tr>\n",
       "      <th>income_level</th>\n",
       "      <td>4423</td>\n",
       "      <td>16.56</td>\n",
       "    </tr>\n",
       "    <tr>\n",
       "      <th>dr_recc_h1n1_vacc</th>\n",
       "      <td>2160</td>\n",
       "      <td>8.09</td>\n",
       "    </tr>\n",
       "    <tr>\n",
       "      <th>dr_recc_seasonal_vacc</th>\n",
       "      <td>2160</td>\n",
       "      <td>8.09</td>\n",
       "    </tr>\n",
       "    <tr>\n",
       "      <th>housing_status</th>\n",
       "      <td>2042</td>\n",
       "      <td>7.65</td>\n",
       "    </tr>\n",
       "    <tr>\n",
       "      <th>employment</th>\n",
       "      <td>1463</td>\n",
       "      <td>5.48</td>\n",
       "    </tr>\n",
       "    <tr>\n",
       "      <th>marital_status</th>\n",
       "      <td>1408</td>\n",
       "      <td>5.27</td>\n",
       "    </tr>\n",
       "    <tr>\n",
       "      <th>qualification</th>\n",
       "      <td>1407</td>\n",
       "      <td>5.27</td>\n",
       "    </tr>\n",
       "    <tr>\n",
       "      <th>chronic_medic_condition</th>\n",
       "      <td>971</td>\n",
       "      <td>3.64</td>\n",
       "    </tr>\n",
       "    <tr>\n",
       "      <th>cont_child_undr_6_mnths</th>\n",
       "      <td>820</td>\n",
       "      <td>3.07</td>\n",
       "    </tr>\n",
       "    <tr>\n",
       "      <th>is_health_worker</th>\n",
       "      <td>804</td>\n",
       "      <td>3.01</td>\n",
       "    </tr>\n",
       "    <tr>\n",
       "      <th>sick_from_seas_vacc</th>\n",
       "      <td>537</td>\n",
       "      <td>2.01</td>\n",
       "    </tr>\n",
       "    <tr>\n",
       "      <th>is_seas_risky</th>\n",
       "      <td>514</td>\n",
       "      <td>1.92</td>\n",
       "    </tr>\n",
       "    <tr>\n",
       "      <th>is_seas_vacc_effective</th>\n",
       "      <td>462</td>\n",
       "      <td>1.73</td>\n",
       "    </tr>\n",
       "    <tr>\n",
       "      <th>sick_from_h1n1_vacc</th>\n",
       "      <td>395</td>\n",
       "      <td>1.48</td>\n",
       "    </tr>\n",
       "    <tr>\n",
       "      <th>is_h1n1_vacc_effective</th>\n",
       "      <td>391</td>\n",
       "      <td>1.46</td>\n",
       "    </tr>\n",
       "    <tr>\n",
       "      <th>is_h1n1_risky</th>\n",
       "      <td>388</td>\n",
       "      <td>1.45</td>\n",
       "    </tr>\n",
       "    <tr>\n",
       "      <th>no_of_children</th>\n",
       "      <td>249</td>\n",
       "      <td>0.93</td>\n",
       "    </tr>\n",
       "    <tr>\n",
       "      <th>no_of_adults</th>\n",
       "      <td>249</td>\n",
       "      <td>0.93</td>\n",
       "    </tr>\n",
       "    <tr>\n",
       "      <th>contact_avoidance</th>\n",
       "      <td>208</td>\n",
       "      <td>0.78</td>\n",
       "    </tr>\n",
       "    <tr>\n",
       "      <th>avoid_touch_face</th>\n",
       "      <td>128</td>\n",
       "      <td>0.48</td>\n",
       "    </tr>\n",
       "    <tr>\n",
       "      <th>h1n1_awareness</th>\n",
       "      <td>116</td>\n",
       "      <td>0.43</td>\n",
       "    </tr>\n",
       "    <tr>\n",
       "      <th>h1n1_worry</th>\n",
       "      <td>92</td>\n",
       "      <td>0.34</td>\n",
       "    </tr>\n",
       "    <tr>\n",
       "      <th>avoid_large_gatherings</th>\n",
       "      <td>87</td>\n",
       "      <td>0.33</td>\n",
       "    </tr>\n",
       "    <tr>\n",
       "      <th>reduced_outside_home_cont</th>\n",
       "      <td>82</td>\n",
       "      <td>0.31</td>\n",
       "    </tr>\n",
       "    <tr>\n",
       "      <th>antiviral_medication</th>\n",
       "      <td>71</td>\n",
       "      <td>0.27</td>\n",
       "    </tr>\n",
       "    <tr>\n",
       "      <th>wash_hands_frequently</th>\n",
       "      <td>42</td>\n",
       "      <td>0.16</td>\n",
       "    </tr>\n",
       "    <tr>\n",
       "      <th>bought_face_mask</th>\n",
       "      <td>19</td>\n",
       "      <td>0.07</td>\n",
       "    </tr>\n",
       "    <tr>\n",
       "      <th>census_msa</th>\n",
       "      <td>0</td>\n",
       "      <td>0.00</td>\n",
       "    </tr>\n",
       "    <tr>\n",
       "      <th>unique_id</th>\n",
       "      <td>0</td>\n",
       "      <td>0.00</td>\n",
       "    </tr>\n",
       "    <tr>\n",
       "      <th>sex</th>\n",
       "      <td>0</td>\n",
       "      <td>0.00</td>\n",
       "    </tr>\n",
       "    <tr>\n",
       "      <th>race</th>\n",
       "      <td>0</td>\n",
       "      <td>0.00</td>\n",
       "    </tr>\n",
       "    <tr>\n",
       "      <th>age_bracket</th>\n",
       "      <td>0</td>\n",
       "      <td>0.00</td>\n",
       "    </tr>\n",
       "    <tr>\n",
       "      <th>h1n1_vaccine</th>\n",
       "      <td>0</td>\n",
       "      <td>0.00</td>\n",
       "    </tr>\n",
       "  </tbody>\n",
       "</table>\n",
       "</div>"
      ],
      "text/plain": [
       "                           Count  Percent\n",
       "has_health_insur           12274    45.96\n",
       "income_level                4423    16.56\n",
       "dr_recc_h1n1_vacc           2160     8.09\n",
       "dr_recc_seasonal_vacc       2160     8.09\n",
       "housing_status              2042     7.65\n",
       "employment                  1463     5.48\n",
       "marital_status              1408     5.27\n",
       "qualification               1407     5.27\n",
       "chronic_medic_condition      971     3.64\n",
       "cont_child_undr_6_mnths      820     3.07\n",
       "is_health_worker             804     3.01\n",
       "sick_from_seas_vacc          537     2.01\n",
       "is_seas_risky                514     1.92\n",
       "is_seas_vacc_effective       462     1.73\n",
       "sick_from_h1n1_vacc          395     1.48\n",
       "is_h1n1_vacc_effective       391     1.46\n",
       "is_h1n1_risky                388     1.45\n",
       "no_of_children               249     0.93\n",
       "no_of_adults                 249     0.93\n",
       "contact_avoidance            208     0.78\n",
       "avoid_touch_face             128     0.48\n",
       "h1n1_awareness               116     0.43\n",
       "h1n1_worry                    92     0.34\n",
       "avoid_large_gatherings        87     0.33\n",
       "reduced_outside_home_cont     82     0.31\n",
       "antiviral_medication          71     0.27\n",
       "wash_hands_frequently         42     0.16\n",
       "bought_face_mask              19     0.07\n",
       "census_msa                     0     0.00\n",
       "unique_id                      0     0.00\n",
       "sex                            0     0.00\n",
       "race                           0     0.00\n",
       "age_bracket                    0     0.00\n",
       "h1n1_vaccine                   0     0.00"
      ]
     },
     "execution_count": 118,
     "metadata": {},
     "output_type": "execute_result"
    }
   ],
   "source": [
    "## Missing values count\n",
    "navalues = pd.DataFrame(df_vaccine.isnull().sum(), columns=['Count'])\n",
    "navalues['Percent'] = round((navalues['Count']/df_vaccine.shape[0]) * 100, 2)\n",
    "navalues.sort_values('Percent', ascending=False)"
   ]
  },
  {
   "cell_type": "code",
   "execution_count": 119,
   "metadata": {},
   "outputs": [
    {
     "data": {
      "text/plain": [
       "0    21033\n",
       "1     5674\n",
       "Name: h1n1_vaccine, dtype: int64"
      ]
     },
     "execution_count": 119,
     "metadata": {},
     "output_type": "execute_result"
    }
   ],
   "source": [
    "df_vaccine.h1n1_vaccine.value_counts()"
   ]
  },
  {
   "cell_type": "markdown",
   "metadata": {
    "colab_type": "text",
    "id": "SSHIYKY2ebns"
   },
   "source": [
    "<a id='data_preparation'></a>\n",
    "# 4. Data Analysis and Preparation"
   ]
  },
  {
   "cell_type": "markdown",
   "metadata": {
    "colab_type": "text",
    "id": "l48tGdoxebnt"
   },
   "source": [
    "<table align=\"left\">\n",
    "    <tr>\n",
    "        <td width=\"8%\">\n",
    "            <img src=\"todo.png\">\n",
    "        </td>\n",
    "        <td>\n",
    "            <div align=\"left\", style=\"font-size:120%\">\n",
    "                <font color=\"#21618C\">\n",
    "                    <b>Data preparation is the process of cleaning and transforming raw data before building predictive models. <br><br>\n",
    "                        Here, we analyze and prepare data to perform classification techniques:<br>\n",
    "                        1. Check data types. Ensure your data types are correct. Refer data definitions to validate <br>\n",
    "                        2. If data types are not as per business definition, change the data types as per requirement <br>\n",
    "                        3. Study summary statistics<br>\n",
    "                        4. Distribution of variables<br>\n",
    "                        5. Study correlation<br>\n",
    "                        6. Detect outliers<br>\n",
    "                        7. Check for missing values<br><br>\n",
    "                        Note: It is an art to explore data, and one needs more and more practice to gain expertise in this area\n",
    "                    </b>\n",
    "                </font>\n",
    "            </div>\n",
    "        </td>\n",
    "    </tr>\n",
    "</table>"
   ]
  },
  {
   "cell_type": "markdown",
   "metadata": {
    "colab_type": "text",
    "id": "Y-baDwGWebnu"
   },
   "source": [
    "<a id='Data_Understanding'></a>\n",
    "## 4.1 Understand the Dataset"
   ]
  },
  {
   "cell_type": "markdown",
   "metadata": {
    "colab_type": "text",
    "id": "O71NsesEebn3"
   },
   "source": [
    "<a id='Data_Types'></a>\n",
    "### 4.1.1 Data Type\n",
    "The main data types in Pandas dataframes are the object, float, int64, bool, and datetime64. To understand each attribute of our data, it is always good for us to know the data type of each column."
   ]
  },
  {
   "cell_type": "markdown",
   "metadata": {},
   "source": [
    "<table align=\"left\">\n",
    "    <tr>\n",
    "        <td width=\"8%\">\n",
    "            <img src=\"todo.png\">\n",
    "        </td>\n",
    "        <td>\n",
    "            <div align=\"left\", style=\"font-size:120%\">\n",
    "                <font color=\"#21618C\">\n",
    "                    <b>In our dataset, we have numerical and categorical variables. The numeric variables should have data type 'int'/'float' while categorical variables should have data type 'object'.<br><br> \n",
    "                        1. Check for the data type <br>\n",
    "                        2. For any incorrect data type, change the data type with the appropriate type<br>\n",
    "                        3. Recheck for the data type\n",
    "                    </b>\n",
    "                </font>\n",
    "            </div>\n",
    "        </td>\n",
    "    </tr>\n",
    "</table>"
   ]
  },
  {
   "cell_type": "markdown",
   "metadata": {},
   "source": [
    "**1. Check for the data type**"
   ]
  },
  {
   "cell_type": "code",
   "execution_count": 120,
   "metadata": {
    "colab": {
     "base_uri": "https://localhost:8080/",
     "height": 442
    },
    "colab_type": "code",
    "id": "TnYrzq7Yebn4",
    "outputId": "4bb73ba1-917e-4175-f29d-72a57c788b84",
    "scrolled": false
   },
   "outputs": [
    {
     "data": {
      "text/plain": [
       "unique_id                      int64\n",
       "h1n1_worry                   float64\n",
       "h1n1_awareness               float64\n",
       "antiviral_medication         float64\n",
       "contact_avoidance            float64\n",
       "bought_face_mask             float64\n",
       "wash_hands_frequently        float64\n",
       "avoid_large_gatherings       float64\n",
       "reduced_outside_home_cont    float64\n",
       "avoid_touch_face             float64\n",
       "dr_recc_h1n1_vacc            float64\n",
       "dr_recc_seasonal_vacc        float64\n",
       "chronic_medic_condition      float64\n",
       "cont_child_undr_6_mnths      float64\n",
       "is_health_worker             float64\n",
       "has_health_insur             float64\n",
       "is_h1n1_vacc_effective       float64\n",
       "is_h1n1_risky                float64\n",
       "sick_from_h1n1_vacc          float64\n",
       "is_seas_vacc_effective       float64\n",
       "is_seas_risky                float64\n",
       "sick_from_seas_vacc          float64\n",
       "age_bracket                   object\n",
       "qualification                 object\n",
       "race                          object\n",
       "sex                           object\n",
       "income_level                  object\n",
       "marital_status                object\n",
       "housing_status                object\n",
       "employment                    object\n",
       "census_msa                    object\n",
       "no_of_adults                 float64\n",
       "no_of_children               float64\n",
       "h1n1_vaccine                   int64\n",
       "dtype: object"
      ]
     },
     "execution_count": 120,
     "metadata": {},
     "output_type": "execute_result"
    }
   ],
   "source": [
    "# 'dtypes' gives the data type for each column\n",
    "df_vaccine.dtypes"
   ]
  },
  {
   "cell_type": "markdown",
   "metadata": {
    "colab_type": "text",
    "id": "uvOvxensebn6"
   },
   "source": [
    "<table align=\"left\">\n",
    "    <tr>\n",
    "        <td width=\"8%\">\n",
    "            <img src=\"infer.png\">\n",
    "        </td>\n",
    "        <td>\n",
    "            <div align=\"left\", style=\"font-size:120%\">\n",
    "                <font color=\"#21618C\">\n",
    "                    <b>From the above output, it is clearly seen that the data type of variables 'unique_id' and 'h1n1_vaccine'is correctly identified as 'int64'.<br><br>\n",
    "                        However, variables like 'h1n1_worry', 'h1n1_awareness' etc are identified as float. But as per data attribute information we have, 'these variables are categorical, which are wrongly interpreted as float, so we convert these variables' data type to 'object'.</b>\n",
    "                </font>\n",
    "            </div>\n",
    "        </td>\n",
    "    </tr>\n",
    "</table>"
   ]
  },
  {
   "cell_type": "markdown",
   "metadata": {},
   "source": [
    "**2. Change the incorrect data type.**"
   ]
  },
  {
   "cell_type": "code",
   "execution_count": 121,
   "metadata": {},
   "outputs": [
    {
     "data": {
      "text/plain": [
       "23"
      ]
     },
     "execution_count": 121,
     "metadata": {},
     "output_type": "execute_result"
    }
   ],
   "source": [
    "numcols = df_vaccine.select_dtypes(include='float64').columns\n",
    "len(numcols)"
   ]
  },
  {
   "cell_type": "code",
   "execution_count": 122,
   "metadata": {},
   "outputs": [
    {
     "data": {
      "text/plain": [
       "9"
      ]
     },
     "execution_count": 122,
     "metadata": {},
     "output_type": "execute_result"
    }
   ],
   "source": [
    "catcols =  df_vaccine.select_dtypes(include='object').columns\n",
    "len(catcols)"
   ]
  },
  {
   "cell_type": "code",
   "execution_count": 123,
   "metadata": {},
   "outputs": [],
   "source": [
    "# use .astype() to change the data type\n",
    "df_vaccine[numcols] = df_vaccine[numcols].astype('object')"
   ]
  },
  {
   "cell_type": "markdown",
   "metadata": {
    "colab_type": "text",
    "id": "7rG9ZJ7bebn-"
   },
   "source": [
    "**3. Recheck the data type after the conversion.**"
   ]
  },
  {
   "cell_type": "code",
   "execution_count": 51,
   "metadata": {
    "colab": {
     "base_uri": "https://localhost:8080/",
     "height": 442
    },
    "colab_type": "code",
    "id": "Zp6_mQOBebn_",
    "outputId": "01c0bf54-e49e-4959-f839-127a94b1ad44",
    "scrolled": true
   },
   "outputs": [
    {
     "data": {
      "text/plain": [
       "unique_id                     int64\n",
       "h1n1_worry                   object\n",
       "h1n1_awareness               object\n",
       "antiviral_medication         object\n",
       "contact_avoidance            object\n",
       "bought_face_mask             object\n",
       "wash_hands_frequently        object\n",
       "avoid_large_gatherings       object\n",
       "reduced_outside_home_cont    object\n",
       "avoid_touch_face             object\n",
       "dr_recc_h1n1_vacc            object\n",
       "dr_recc_seasonal_vacc        object\n",
       "chronic_medic_condition      object\n",
       "cont_child_undr_6_mnths      object\n",
       "is_health_worker             object\n",
       "has_health_insur             object\n",
       "is_h1n1_vacc_effective       object\n",
       "is_h1n1_risky                object\n",
       "sick_from_h1n1_vacc          object\n",
       "is_seas_vacc_effective       object\n",
       "is_seas_risky                object\n",
       "sick_from_seas_vacc          object\n",
       "age_bracket                  object\n",
       "qualification                object\n",
       "race                         object\n",
       "sex                          object\n",
       "income_level                 object\n",
       "marital_status               object\n",
       "housing_status               object\n",
       "employment                   object\n",
       "census_msa                   object\n",
       "no_of_adults                 object\n",
       "no_of_children               object\n",
       "h1n1_vaccine                  int64\n",
       "dtype: object"
      ]
     },
     "execution_count": 51,
     "metadata": {},
     "output_type": "execute_result"
    }
   ],
   "source": [
    "# recheck the data types of all variables\n",
    "df_vaccine.dtypes"
   ]
  },
  {
   "cell_type": "code",
   "execution_count": 125,
   "metadata": {},
   "outputs": [
    {
     "data": {
      "text/plain": [
       "(26707, 34)"
      ]
     },
     "execution_count": 125,
     "metadata": {},
     "output_type": "execute_result"
    }
   ],
   "source": [
    "df_vac_backup = df_vaccine.copy(deep=True)\n",
    "df_vaccine.shape"
   ]
  },
  {
   "cell_type": "code",
   "execution_count": 109,
   "metadata": {},
   "outputs": [
    {
     "data": {
      "text/plain": [
       "(26707, 34)"
      ]
     },
     "execution_count": 109,
     "metadata": {},
     "output_type": "execute_result"
    }
   ],
   "source": [
    "df_vaccine = df_vav_backup.copy(deep=True)\n",
    "df_vaccine.shape"
   ]
  },
  {
   "cell_type": "code",
   "execution_count": 127,
   "metadata": {},
   "outputs": [
    {
     "data": {
      "text/plain": [
       "(26707, 33)"
      ]
     },
     "execution_count": 127,
     "metadata": {},
     "output_type": "execute_result"
    }
   ],
   "source": [
    "df_vaccine.drop('unique_id',axis=1,inplace=True)\n",
    "df_vaccine.shape"
   ]
  },
  {
   "cell_type": "code",
   "execution_count": 128,
   "metadata": {},
   "outputs": [
    {
     "data": {
      "text/plain": [
       "(26707, 9)"
      ]
     },
     "execution_count": 128,
     "metadata": {},
     "output_type": "execute_result"
    }
   ],
   "source": [
    "catcols_df = df_vaccine[catcols]\n",
    "catcols_df.shape"
   ]
  },
  {
   "cell_type": "code",
   "execution_count": 129,
   "metadata": {},
   "outputs": [
    {
     "data": {
      "text/plain": [
       "(26707, 24)"
      ]
     },
     "execution_count": 129,
     "metadata": {},
     "output_type": "execute_result"
    }
   ],
   "source": [
    "## Dropping all the categorical columns and unwanted columns\n",
    "df_vaccine.drop(catcols, axis=1, inplace= True)\n",
    "df_vaccine.shape\n"
   ]
  },
  {
   "cell_type": "code",
   "execution_count": 130,
   "metadata": {},
   "outputs": [
    {
     "data": {
      "text/plain": [
       "has_health_insur             12274\n",
       "dr_recc_h1n1_vacc             2160\n",
       "dr_recc_seasonal_vacc         2160\n",
       "chronic_medic_condition        971\n",
       "cont_child_undr_6_mnths        820\n",
       "is_health_worker               804\n",
       "sick_from_seas_vacc            537\n",
       "is_seas_risky                  514\n",
       "is_seas_vacc_effective         462\n",
       "sick_from_h1n1_vacc            395\n",
       "is_h1n1_vacc_effective         391\n",
       "is_h1n1_risky                  388\n",
       "no_of_adults                   249\n",
       "no_of_children                 249\n",
       "contact_avoidance              208\n",
       "avoid_touch_face               128\n",
       "h1n1_awareness                 116\n",
       "h1n1_worry                      92\n",
       "avoid_large_gatherings          87\n",
       "reduced_outside_home_cont       82\n",
       "antiviral_medication            71\n",
       "wash_hands_frequently           42\n",
       "bought_face_mask                19\n",
       "dtype: int64"
      ]
     },
     "execution_count": 130,
     "metadata": {},
     "output_type": "execute_result"
    }
   ],
   "source": [
    "nv = df_vaccine.isnull().sum()\n",
    "nv[nv > 0].sort_values(ascending=False)"
   ]
  },
  {
   "cell_type": "code",
   "execution_count": 133,
   "metadata": {},
   "outputs": [],
   "source": [
    "df_vaccine.dropna(inplace=True)  ## dropping the rows where some columns have missing values"
   ]
  },
  {
   "cell_type": "code",
   "execution_count": 134,
   "metadata": {},
   "outputs": [
    {
     "data": {
      "text/plain": [
       "(22976, 23)"
      ]
     },
     "execution_count": 134,
     "metadata": {},
     "output_type": "execute_result"
    }
   ],
   "source": [
    "df_vaccine.shape"
   ]
  },
  {
   "cell_type": "code",
   "execution_count": 135,
   "metadata": {},
   "outputs": [
    {
     "data": {
      "text/plain": [
       "0    0.77433\n",
       "1    0.22567\n",
       "Name: h1n1_vaccine, dtype: float64"
      ]
     },
     "execution_count": 135,
     "metadata": {},
     "output_type": "execute_result"
    }
   ],
   "source": [
    "df_vaccine.h1n1_vaccine.value_counts(normalize=True)"
   ]
  },
  {
   "cell_type": "markdown",
   "metadata": {},
   "source": [
    "### Building the basic model"
   ]
  },
  {
   "cell_type": "code",
   "execution_count": 136,
   "metadata": {},
   "outputs": [],
   "source": [
    "from sklearn.model_selection import train_test_split\n",
    "from sklearn.linear_model import LogisticRegression\n",
    "from sklearn.metrics import confusion_matrix, classification_report\n"
   ]
  },
  {
   "cell_type": "code",
   "execution_count": 195,
   "metadata": {},
   "outputs": [],
   "source": [
    "X = df_red.iloc[:,0:-1]\n",
    "y = df_red.iloc[:,-1]"
   ]
  },
  {
   "cell_type": "code",
   "execution_count": 196,
   "metadata": {},
   "outputs": [
    {
     "name": "stdout",
     "output_type": "stream",
     "text": [
      "(22976, 7) (22976,)\n"
     ]
    }
   ],
   "source": [
    "print(X.shape, y.shape)"
   ]
  },
  {
   "cell_type": "code",
   "execution_count": 197,
   "metadata": {},
   "outputs": [],
   "source": [
    "X_train, X_test, y_train, y_test = train_test_split(X, y, test_size=0.25, random_state = 100)"
   ]
  },
  {
   "cell_type": "code",
   "execution_count": 198,
   "metadata": {},
   "outputs": [],
   "source": [
    "## Initiate the model\n",
    "lr = LogisticRegression(C=2.0)\n",
    "lr.fit(X_train, y_train)\n",
    "\n",
    "train_pred = lr.predict(X_train)\n",
    "test_pred = lr.predict(X_test)"
   ]
  },
  {
   "cell_type": "code",
   "execution_count": 199,
   "metadata": {},
   "outputs": [
    {
     "name": "stdout",
     "output_type": "stream",
     "text": [
      "              precision    recall  f1-score   support\n",
      "\n",
      "           0       0.85      0.94      0.89     13332\n",
      "           1       0.67      0.43      0.52      3900\n",
      "\n",
      "    accuracy                           0.82     17232\n",
      "   macro avg       0.76      0.68      0.71     17232\n",
      "weighted avg       0.81      0.82      0.81     17232\n",
      "\n"
     ]
    }
   ],
   "source": [
    "print(classification_report(y_train, train_pred))"
   ]
  },
  {
   "cell_type": "code",
   "execution_count": 107,
   "metadata": {},
   "outputs": [
    {
     "data": {
      "text/plain": [
       "array([[12541,   802],\n",
       "       [ 2179,  1710]], dtype=int64)"
      ]
     },
     "execution_count": 107,
     "metadata": {},
     "output_type": "execute_result"
    }
   ],
   "source": [
    "confusion_matrix(y_train, train_pred)"
   ]
  },
  {
   "cell_type": "code",
   "execution_count": 104,
   "metadata": {},
   "outputs": [
    {
     "data": {
      "text/plain": [
       "0    13343\n",
       "1     3889\n",
       "Name: h1n1_vaccine, dtype: int64"
      ]
     },
     "execution_count": 104,
     "metadata": {},
     "output_type": "execute_result"
    }
   ],
   "source": [
    "y_train.value_counts()"
   ]
  },
  {
   "cell_type": "code",
   "execution_count": 90,
   "metadata": {},
   "outputs": [
    {
     "data": {
      "text/plain": [
       "0.4394445872975058"
      ]
     },
     "execution_count": 90,
     "metadata": {},
     "output_type": "execute_result"
    }
   ],
   "source": [
    "1709/3889"
   ]
  },
  {
   "cell_type": "code",
   "execution_count": 171,
   "metadata": {},
   "outputs": [
    {
     "data": {
      "text/plain": [
       "{'h1n1_worry': 0.10500920130139192,\n",
       " 'h1n1_awareness': 0.16853435641469128,\n",
       " 'bought_face_mask': 0.16657384856215496,\n",
       " 'wash_hands_frequently': 0.07453064903611382,\n",
       " 'avoid_large_gatherings': 0.2347016811557552,\n",
       " 'dr_recc_h1n1_vacc': 2.0315797180086332,\n",
       " 'dr_recc_seasonal_vacc': 0.5611853525377041,\n",
       " 'chronic_medic_condition': 0.16367812426200096,\n",
       " 'cont_child_undr_6_mnths': 0.2611809327546486,\n",
       " 'is_health_worker': 0.8071943073995029,\n",
       " 'is_h1n1_vacc_effective': 0.6134305959856765,\n",
       " 'is_h1n1_risky': 0.3619520366583085,\n",
       " 'is_seas_vacc_effective': 0.13345821014563497,\n",
       " 'is_seas_risky': 0.16608964672135743,\n",
       " 'sick_from_seas_vacc': 0.09534538648161044,\n",
       " 'no_of_children': 0.14597452267385222}"
      ]
     },
     "execution_count": 171,
     "metadata": {},
     "output_type": "execute_result"
    }
   ],
   "source": [
    "coef_dict = dict(zip(X_train.columns,abs(lr.coef_[0])))\n",
    "coef_dict"
   ]
  },
  {
   "cell_type": "code",
   "execution_count": 191,
   "metadata": {},
   "outputs": [
    {
     "data": {
      "text/plain": [
       "['avoid_large_gatherings',\n",
       " 'dr_recc_h1n1_vacc',\n",
       " 'dr_recc_seasonal_vacc',\n",
       " 'cont_child_undr_6_mnths',\n",
       " 'is_health_worker',\n",
       " 'is_h1n1_vacc_effective',\n",
       " 'is_h1n1_risky']"
      ]
     },
     "execution_count": 191,
     "metadata": {},
     "output_type": "execute_result"
    }
   ],
   "source": [
    "cols_to_be_dropped = [key for key, val in coef_dict.items() if val > .20]\n",
    "cols_to_be_dropped"
   ]
  },
  {
   "cell_type": "code",
   "execution_count": 192,
   "metadata": {},
   "outputs": [],
   "source": [
    "cols_to_be_dropped.append('h1n1_vaccine')"
   ]
  },
  {
   "cell_type": "code",
   "execution_count": 193,
   "metadata": {},
   "outputs": [
    {
     "data": {
      "text/plain": [
       "['avoid_large_gatherings',\n",
       " 'dr_recc_h1n1_vacc',\n",
       " 'dr_recc_seasonal_vacc',\n",
       " 'cont_child_undr_6_mnths',\n",
       " 'is_health_worker',\n",
       " 'is_h1n1_vacc_effective',\n",
       " 'is_h1n1_risky',\n",
       " 'h1n1_vaccine']"
      ]
     },
     "execution_count": 193,
     "metadata": {},
     "output_type": "execute_result"
    }
   ],
   "source": [
    "cols_to_be_dropped"
   ]
  },
  {
   "cell_type": "code",
   "execution_count": 194,
   "metadata": {},
   "outputs": [
    {
     "data": {
      "text/plain": [
       "(22976, 8)"
      ]
     },
     "execution_count": 194,
     "metadata": {},
     "output_type": "execute_result"
    }
   ],
   "source": [
    "df_red = df_vaccine[cols_to_be_dropped]\n",
    "df_red.shape"
   ]
  },
  {
   "cell_type": "code",
   "execution_count": 164,
   "metadata": {},
   "outputs": [
    {
     "ename": "NameError",
     "evalue": "name 'df_vaccing' is not defined",
     "output_type": "error",
     "traceback": [
      "\u001b[1;31m---------------------------------------------------------------------------\u001b[0m",
      "\u001b[1;31mNameError\u001b[0m                                 Traceback (most recent call last)",
      "\u001b[1;32m~\\AppData\\Local\\Temp/ipykernel_21140/3399872630.py\u001b[0m in \u001b[0;36m<module>\u001b[1;34m\u001b[0m\n\u001b[0;32m      1\u001b[0m \u001b[0mdf_vaccine\u001b[0m\u001b[1;33m.\u001b[0m\u001b[0mdrop\u001b[0m\u001b[1;33m(\u001b[0m\u001b[0mcols_to_be_dropped\u001b[0m\u001b[1;33m,\u001b[0m \u001b[0maxis\u001b[0m\u001b[1;33m=\u001b[0m\u001b[1;36m1\u001b[0m\u001b[1;33m,\u001b[0m \u001b[0minplace\u001b[0m\u001b[1;33m=\u001b[0m\u001b[1;32mTrue\u001b[0m\u001b[1;33m)\u001b[0m\u001b[1;33m\u001b[0m\u001b[1;33m\u001b[0m\u001b[0m\n\u001b[1;32m----> 2\u001b[1;33m \u001b[0mdf_vaccing\u001b[0m\u001b[1;33m.\u001b[0m\u001b[0mshape\u001b[0m\u001b[1;33m\u001b[0m\u001b[1;33m\u001b[0m\u001b[0m\n\u001b[0m",
      "\u001b[1;31mNameError\u001b[0m: name 'df_vaccing' is not defined"
     ]
    }
   ],
   "source": [
    "df_vaccine.drop(cols_to_be_dropped, axis=1, inplace=True)\n"
   ]
  },
  {
   "cell_type": "code",
   "execution_count": 165,
   "metadata": {},
   "outputs": [
    {
     "data": {
      "text/plain": [
       "(22976, 17)"
      ]
     },
     "execution_count": 165,
     "metadata": {},
     "output_type": "execute_result"
    }
   ],
   "source": [
    "df_vaccine.shape"
   ]
  },
  {
   "cell_type": "markdown",
   "metadata": {},
   "source": [
    "### Working with Categorical variables"
   ]
  },
  {
   "cell_type": "code",
   "execution_count": 201,
   "metadata": {},
   "outputs": [
    {
     "data": {
      "text/plain": [
       "(26707, 9)"
      ]
     },
     "execution_count": 201,
     "metadata": {},
     "output_type": "execute_result"
    }
   ],
   "source": [
    "catcols_df.shape"
   ]
  },
  {
   "cell_type": "code",
   "execution_count": 202,
   "metadata": {},
   "outputs": [
    {
     "data": {
      "text/plain": [
       "(22976, 8)"
      ]
     },
     "execution_count": 202,
     "metadata": {},
     "output_type": "execute_result"
    }
   ],
   "source": [
    "df_red.shape"
   ]
  },
  {
   "cell_type": "code",
   "execution_count": 204,
   "metadata": {},
   "outputs": [
    {
     "data": {
      "text/plain": [
       "(22976, 9)"
      ]
     },
     "execution_count": 204,
     "metadata": {},
     "output_type": "execute_result"
    }
   ],
   "source": [
    "## Selecting the non-null categorical values\n",
    "mask = df_red.index\n",
    "catcols_df1 = catcols_df.iloc[mask,:]\n",
    "catcols_df1.shape"
   ]
  },
  {
   "cell_type": "code",
   "execution_count": 206,
   "metadata": {},
   "outputs": [
    {
     "data": {
      "text/plain": [
       "qualification      478\n",
       "income_level      3015\n",
       "marital_status     471\n",
       "housing_status    1031\n",
       "employment         525\n",
       "dtype: int64"
      ]
     },
     "execution_count": 206,
     "metadata": {},
     "output_type": "execute_result"
    }
   ],
   "source": [
    "calnv = catcols_df1.isnull().sum()\n",
    "calnv[calnv > 0]"
   ]
  },
  {
   "cell_type": "code",
   "execution_count": 207,
   "metadata": {},
   "outputs": [
    {
     "data": {
      "text/plain": [
       "(19642, 9)"
      ]
     },
     "execution_count": 207,
     "metadata": {},
     "output_type": "execute_result"
    }
   ],
   "source": [
    "catcols_df1.dropna(inplace=True)\n",
    "catcols_df1.shape"
   ]
  },
  {
   "cell_type": "code",
   "execution_count": 208,
   "metadata": {},
   "outputs": [
    {
     "data": {
      "text/plain": [
       "(19642, 19)"
      ]
     },
     "execution_count": 208,
     "metadata": {},
     "output_type": "execute_result"
    }
   ],
   "source": [
    "dummy = pd.get_dummies(catcols_df1, drop_first = True)\n",
    "dummy.shape"
   ]
  },
  {
   "cell_type": "code",
   "execution_count": 212,
   "metadata": {},
   "outputs": [],
   "source": [
    "num_index = df_red.index"
   ]
  },
  {
   "cell_type": "code",
   "execution_count": 210,
   "metadata": {},
   "outputs": [],
   "source": [
    "cat_index = dummy.index\n",
    "#df_red = df_red.iloc[mask,:]"
   ]
  },
  {
   "cell_type": "code",
   "execution_count": 213,
   "metadata": {},
   "outputs": [
    {
     "data": {
      "text/plain": [
       "False"
      ]
     },
     "execution_count": 213,
     "metadata": {},
     "output_type": "execute_result"
    }
   ],
   "source": [
    "len(num_index) == len(cat_index)"
   ]
  },
  {
   "cell_type": "code",
   "execution_count": 217,
   "metadata": {},
   "outputs": [
    {
     "data": {
      "text/plain": [
       "[]"
      ]
     },
     "execution_count": 217,
     "metadata": {},
     "output_type": "execute_result"
    }
   ],
   "source": [
    "[idx for idx in cat_index if idx not in num_index]"
   ]
  },
  {
   "cell_type": "code",
   "execution_count": 220,
   "metadata": {},
   "outputs": [
    {
     "data": {
      "text/plain": [
       "(19642, 27)"
      ]
     },
     "execution_count": 220,
     "metadata": {},
     "output_type": "execute_result"
    }
   ],
   "source": [
    "df_red_new = df_red.loc[cat_index, :]\n",
    "\n",
    "df_new = pd.concat([df_red_new, dummy], axis=1)\n",
    "df_new.shape"
   ]
  },
  {
   "cell_type": "code",
   "execution_count": 221,
   "metadata": {},
   "outputs": [
    {
     "data": {
      "text/plain": [
       "Index(['avoid_large_gatherings', 'dr_recc_h1n1_vacc', 'dr_recc_seasonal_vacc',\n",
       "       'cont_child_undr_6_mnths', 'is_health_worker', 'is_h1n1_vacc_effective',\n",
       "       'is_h1n1_risky', 'h1n1_vaccine', 'age_bracket_35 - 44 Years',\n",
       "       'age_bracket_45 - 54 Years', 'age_bracket_55 - 64 Years',\n",
       "       'age_bracket_65+ Years', 'qualification_< 12 Years',\n",
       "       'qualification_College Graduate', 'qualification_Some College',\n",
       "       'race_Hispanic', 'race_Other or Multiple', 'race_White', 'sex_Male',\n",
       "       'income_level_> $75,000', 'income_level_Below Poverty',\n",
       "       'marital_status_Not Married', 'housing_status_Rent',\n",
       "       'employment_Not in Labor Force', 'employment_Unemployed',\n",
       "       'census_msa_MSA, Principle City', 'census_msa_Non-MSA'],\n",
       "      dtype='object')"
      ]
     },
     "execution_count": 221,
     "metadata": {},
     "output_type": "execute_result"
    }
   ],
   "source": [
    "df_new.columns"
   ]
  },
  {
   "cell_type": "code",
   "execution_count": 222,
   "metadata": {},
   "outputs": [],
   "source": [
    "X = df_new.drop('h1n1_vaccine', axis=1)\n",
    "y = df_new['h1n1_vaccine']"
   ]
  },
  {
   "cell_type": "code",
   "execution_count": 223,
   "metadata": {},
   "outputs": [
    {
     "name": "stdout",
     "output_type": "stream",
     "text": [
      "(19642, 26) (19642,)\n"
     ]
    }
   ],
   "source": [
    "print(X.shape, y.shape)"
   ]
  },
  {
   "cell_type": "code",
   "execution_count": 226,
   "metadata": {},
   "outputs": [],
   "source": [
    "X_train, X_test, y_train, y_test = train_test_split(X, y, test_size=.20, random_state=100)\n",
    "lr_new = LogisticRegression()"
   ]
  },
  {
   "cell_type": "code",
   "execution_count": 228,
   "metadata": {},
   "outputs": [],
   "source": [
    "lr_new.fit(X_train, y_train)\n",
    "train_pred = lr_new.predict(X_train)\n",
    "test_pred = lr_new.predict(X_test)"
   ]
  },
  {
   "cell_type": "code",
   "execution_count": 229,
   "metadata": {},
   "outputs": [
    {
     "name": "stdout",
     "output_type": "stream",
     "text": [
      "              precision    recall  f1-score   support\n",
      "\n",
      "           0       0.86      0.94      0.90     12131\n",
      "           1       0.70      0.46      0.56      3582\n",
      "\n",
      "    accuracy                           0.83     15713\n",
      "   macro avg       0.78      0.70      0.73     15713\n",
      "weighted avg       0.82      0.83      0.82     15713\n",
      "\n"
     ]
    }
   ],
   "source": [
    "print(classification_report(y_train, train_pred))"
   ]
  },
  {
   "cell_type": "code",
   "execution_count": 230,
   "metadata": {},
   "outputs": [
    {
     "data": {
      "text/plain": [
       "array([[11430,   701],\n",
       "       [ 1933,  1649]], dtype=int64)"
      ]
     },
     "execution_count": 230,
     "metadata": {},
     "output_type": "execute_result"
    }
   ],
   "source": [
    "confusion_matrix(y_train, train_pred)"
   ]
  },
  {
   "cell_type": "code",
   "execution_count": 234,
   "metadata": {},
   "outputs": [
    {
     "data": {
      "text/plain": [
       "0    12131\n",
       "1     3582\n",
       "Name: h1n1_vaccine, dtype: int64"
      ]
     },
     "execution_count": 234,
     "metadata": {},
     "output_type": "execute_result"
    }
   ],
   "source": [
    "y_train.value_counts()"
   ]
  },
  {
   "cell_type": "code",
   "execution_count": 235,
   "metadata": {},
   "outputs": [
    {
     "data": {
      "text/plain": [
       "0.9422141620641332"
      ]
     },
     "execution_count": 235,
     "metadata": {},
     "output_type": "execute_result"
    }
   ],
   "source": [
    "11430/12131"
   ]
  },
  {
   "cell_type": "markdown",
   "metadata": {},
   "source": [
    "### Using RFE (Recursive Feature Elimination"
   ]
  },
  {
   "cell_type": "code",
   "execution_count": 254,
   "metadata": {},
   "outputs": [],
   "source": [
    "## Importing the required library\n",
    "from sklearn.feature_selection import RFE\n",
    "from sklearn.preprocessing import StandardScaler\n",
    "from sklearn.linear_model import SGDClassifier"
   ]
  },
  {
   "cell_type": "code",
   "execution_count": 237,
   "metadata": {},
   "outputs": [],
   "source": [
    "sc = StandardScaler()"
   ]
  },
  {
   "cell_type": "code",
   "execution_count": 238,
   "metadata": {},
   "outputs": [],
   "source": [
    "X_train_std = sc.fit_transform(X_train)\n",
    "X_test_std = sc.transform(X_test)"
   ]
  },
  {
   "cell_type": "code",
   "execution_count": 252,
   "metadata": {},
   "outputs": [
    {
     "data": {
      "text/plain": [
       "(15713, 26)"
      ]
     },
     "execution_count": 252,
     "metadata": {},
     "output_type": "execute_result"
    }
   ],
   "source": [
    "X_train_std.shape"
   ]
  },
  {
   "cell_type": "code",
   "execution_count": 274,
   "metadata": {},
   "outputs": [
    {
     "name": "stdout",
     "output_type": "stream",
     "text": [
      "Fitting estimator with 26 features.\n",
      "Fitting estimator with 23 features.\n",
      "Fitting estimator with 20 features.\n",
      "Fitting estimator with 17 features.\n",
      "Fitting estimator with 14 features.\n"
     ]
    },
    {
     "data": {
      "text/plain": [
       "RFE(estimator=LogisticRegression(), n_features_to_select=12, step=3, verbose=1)"
      ]
     },
     "execution_count": 274,
     "metadata": {},
     "output_type": "execute_result"
    }
   ],
   "source": [
    "## Building the model with 2 features\n",
    "rfe = RFE(estimator=LogisticRegression(), n_features_to_select=12, step=3, verbose=1)\n",
    "\n",
    "rfe.fit(X_train_std, y_train)"
   ]
  },
  {
   "cell_type": "markdown",
   "metadata": {},
   "source": [
    "### Inspecting the rfe results.\n",
    "There are two parameters, rfe.support_ which will provide the selected features, and rfe.ranking_ will provide the ranking of all the features."
   ]
  },
  {
   "cell_type": "code",
   "execution_count": 275,
   "metadata": {},
   "outputs": [
    {
     "name": "stdout",
     "output_type": "stream",
     "text": [
      "Index(['avoid_large_gatherings', 'dr_recc_h1n1_vacc', 'dr_recc_seasonal_vacc',\n",
      "       'is_health_worker', 'is_h1n1_vacc_effective', 'is_h1n1_risky',\n",
      "       'age_bracket_55 - 64 Years', 'age_bracket_65+ Years',\n",
      "       'qualification_College Graduate', 'race_Other or Multiple',\n",
      "       'race_White', 'marital_status_Not Married'],\n",
      "      dtype='object')\n"
     ]
    }
   ],
   "source": [
    "## printing the selected features\n",
    "print(X.columns[rfe.support_])"
   ]
  },
  {
   "cell_type": "code",
   "execution_count": 276,
   "metadata": {},
   "outputs": [
    {
     "name": "stdout",
     "output_type": "stream",
     "text": [
      "{'avoid_large_gatherings': 1, 'dr_recc_h1n1_vacc': 1, 'dr_recc_seasonal_vacc': 1, 'cont_child_undr_6_mnths': 3, 'is_health_worker': 1, 'is_h1n1_vacc_effective': 1, 'is_h1n1_risky': 1, 'age_bracket_35 - 44 Years': 4, 'age_bracket_45 - 54 Years': 6, 'age_bracket_55 - 64 Years': 1, 'age_bracket_65+ Years': 1, 'qualification_< 12 Years': 3, 'qualification_College Graduate': 1, 'qualification_Some College': 3, 'race_Hispanic': 2, 'race_Other or Multiple': 1, 'race_White': 1, 'sex_Male': 2, 'income_level_> $75,000': 5, 'income_level_Below Poverty': 6, 'marital_status_Not Married': 1, 'housing_status_Rent': 5, 'employment_Not in Labor Force': 5, 'employment_Unemployed': 6, 'census_msa_MSA, Principle City': 4, 'census_msa_Non-MSA': 4}\n"
     ]
    }
   ],
   "source": [
    "## Printing the ranking of features\n",
    "print(dict(zip(X.columns, rfe.ranking_)))"
   ]
  },
  {
   "cell_type": "code",
   "execution_count": 277,
   "metadata": {},
   "outputs": [],
   "source": [
    "from sklearn.metrics import accuracy_score"
   ]
  },
  {
   "cell_type": "code",
   "execution_count": 278,
   "metadata": {},
   "outputs": [
    {
     "name": "stdout",
     "output_type": "stream",
     "text": [
      "0.8303952141538853\n"
     ]
    }
   ],
   "source": [
    "## Now let us predict test accuracy\n",
    "print(accuracy_score(y_train, rfe.predict(X_train_std)))"
   ]
  },
  {
   "cell_type": "code",
   "execution_count": 279,
   "metadata": {},
   "outputs": [
    {
     "name": "stdout",
     "output_type": "stream",
     "text": [
      "              precision    recall  f1-score   support\n",
      "\n",
      "           0       0.85      0.94      0.90     12131\n",
      "           1       0.70      0.45      0.55      3582\n",
      "\n",
      "    accuracy                           0.83     15713\n",
      "   macro avg       0.78      0.70      0.72     15713\n",
      "weighted avg       0.82      0.83      0.82     15713\n",
      "\n"
     ]
    }
   ],
   "source": [
    "## Now let us predict test accuracy\n",
    "print(classification_report(y_train, rfe.predict(X_train_std)))"
   ]
  },
  {
   "cell_type": "code",
   "execution_count": 280,
   "metadata": {},
   "outputs": [
    {
     "name": "stdout",
     "output_type": "stream",
     "text": [
      "0.8149656401119878\n"
     ]
    }
   ],
   "source": [
    "## Now let us predict test accuracy\n",
    "print(accuracy_score(y_test, rfe.predict(X_test_std)))"
   ]
  },
  {
   "cell_type": "code",
   "execution_count": 281,
   "metadata": {},
   "outputs": [
    {
     "name": "stdout",
     "output_type": "stream",
     "text": [
      "              precision    recall  f1-score   support\n",
      "\n",
      "           0       0.84      0.93      0.88      2997\n",
      "           1       0.66      0.45      0.53       932\n",
      "\n",
      "    accuracy                           0.81      3929\n",
      "   macro avg       0.75      0.69      0.71      3929\n",
      "weighted avg       0.80      0.81      0.80      3929\n",
      "\n"
     ]
    }
   ],
   "source": [
    "## Now let us predict test accuracy\n",
    "print(classification_report(y_test, rfe.predict(X_test_std)))"
   ]
  },
  {
   "cell_type": "markdown",
   "metadata": {},
   "source": [
    "### Finetuning the model using VarianceThreshold"
   ]
  },
  {
   "cell_type": "code",
   "execution_count": 282,
   "metadata": {},
   "outputs": [],
   "source": [
    "from sklearn.feature_selection import VarianceThreshold\n"
   ]
  },
  {
   "cell_type": "code",
   "execution_count": 286,
   "metadata": {},
   "outputs": [
    {
     "name": "stdout",
     "output_type": "stream",
     "text": [
      "(19642, 26)\n"
     ]
    }
   ],
   "source": [
    "sel = VarianceThreshold()\n",
    "X_scaled = sc.fit_transform(X)\n",
    "\n",
    "sel.fit(X_scaled)\n",
    "\n",
    "mask = sel.get_support()\n",
    "\n",
    "reduced_df = X.loc[:, mask]\n",
    "\n",
    "print(reduced_df.shape)"
   ]
  },
  {
   "cell_type": "markdown",
   "metadata": {
    "colab_type": "text",
    "id": "udGKF9feeboB"
   },
   "source": [
    "<table align=\"left\">\n",
    "    <tr>\n",
    "        <td width=\"8%\">\n",
    "           <img src=\"infer.png\">\n",
    "        </td>\n",
    "        <td>\n",
    "            <div align=\"left\", style=\"font-size:120%\">\n",
    "                <font color=\"#21618C\">\n",
    "                    <b>Now we have all the variables with corrected data type as required.</b>\n",
    "                </font>\n",
    "            </div>\n",
    "        </td>\n",
    "    </tr>\n",
    "</table>"
   ]
  },
  {
   "cell_type": "code",
   "execution_count": null,
   "metadata": {},
   "outputs": [],
   "source": []
  },
  {
   "cell_type": "markdown",
   "metadata": {},
   "source": [
    "<table align=\"left\">\n",
    "    <tr>\n",
    "        <td width=\"8%\">\n",
    "           <img src=\"infer.png\">\n",
    "        </td>\n",
    "        <td>\n",
    "            <div align=\"left\", style=\"font-size:120%\">\n",
    "                <font color=\"#21618C\">\n",
    "                    <b>The field 'unique_id' is a unique id of each of the survey respondents. We will drop this field as it will not be used in the analysis.</b>\n",
    "                </font>\n",
    "            </div>\n",
    "        </td>\n",
    "    </tr>\n",
    "</table>"
   ]
  },
  {
   "cell_type": "code",
   "execution_count": 31,
   "metadata": {},
   "outputs": [],
   "source": [
    "#drop the field 'unique_id'\n",
    "# axis=1: it stands for column\n",
    "# inplace=True: it perform operations on original data\n",
    "df_vaccine.drop('unique_id', axis=1, inplace=True)"
   ]
  },
  {
   "cell_type": "code",
   "execution_count": 32,
   "metadata": {},
   "outputs": [
    {
     "data": {
      "text/plain": [
       "(26707, 33)"
      ]
     },
     "execution_count": 32,
     "metadata": {},
     "output_type": "execute_result"
    }
   ],
   "source": [
    "#verify the shape\n",
    "df_vaccine.shape"
   ]
  },
  {
   "cell_type": "markdown",
   "metadata": {},
   "source": [
    "<table align=\"left\">\n",
    "    <tr>\n",
    "        <td width=\"8%\">\n",
    "            <img src=\"todo.png\">\n",
    "        </td>\n",
    "        <td>\n",
    "            <div align=\"left\", style=\"font-size:120%\">\n",
    "                <font color=\"#21618C\">\n",
    "                    <b>For convenience, we shall split the target variable from the data frame.\n",
    "Let dataframe 'df_target' be the dataframe containing the dependent variable and dataframe 'df_features' be the set of all independent variables.</b>\n",
    "                </font>\n",
    "            </div>\n",
    "        </td>\n",
    "    </tr>\n",
    "</table>"
   ]
  },
  {
   "cell_type": "code",
   "execution_count": 33,
   "metadata": {},
   "outputs": [],
   "source": [
    "# splitting features and the target variable\n",
    "# consider all the columns except 'h1n1_vaccine' using 'iloc'\n",
    "df_features = df_vaccine.iloc[:, df_vaccine.columns != 'h1n1_vaccine']\n",
    "\n",
    "# consider the target variable\n",
    "df_target = df_vaccine.iloc[:, df_vaccine.columns == 'h1n1_vaccine']"
   ]
  },
  {
   "cell_type": "markdown",
   "metadata": {},
   "source": [
    "Use the dataframe containing features (df_features) for further analysis."
   ]
  },
  {
   "cell_type": "markdown",
   "metadata": {
    "colab_type": "text",
    "id": "BFOkFedXeboC"
   },
   "source": [
    "<a id='Summary_Statistics'></a>\n",
    "### 4.1.2 Summary Statistics"
   ]
  },
  {
   "cell_type": "markdown",
   "metadata": {},
   "source": [
    "<table align=\"left\">\n",
    "    <tr>\n",
    "        <td width=\"8%\">\n",
    "            <img src=\"todo.png\">\n",
    "        </td>\n",
    "        <td>\n",
    "            <div align=\"left\", style=\"font-size:120%\">\n",
    "                <font color=\"#21618C\">\n",
    "                    <b> In our dataset df_features, all the variables are categorical variables. We check for summary statistics :<br><br>\n",
    "                        1. For categorical variables, using the describe()<br>\n",
    "                        As all variables are categorical, it returns the summary statistics of such variables without having to use describe(include=object) \n",
    "                        </b>\n",
    "                </font>\n",
    "            </div>\n",
    "        </td>\n",
    "    </tr>\n",
    "</table>"
   ]
  },
  {
   "cell_type": "markdown",
   "metadata": {},
   "source": [
    "**1. For numerical variables, use the describe()**"
   ]
  },
  {
   "cell_type": "code",
   "execution_count": 35,
   "metadata": {
    "colab": {},
    "colab_type": "code",
    "id": "BCq-Il09eboC",
    "outputId": "a7837b7a-f994-4ad1-d962-be936a04043e",
    "scrolled": true
   },
   "outputs": [
    {
     "data": {
      "text/html": [
       "<div>\n",
       "<style scoped>\n",
       "    .dataframe tbody tr th:only-of-type {\n",
       "        vertical-align: middle;\n",
       "    }\n",
       "\n",
       "    .dataframe tbody tr th {\n",
       "        vertical-align: top;\n",
       "    }\n",
       "\n",
       "    .dataframe thead th {\n",
       "        text-align: right;\n",
       "    }\n",
       "</style>\n",
       "<table border=\"1\" class=\"dataframe\">\n",
       "  <thead>\n",
       "    <tr style=\"text-align: right;\">\n",
       "      <th></th>\n",
       "      <th>count</th>\n",
       "      <th>unique</th>\n",
       "      <th>top</th>\n",
       "      <th>freq</th>\n",
       "    </tr>\n",
       "  </thead>\n",
       "  <tbody>\n",
       "    <tr>\n",
       "      <th>h1n1_worry</th>\n",
       "      <td>26615.0</td>\n",
       "      <td>4.0</td>\n",
       "      <td>2.0</td>\n",
       "      <td>10575.0</td>\n",
       "    </tr>\n",
       "    <tr>\n",
       "      <th>h1n1_awareness</th>\n",
       "      <td>26591.0</td>\n",
       "      <td>3.0</td>\n",
       "      <td>1.0</td>\n",
       "      <td>14598.0</td>\n",
       "    </tr>\n",
       "    <tr>\n",
       "      <th>antiviral_medication</th>\n",
       "      <td>26636.0</td>\n",
       "      <td>2.0</td>\n",
       "      <td>0.0</td>\n",
       "      <td>25335.0</td>\n",
       "    </tr>\n",
       "    <tr>\n",
       "      <th>contact_avoidance</th>\n",
       "      <td>26499.0</td>\n",
       "      <td>2.0</td>\n",
       "      <td>1.0</td>\n",
       "      <td>19228.0</td>\n",
       "    </tr>\n",
       "    <tr>\n",
       "      <th>bought_face_mask</th>\n",
       "      <td>26688.0</td>\n",
       "      <td>2.0</td>\n",
       "      <td>0.0</td>\n",
       "      <td>24847.0</td>\n",
       "    </tr>\n",
       "    <tr>\n",
       "      <th>wash_hands_frequently</th>\n",
       "      <td>26665.0</td>\n",
       "      <td>2.0</td>\n",
       "      <td>1.0</td>\n",
       "      <td>22015.0</td>\n",
       "    </tr>\n",
       "    <tr>\n",
       "      <th>avoid_large_gatherings</th>\n",
       "      <td>26620.0</td>\n",
       "      <td>2.0</td>\n",
       "      <td>0.0</td>\n",
       "      <td>17073.0</td>\n",
       "    </tr>\n",
       "    <tr>\n",
       "      <th>reduced_outside_home_cont</th>\n",
       "      <td>26625.0</td>\n",
       "      <td>2.0</td>\n",
       "      <td>0.0</td>\n",
       "      <td>17644.0</td>\n",
       "    </tr>\n",
       "    <tr>\n",
       "      <th>avoid_touch_face</th>\n",
       "      <td>26579.0</td>\n",
       "      <td>2.0</td>\n",
       "      <td>1.0</td>\n",
       "      <td>18001.0</td>\n",
       "    </tr>\n",
       "    <tr>\n",
       "      <th>dr_recc_h1n1_vacc</th>\n",
       "      <td>24547.0</td>\n",
       "      <td>2.0</td>\n",
       "      <td>0.0</td>\n",
       "      <td>19139.0</td>\n",
       "    </tr>\n",
       "    <tr>\n",
       "      <th>dr_recc_seasonal_vacc</th>\n",
       "      <td>24547.0</td>\n",
       "      <td>2.0</td>\n",
       "      <td>0.0</td>\n",
       "      <td>16453.0</td>\n",
       "    </tr>\n",
       "    <tr>\n",
       "      <th>chronic_medic_condition</th>\n",
       "      <td>25736.0</td>\n",
       "      <td>2.0</td>\n",
       "      <td>0.0</td>\n",
       "      <td>18446.0</td>\n",
       "    </tr>\n",
       "    <tr>\n",
       "      <th>cont_child_undr_6_mnths</th>\n",
       "      <td>25887.0</td>\n",
       "      <td>2.0</td>\n",
       "      <td>0.0</td>\n",
       "      <td>23749.0</td>\n",
       "    </tr>\n",
       "    <tr>\n",
       "      <th>is_health_worker</th>\n",
       "      <td>25903.0</td>\n",
       "      <td>2.0</td>\n",
       "      <td>0.0</td>\n",
       "      <td>23004.0</td>\n",
       "    </tr>\n",
       "    <tr>\n",
       "      <th>has_health_insur</th>\n",
       "      <td>14433.0</td>\n",
       "      <td>2.0</td>\n",
       "      <td>1.0</td>\n",
       "      <td>12697.0</td>\n",
       "    </tr>\n",
       "    <tr>\n",
       "      <th>is_h1n1_vacc_effective</th>\n",
       "      <td>26316.0</td>\n",
       "      <td>5.0</td>\n",
       "      <td>4.0</td>\n",
       "      <td>11683.0</td>\n",
       "    </tr>\n",
       "    <tr>\n",
       "      <th>is_h1n1_risky</th>\n",
       "      <td>26319.0</td>\n",
       "      <td>5.0</td>\n",
       "      <td>2.0</td>\n",
       "      <td>9919.0</td>\n",
       "    </tr>\n",
       "    <tr>\n",
       "      <th>sick_from_h1n1_vacc</th>\n",
       "      <td>26312.0</td>\n",
       "      <td>5.0</td>\n",
       "      <td>2.0</td>\n",
       "      <td>9129.0</td>\n",
       "    </tr>\n",
       "    <tr>\n",
       "      <th>is_seas_vacc_effective</th>\n",
       "      <td>26245.0</td>\n",
       "      <td>5.0</td>\n",
       "      <td>4.0</td>\n",
       "      <td>11629.0</td>\n",
       "    </tr>\n",
       "    <tr>\n",
       "      <th>is_seas_risky</th>\n",
       "      <td>26193.0</td>\n",
       "      <td>5.0</td>\n",
       "      <td>2.0</td>\n",
       "      <td>8954.0</td>\n",
       "    </tr>\n",
       "    <tr>\n",
       "      <th>sick_from_seas_vacc</th>\n",
       "      <td>26170.0</td>\n",
       "      <td>5.0</td>\n",
       "      <td>1.0</td>\n",
       "      <td>11870.0</td>\n",
       "    </tr>\n",
       "    <tr>\n",
       "      <th>age_bracket</th>\n",
       "      <td>26707</td>\n",
       "      <td>5</td>\n",
       "      <td>65+ Years</td>\n",
       "      <td>6843</td>\n",
       "    </tr>\n",
       "    <tr>\n",
       "      <th>qualification</th>\n",
       "      <td>25300</td>\n",
       "      <td>4</td>\n",
       "      <td>College Graduate</td>\n",
       "      <td>10097</td>\n",
       "    </tr>\n",
       "    <tr>\n",
       "      <th>race</th>\n",
       "      <td>26707</td>\n",
       "      <td>4</td>\n",
       "      <td>White</td>\n",
       "      <td>21222</td>\n",
       "    </tr>\n",
       "    <tr>\n",
       "      <th>sex</th>\n",
       "      <td>26707</td>\n",
       "      <td>2</td>\n",
       "      <td>Female</td>\n",
       "      <td>15858</td>\n",
       "    </tr>\n",
       "    <tr>\n",
       "      <th>income_level</th>\n",
       "      <td>22284</td>\n",
       "      <td>3</td>\n",
       "      <td>&lt;= $75,000, Above Poverty</td>\n",
       "      <td>12777</td>\n",
       "    </tr>\n",
       "    <tr>\n",
       "      <th>marital_status</th>\n",
       "      <td>25299</td>\n",
       "      <td>2</td>\n",
       "      <td>Married</td>\n",
       "      <td>13555</td>\n",
       "    </tr>\n",
       "    <tr>\n",
       "      <th>housing_status</th>\n",
       "      <td>24665</td>\n",
       "      <td>2</td>\n",
       "      <td>Own</td>\n",
       "      <td>18736</td>\n",
       "    </tr>\n",
       "    <tr>\n",
       "      <th>employment</th>\n",
       "      <td>25244</td>\n",
       "      <td>3</td>\n",
       "      <td>Employed</td>\n",
       "      <td>13560</td>\n",
       "    </tr>\n",
       "    <tr>\n",
       "      <th>census_msa</th>\n",
       "      <td>26707</td>\n",
       "      <td>3</td>\n",
       "      <td>MSA, Not Principle  City</td>\n",
       "      <td>11645</td>\n",
       "    </tr>\n",
       "    <tr>\n",
       "      <th>no_of_adults</th>\n",
       "      <td>26458.0</td>\n",
       "      <td>4.0</td>\n",
       "      <td>1.0</td>\n",
       "      <td>14474.0</td>\n",
       "    </tr>\n",
       "    <tr>\n",
       "      <th>no_of_children</th>\n",
       "      <td>26458.0</td>\n",
       "      <td>4.0</td>\n",
       "      <td>0.0</td>\n",
       "      <td>18672.0</td>\n",
       "    </tr>\n",
       "  </tbody>\n",
       "</table>\n",
       "</div>"
      ],
      "text/plain": [
       "                             count unique                        top     freq\n",
       "h1n1_worry                 26615.0    4.0                        2.0  10575.0\n",
       "h1n1_awareness             26591.0    3.0                        1.0  14598.0\n",
       "antiviral_medication       26636.0    2.0                        0.0  25335.0\n",
       "contact_avoidance          26499.0    2.0                        1.0  19228.0\n",
       "bought_face_mask           26688.0    2.0                        0.0  24847.0\n",
       "wash_hands_frequently      26665.0    2.0                        1.0  22015.0\n",
       "avoid_large_gatherings     26620.0    2.0                        0.0  17073.0\n",
       "reduced_outside_home_cont  26625.0    2.0                        0.0  17644.0\n",
       "avoid_touch_face           26579.0    2.0                        1.0  18001.0\n",
       "dr_recc_h1n1_vacc          24547.0    2.0                        0.0  19139.0\n",
       "dr_recc_seasonal_vacc      24547.0    2.0                        0.0  16453.0\n",
       "chronic_medic_condition    25736.0    2.0                        0.0  18446.0\n",
       "cont_child_undr_6_mnths    25887.0    2.0                        0.0  23749.0\n",
       "is_health_worker           25903.0    2.0                        0.0  23004.0\n",
       "has_health_insur           14433.0    2.0                        1.0  12697.0\n",
       "is_h1n1_vacc_effective     26316.0    5.0                        4.0  11683.0\n",
       "is_h1n1_risky              26319.0    5.0                        2.0   9919.0\n",
       "sick_from_h1n1_vacc        26312.0    5.0                        2.0   9129.0\n",
       "is_seas_vacc_effective     26245.0    5.0                        4.0  11629.0\n",
       "is_seas_risky              26193.0    5.0                        2.0   8954.0\n",
       "sick_from_seas_vacc        26170.0    5.0                        1.0  11870.0\n",
       "age_bracket                  26707      5                  65+ Years     6843\n",
       "qualification                25300      4           College Graduate    10097\n",
       "race                         26707      4                      White    21222\n",
       "sex                          26707      2                     Female    15858\n",
       "income_level                 22284      3  <= $75,000, Above Poverty    12777\n",
       "marital_status               25299      2                    Married    13555\n",
       "housing_status               24665      2                        Own    18736\n",
       "employment                   25244      3                   Employed    13560\n",
       "census_msa                   26707      3   MSA, Not Principle  City    11645\n",
       "no_of_adults               26458.0    4.0                        1.0  14474.0\n",
       "no_of_children             26458.0    4.0                        0.0  18672.0"
      ]
     },
     "execution_count": 35,
     "metadata": {},
     "output_type": "execute_result"
    }
   ],
   "source": [
    "# the describe() returns the statistical summary of the variables\n",
    "# by default, it returns the summary of all categorical variables as tere are no numerical variables in the dataset\n",
    "# use .transpose() for better readability, however its optional\n",
    "df_features.describe().transpose()"
   ]
  },
  {
   "cell_type": "markdown",
   "metadata": {
    "colab_type": "text",
    "id": "BvaxGBkKeboF"
   },
   "source": [
    "<table align=\"left\">\n",
    "    <tr>\n",
    "        <td width=\"8%\">\n",
    "            <img src=\"infer.png\">\n",
    "        </td>\n",
    "        <td>\n",
    "            <div align=\"left\", style=\"font-size:120%\">\n",
    "                <font color=\"#21618C\">\n",
    "<b>The summary contains information about the total number of observations, number of unique classes, the most occurring class and frequency of the same.\n",
    "<br><br>\n",
    "    Let us consider the 'h1n1_worry' variable to see the statistics- <br>\n",
    "count: Number of observations i.e., 26615<br>\n",
    "unique: Number of unique values or classes in the variable i.e., it has 4 classes in it <br>\n",
    "top: The most occurring class in this variable is 2<br> \n",
    "frequency: Frequency of the most repeated class; out of 20000 observations 0 has a frequency of 10575\n",
    "                    </b>  \n",
    "               </font>\n",
    "            </div>\n",
    "        </td>\n",
    "    </tr>\n",
    "</table>"
   ]
  },
  {
   "cell_type": "markdown",
   "metadata": {},
   "source": [
    "<a id='distribution_variables'></a>\n",
    "### 4.1.3 Distribution of Variables"
   ]
  },
  {
   "cell_type": "markdown",
   "metadata": {},
   "source": [
    "<table align=\"left\">\n",
    "    <tr>\n",
    "        <td width=\"8%\">\n",
    "            <img src=\"todo.png\">\n",
    "        </td>\n",
    "        <td>\n",
    "            <div align=\"left\", style=\"font-size:120%\">\n",
    "                <font color=\"#21618C\">\n",
    "                    <b>Check the distribution of all the variables <br><br>\n",
    "                        1. Distribution of numeric independent variables<br>\n",
    "                        2. Distribution of categoric independent variables<br>\n",
    "                        3. Distribution of dependent variable\n",
    "                    </b>\n",
    "                </font>\n",
    "            </div>\n",
    "        </td>\n",
    "    </tr>\n",
    "</table>"
   ]
  },
  {
   "cell_type": "markdown",
   "metadata": {
    "colab_type": "text",
    "id": "-tWX9ptGeboe"
   },
   "source": [
    "#### 1. Distribution of numeric independent variables."
   ]
  },
  {
   "cell_type": "markdown",
   "metadata": {},
   "source": [
    "Since there are no independent numeric variables, we skip this step."
   ]
  },
  {
   "cell_type": "markdown",
   "metadata": {
    "colab_type": "text",
    "id": "v1hJh7QHebow"
   },
   "source": [
    "#### 2. Distribution of categorical independent variables."
   ]
  },
  {
   "cell_type": "markdown",
   "metadata": {},
   "source": [
    "For the independent categoric variables, we plot the bar plot to check the distribution of each variables."
   ]
  },
  {
   "cell_type": "code",
   "execution_count": 14,
   "metadata": {
    "colab": {},
    "colab_type": "code",
    "id": "G7HE9bl9eboz",
    "outputId": "1d6ec8fb-1114-4614-9c66-6d7d9104892b"
   },
   "outputs": [
    {
     "data": {
      "image/png": "[encoded data removed]",
      "text/plain": [
       "<Figure size 1800x2160 with 32 Axes>"
      ]
     },
     "metadata": {
      "needs_background": "light"
     },
     "output_type": "display_data"
    }
   ],
   "source": [
    "# create a list of all categorical variables\n",
    "# initiate an empty list to store the categorical variables\n",
    "categorical=[]\n",
    "\n",
    "# use for loop to check the data type of each variable\n",
    "for column in df_features:\n",
    "    \n",
    "    # use 'if' statement with condition to check the categorical type \n",
    "    if is_string_dtype(df_features[column]):\n",
    "        \n",
    "        # append the variables with 'categoric' data type in the list 'categorical'\n",
    "        categorical.append(column)\n",
    "\n",
    "# plot the count plot for each categorical variable \n",
    "# set the number of rows in the subplot using the parameter, 'nrows'\n",
    "# set the number of columns in the subplot using the parameter, 'ncols'\n",
    "# 'figsize' sets the figure size\n",
    "fig, ax = plt.subplots(nrows = 8, ncols = 4, figsize=(25, 30))\n",
    "\n",
    "# use for loop to plot the count plot for each variable\n",
    "for variable, subplot in zip(categorical, ax.flatten()):\n",
    "    \n",
    "    # use countplot() to plot the graph\n",
    "    # pass the axes for the plot to the parameter, 'ax'\n",
    "    sns.countplot(df_vaccine[variable], ax = subplot)\n",
    "\n",
    "# display the plot\n",
    "plt.show()"
   ]
  },
  {
   "cell_type": "markdown",
   "metadata": {},
   "source": [
    "<table align=\"left\">\n",
    "    <tr>\n",
    "        <td width=\"8%\">\n",
    "            <img src=\"infer.png\">\n",
    "        </td>\n",
    "        <td>\n",
    "            <div align=\"left\", style=\"font-size:120%\">\n",
    "                <font color=\"#21618C\">\n",
    "                    <b> Most of the variables are binary. A few variables have 3, 4 and even 5 categories, as seen above.</b>\n",
    "                </font>\n",
    "            </div>\n",
    "        </td>\n",
    "    </tr>\n",
    "</table>"
   ]
  },
  {
   "cell_type": "markdown",
   "metadata": {},
   "source": [
    "#### 3. Distribution of dependent variable."
   ]
  },
  {
   "cell_type": "markdown",
   "metadata": {},
   "source": [
    "In section 4.1.1, we have split the dependent variable (h1n1_vaccine) and created a dataframe 'df_target'. Use this dataframe to check the distribution of the target variable."
   ]
  },
  {
   "cell_type": "code",
   "execution_count": 15,
   "metadata": {
    "scrolled": true
   },
   "outputs": [
    {
     "data": {
      "text/plain": [
       "0    21033\n",
       "1     5674\n",
       "Name: h1n1_vaccine, dtype: int64"
      ]
     },
     "execution_count": 15,
     "metadata": {},
     "output_type": "execute_result"
    }
   ],
   "source": [
    "# get counts of 0's and 1's in the 'h1n1_vaccine' variable using 'value_counts()'\n",
    "# store the values in 'class_frequency'\n",
    "class_frequency = df_target.h1n1_vaccine.value_counts()\n",
    "class_frequency"
   ]
  },
  {
   "cell_type": "code",
   "execution_count": 16,
   "metadata": {
    "scrolled": false
   },
   "outputs": [
    {
     "data": {
      "image/png": "[encoded data removed]",
      "text/plain": [
       "<Figure size 1080x576 with 1 Axes>"
      ]
     },
     "metadata": {
      "needs_background": "light"
     },
     "output_type": "display_data"
    }
   ],
   "source": [
    "# plot the countplot of the variable 'h1n1_vaccine'\n",
    "sns.countplot(x = df_target.h1n1_vaccine)\n",
    "\n",
    "# use below code to print the values in the graph\n",
    "# 'x' and 'y' gives position of the text\n",
    "# 's' is the text on the plot\n",
    "plt.text(x = -0.05, y = df_target.h1n1_vaccine.value_counts()[0] + 30, s = str((class_frequency[0])*100/len(df_target.h1n1_vaccine)) + '%')\n",
    "plt.text(x = 0.95, y = df_target.h1n1_vaccine.value_counts()[1] +20, s = str((class_frequency[1])*100/len(df_target.h1n1_vaccine)) + '%')\n",
    "\n",
    "# add plot and axes labels\n",
    "# set text size using 'fontsize'\n",
    "plt.title('Count Plot for Target Variable (h1n1_vaccine)', fontsize = 15)\n",
    "plt.xlabel('Target Variable', fontsize = 15)\n",
    "plt.ylabel('Count', fontsize = 15)\n",
    "\n",
    "# to show the plot\n",
    "plt.show()"
   ]
  },
  {
   "cell_type": "markdown",
   "metadata": {},
   "source": [
    "<table align=\"left\">\n",
    "    <tr>\n",
    "        <td width=\"8%\">\n",
    "            <img src=\"infer.png\">\n",
    "        </td>\n",
    "        <td>\n",
    "            <div align=\"left\", style=\"font-size:120%\">\n",
    "                <font color=\"#21618C\">\n",
    "                    <b>There are a total of 26707 respondents who do not have taken the survey, and 5674 have taken the h1n1 flu vaccine. We see that the data set is  imbalanced between the two classes of the target variable.</b>\n",
    "                </font>\n",
    "            </div>\n",
    "        </td>\n",
    "    </tr>\n",
    "</table>"
   ]
  },
  {
   "cell_type": "markdown",
   "metadata": {
    "colab_type": "text",
    "id": "vkZahcS9eboQ"
   },
   "source": [
    "<a id='correlation'></a>\n",
    "### 4.1.4 Correlation"
   ]
  },
  {
   "cell_type": "markdown",
   "metadata": {
    "colab_type": "text",
    "id": "K_oo8YEAeboS"
   },
   "source": [
    "Correlation is a statistic that measures the degree to which two variables move with each other. A correlation coefficient near  1  indicates the strong relationship between them; a weak correlation indicates the extent to which one variable increases as the other decreases. Correlation among multiple variables can be represented in the form of a matrix. This allows us to see which variables are correlated. Since all the independent variables are categorical variables, we skip this step."
   ]
  },
  {
   "cell_type": "markdown",
   "metadata": {
    "colab_type": "text",
    "id": "G-aTB0DseboJ"
   },
   "source": [
    "<a id='Missing_Values'></a>\n",
    "### 4.1.5 Missing Values"
   ]
  },
  {
   "cell_type": "markdown",
   "metadata": {},
   "source": [
    "<table align=\"left\">\n",
    "    <tr>\n",
    "        <td width=\"8%\">\n",
    "            <img src=\"todo.png\">\n",
    "        </td>\n",
    "        <td>\n",
    "            <div align=\"left\", style=\"font-size:120%\">\n",
    "                <font color=\"#21618C\">\n",
    "                    <b>First, run a check for the presence of missing values and their percentage for each column. Then choose the right approach to remove them.</b>\n",
    "                </font>\n",
    "            </div>\n",
    "        </td>\n",
    "    </tr>\n",
    "</table>"
   ]
  },
  {
   "cell_type": "code",
   "execution_count": 17,
   "metadata": {
    "colab": {},
    "colab_type": "code",
    "id": "XsY-ydhgeboM",
    "outputId": "1287fead-9adc-4382-a939-bdba17105d0f"
   },
   "outputs": [
    {
     "data": {
      "text/html": [
       "<div>\n",
       "<style scoped>\n",
       "    .dataframe tbody tr th:only-of-type {\n",
       "        vertical-align: middle;\n",
       "    }\n",
       "\n",
       "    .dataframe tbody tr th {\n",
       "        vertical-align: top;\n",
       "    }\n",
       "\n",
       "    .dataframe thead th {\n",
       "        text-align: right;\n",
       "    }\n",
       "</style>\n",
       "<table border=\"1\" class=\"dataframe\">\n",
       "  <thead>\n",
       "    <tr style=\"text-align: right;\">\n",
       "      <th></th>\n",
       "      <th>Total</th>\n",
       "      <th>Percentage of Missing Values</th>\n",
       "    </tr>\n",
       "  </thead>\n",
       "  <tbody>\n",
       "    <tr>\n",
       "      <th>has_health_insur</th>\n",
       "      <td>12274</td>\n",
       "      <td>45.96</td>\n",
       "    </tr>\n",
       "    <tr>\n",
       "      <th>income_level</th>\n",
       "      <td>4423</td>\n",
       "      <td>16.56</td>\n",
       "    </tr>\n",
       "    <tr>\n",
       "      <th>dr_recc_h1n1_vacc</th>\n",
       "      <td>2160</td>\n",
       "      <td>8.09</td>\n",
       "    </tr>\n",
       "    <tr>\n",
       "      <th>dr_recc_seasonal_vacc</th>\n",
       "      <td>2160</td>\n",
       "      <td>8.09</td>\n",
       "    </tr>\n",
       "    <tr>\n",
       "      <th>housing_status</th>\n",
       "      <td>2042</td>\n",
       "      <td>7.65</td>\n",
       "    </tr>\n",
       "    <tr>\n",
       "      <th>employment</th>\n",
       "      <td>1463</td>\n",
       "      <td>5.48</td>\n",
       "    </tr>\n",
       "    <tr>\n",
       "      <th>marital_status</th>\n",
       "      <td>1408</td>\n",
       "      <td>5.27</td>\n",
       "    </tr>\n",
       "    <tr>\n",
       "      <th>qualification</th>\n",
       "      <td>1407</td>\n",
       "      <td>5.27</td>\n",
       "    </tr>\n",
       "    <tr>\n",
       "      <th>chronic_medic_condition</th>\n",
       "      <td>971</td>\n",
       "      <td>3.64</td>\n",
       "    </tr>\n",
       "    <tr>\n",
       "      <th>cont_child_undr_6_mnths</th>\n",
       "      <td>820</td>\n",
       "      <td>3.07</td>\n",
       "    </tr>\n",
       "    <tr>\n",
       "      <th>is_health_worker</th>\n",
       "      <td>804</td>\n",
       "      <td>3.01</td>\n",
       "    </tr>\n",
       "    <tr>\n",
       "      <th>sick_from_seas_vacc</th>\n",
       "      <td>537</td>\n",
       "      <td>2.01</td>\n",
       "    </tr>\n",
       "    <tr>\n",
       "      <th>is_seas_risky</th>\n",
       "      <td>514</td>\n",
       "      <td>1.92</td>\n",
       "    </tr>\n",
       "    <tr>\n",
       "      <th>is_seas_vacc_effective</th>\n",
       "      <td>462</td>\n",
       "      <td>1.73</td>\n",
       "    </tr>\n",
       "    <tr>\n",
       "      <th>sick_from_h1n1_vacc</th>\n",
       "      <td>395</td>\n",
       "      <td>1.48</td>\n",
       "    </tr>\n",
       "    <tr>\n",
       "      <th>is_h1n1_vacc_effective</th>\n",
       "      <td>391</td>\n",
       "      <td>1.46</td>\n",
       "    </tr>\n",
       "    <tr>\n",
       "      <th>is_h1n1_risky</th>\n",
       "      <td>388</td>\n",
       "      <td>1.45</td>\n",
       "    </tr>\n",
       "    <tr>\n",
       "      <th>no_of_adults</th>\n",
       "      <td>249</td>\n",
       "      <td>0.93</td>\n",
       "    </tr>\n",
       "    <tr>\n",
       "      <th>no_of_children</th>\n",
       "      <td>249</td>\n",
       "      <td>0.93</td>\n",
       "    </tr>\n",
       "    <tr>\n",
       "      <th>contact_avoidance</th>\n",
       "      <td>208</td>\n",
       "      <td>0.78</td>\n",
       "    </tr>\n",
       "    <tr>\n",
       "      <th>avoid_touch_face</th>\n",
       "      <td>128</td>\n",
       "      <td>0.48</td>\n",
       "    </tr>\n",
       "    <tr>\n",
       "      <th>h1n1_awareness</th>\n",
       "      <td>116</td>\n",
       "      <td>0.43</td>\n",
       "    </tr>\n",
       "    <tr>\n",
       "      <th>h1n1_worry</th>\n",
       "      <td>92</td>\n",
       "      <td>0.34</td>\n",
       "    </tr>\n",
       "    <tr>\n",
       "      <th>avoid_large_gatherings</th>\n",
       "      <td>87</td>\n",
       "      <td>0.33</td>\n",
       "    </tr>\n",
       "    <tr>\n",
       "      <th>reduced_outside_home_cont</th>\n",
       "      <td>82</td>\n",
       "      <td>0.31</td>\n",
       "    </tr>\n",
       "    <tr>\n",
       "      <th>antiviral_medication</th>\n",
       "      <td>71</td>\n",
       "      <td>0.27</td>\n",
       "    </tr>\n",
       "    <tr>\n",
       "      <th>wash_hands_frequently</th>\n",
       "      <td>42</td>\n",
       "      <td>0.16</td>\n",
       "    </tr>\n",
       "    <tr>\n",
       "      <th>bought_face_mask</th>\n",
       "      <td>19</td>\n",
       "      <td>0.07</td>\n",
       "    </tr>\n",
       "  </tbody>\n",
       "</table>\n",
       "</div>"
      ],
      "text/plain": [
       "                           Total  Percentage of Missing Values\n",
       "has_health_insur           12274                         45.96\n",
       "income_level                4423                         16.56\n",
       "dr_recc_h1n1_vacc           2160                          8.09\n",
       "dr_recc_seasonal_vacc       2160                          8.09\n",
       "housing_status              2042                          7.65\n",
       "employment                  1463                          5.48\n",
       "marital_status              1408                          5.27\n",
       "qualification               1407                          5.27\n",
       "chronic_medic_condition      971                          3.64\n",
       "cont_child_undr_6_mnths      820                          3.07\n",
       "is_health_worker             804                          3.01\n",
       "sick_from_seas_vacc          537                          2.01\n",
       "is_seas_risky                514                          1.92\n",
       "is_seas_vacc_effective       462                          1.73\n",
       "sick_from_h1n1_vacc          395                          1.48\n",
       "is_h1n1_vacc_effective       391                          1.46\n",
       "is_h1n1_risky                388                          1.45\n",
       "no_of_adults                 249                          0.93\n",
       "no_of_children               249                          0.93\n",
       "contact_avoidance            208                          0.78\n",
       "avoid_touch_face             128                          0.48\n",
       "h1n1_awareness               116                          0.43\n",
       "h1n1_worry                    92                          0.34\n",
       "avoid_large_gatherings        87                          0.33\n",
       "reduced_outside_home_cont     82                          0.31\n",
       "antiviral_medication          71                          0.27\n",
       "wash_hands_frequently         42                          0.16\n",
       "bought_face_mask              19                          0.07"
      ]
     },
     "execution_count": 17,
     "metadata": {},
     "output_type": "execute_result"
    }
   ],
   "source": [
    "# sort the variables on the basis of total null values in the variable\n",
    "# 'isnull().sum()' returns the number of missing values in each variable\n",
    "# 'ascending = False' sorts values in the descending order\n",
    "# the variable with highest number of missing values will appear first\n",
    "Total = df_vaccine.isnull().sum().sort_values(ascending = False)          \n",
    "\n",
    "# calculate the percentage of missing values\n",
    "# 'ascending = False' sorts values in the descending order\n",
    "# the variable with highest percentage of missing values will appear first\n",
    "Percent = (df_vaccine.isnull().sum()*100/df_vaccine.isnull().count()).sort_values(ascending = False).round(2)\n",
    "\n",
    "# concat the 'Total' and 'Percent' columns using 'concat' function\n",
    "# 'keys' is the list of column names\n",
    "# 'axis = 1' concats along the columns\n",
    "missing_data = pd.concat([Total, Percent], axis = 1, keys = ['Total', 'Percentage of Missing Values'])    \n",
    "missing_data[missing_data.Total > 0]"
   ]
  },
  {
   "cell_type": "markdown",
   "metadata": {},
   "source": [
    "<table align=\"left\">\n",
    "    <tr>\n",
    "        <td width=\"8%\">\n",
    "            <img src=\"infer.png\">\n",
    "        </td>\n",
    "        <td>\n",
    "            <div align=\"left\", style=\"font-size:120%\">\n",
    "                <font color=\"#21618C\">\n",
    "                    <b>Only the variables 'age_bracket', 'race', 'sex', 'census_msa' and 'h1n1_vaccine' do not contain missing values. All other variables have missing values.</b>\n",
    "                </font>\n",
    "            </div>\n",
    "        </td>\n",
    "    </tr>\n",
    "</table>"
   ]
  },
  {
   "cell_type": "markdown",
   "metadata": {},
   "source": [
    "We plot a heatmap for visualization of missing values."
   ]
  },
  {
   "cell_type": "code",
   "execution_count": 18,
   "metadata": {},
   "outputs": [
    {
     "data": {
      "image/png": "[encoded data removed]",
      "text/plain": [
       "<Figure size 1080x576 with 1 Axes>"
      ]
     },
     "metadata": {
      "needs_background": "light"
     },
     "output_type": "display_data"
    }
   ],
   "source": [
    "# plot heatmap to check null values\n",
    "# 'cbar = False' does not show the color axis \n",
    "sns.heatmap(df_vaccine.isnull(), cbar=False)\n",
    "\n",
    "# display the plot\n",
    "plt.show()"
   ]
  },
  {
   "cell_type": "markdown",
   "metadata": {},
   "source": [
    "The horizontal lines in the heatmap correspond to the missing values."
   ]
  },
  {
   "cell_type": "markdown",
   "metadata": {},
   "source": [
    "<table align=\"left\">\n",
    "    <tr>\n",
    "        <td width=\"8%\">\n",
    "            <img src=\"quicktip.png\">\n",
    "        </td>\n",
    "        <td>\n",
    "            <div align=\"left\", style=\"font-size:120%\">\n",
    "                <font color=\"#21618C\">\n",
    "                    <b>How to deal with missing data?<br><br>\n",
    "\n",
    "\n",
    "Drop data<br>\n",
    "a. Drop the whole row<br>\n",
    "b. Drop the whole column<br><br>\n",
    "\n",
    "Replace data<br>\n",
    "\n",
    "a. Replace it by mean<br>\n",
    "\n",
    "b. Replace it by frequency<br>\n",
    "c. Replace it based on other functions<br><br>\n",
    "\n",
    "Whole columns should be dropped only if most entries in the column are empty. In our dataset, column has_health_insur has almost 46% missing values. Column income_level has 16% missing values. Hence dropping these two columns. Also columns dr_recc_h1n1_vacc and dr_recc_seasonal_vacc have 8% missing values. Has these two columns mostly tell about doctor's recommendation and not about the respondents, I choose to drop these two columns as well. As a execrcise we can re-run the model with these two columns later.</b>\n",
    "                </font>\n",
    "            </div>\n",
    "        </td>\n",
    "    </tr>\n",
    "</table>"
   ]
  },
  {
   "cell_type": "code",
   "execution_count": 19,
   "metadata": {},
   "outputs": [],
   "source": [
    "df_vaccine.drop(['has_health_insur','income_level','dr_recc_h1n1_vacc','dr_recc_seasonal_vacc'], axis=1, inplace=True)"
   ]
  },
  {
   "cell_type": "code",
   "execution_count": 20,
   "metadata": {},
   "outputs": [
    {
     "data": {
      "text/plain": [
       "(26707, 29)"
      ]
     },
     "execution_count": 20,
     "metadata": {},
     "output_type": "execute_result"
    }
   ],
   "source": [
    "df_vaccine.shape"
   ]
  },
  {
   "cell_type": "code",
   "execution_count": 21,
   "metadata": {},
   "outputs": [
    {
     "data": {
      "image/png": "[encoded data removed]",
      "text/plain": [
       "<Figure size 1080x576 with 1 Axes>"
      ]
     },
     "metadata": {
      "needs_background": "light"
     },
     "output_type": "display_data"
    }
   ],
   "source": [
    "sns.heatmap(df_vaccine.isnull(), cbar=False)\n",
    "plt.show()"
   ]
  },
  {
   "cell_type": "code",
   "execution_count": 22,
   "metadata": {},
   "outputs": [
    {
     "data": {
      "text/html": [
       "<div>\n",
       "<style scoped>\n",
       "    .dataframe tbody tr th:only-of-type {\n",
       "        vertical-align: middle;\n",
       "    }\n",
       "\n",
       "    .dataframe tbody tr th {\n",
       "        vertical-align: top;\n",
       "    }\n",
       "\n",
       "    .dataframe thead th {\n",
       "        text-align: right;\n",
       "    }\n",
       "</style>\n",
       "<table border=\"1\" class=\"dataframe\">\n",
       "  <thead>\n",
       "    <tr style=\"text-align: right;\">\n",
       "      <th></th>\n",
       "      <th>Total</th>\n",
       "      <th>Percentage of Missing Values</th>\n",
       "    </tr>\n",
       "  </thead>\n",
       "  <tbody>\n",
       "    <tr>\n",
       "      <th>housing_status</th>\n",
       "      <td>2042</td>\n",
       "      <td>7.65</td>\n",
       "    </tr>\n",
       "    <tr>\n",
       "      <th>employment</th>\n",
       "      <td>1463</td>\n",
       "      <td>5.48</td>\n",
       "    </tr>\n",
       "    <tr>\n",
       "      <th>marital_status</th>\n",
       "      <td>1408</td>\n",
       "      <td>5.27</td>\n",
       "    </tr>\n",
       "    <tr>\n",
       "      <th>qualification</th>\n",
       "      <td>1407</td>\n",
       "      <td>5.27</td>\n",
       "    </tr>\n",
       "    <tr>\n",
       "      <th>chronic_medic_condition</th>\n",
       "      <td>971</td>\n",
       "      <td>3.64</td>\n",
       "    </tr>\n",
       "    <tr>\n",
       "      <th>cont_child_undr_6_mnths</th>\n",
       "      <td>820</td>\n",
       "      <td>3.07</td>\n",
       "    </tr>\n",
       "    <tr>\n",
       "      <th>is_health_worker</th>\n",
       "      <td>804</td>\n",
       "      <td>3.01</td>\n",
       "    </tr>\n",
       "    <tr>\n",
       "      <th>sick_from_seas_vacc</th>\n",
       "      <td>537</td>\n",
       "      <td>2.01</td>\n",
       "    </tr>\n",
       "    <tr>\n",
       "      <th>is_seas_risky</th>\n",
       "      <td>514</td>\n",
       "      <td>1.92</td>\n",
       "    </tr>\n",
       "    <tr>\n",
       "      <th>is_seas_vacc_effective</th>\n",
       "      <td>462</td>\n",
       "      <td>1.73</td>\n",
       "    </tr>\n",
       "    <tr>\n",
       "      <th>sick_from_h1n1_vacc</th>\n",
       "      <td>395</td>\n",
       "      <td>1.48</td>\n",
       "    </tr>\n",
       "    <tr>\n",
       "      <th>is_h1n1_vacc_effective</th>\n",
       "      <td>391</td>\n",
       "      <td>1.46</td>\n",
       "    </tr>\n",
       "    <tr>\n",
       "      <th>is_h1n1_risky</th>\n",
       "      <td>388</td>\n",
       "      <td>1.45</td>\n",
       "    </tr>\n",
       "    <tr>\n",
       "      <th>no_of_adults</th>\n",
       "      <td>249</td>\n",
       "      <td>0.93</td>\n",
       "    </tr>\n",
       "    <tr>\n",
       "      <th>no_of_children</th>\n",
       "      <td>249</td>\n",
       "      <td>0.93</td>\n",
       "    </tr>\n",
       "    <tr>\n",
       "      <th>contact_avoidance</th>\n",
       "      <td>208</td>\n",
       "      <td>0.78</td>\n",
       "    </tr>\n",
       "    <tr>\n",
       "      <th>avoid_touch_face</th>\n",
       "      <td>128</td>\n",
       "      <td>0.48</td>\n",
       "    </tr>\n",
       "    <tr>\n",
       "      <th>h1n1_awareness</th>\n",
       "      <td>116</td>\n",
       "      <td>0.43</td>\n",
       "    </tr>\n",
       "    <tr>\n",
       "      <th>h1n1_worry</th>\n",
       "      <td>92</td>\n",
       "      <td>0.34</td>\n",
       "    </tr>\n",
       "    <tr>\n",
       "      <th>avoid_large_gatherings</th>\n",
       "      <td>87</td>\n",
       "      <td>0.33</td>\n",
       "    </tr>\n",
       "    <tr>\n",
       "      <th>reduced_outside_home_cont</th>\n",
       "      <td>82</td>\n",
       "      <td>0.31</td>\n",
       "    </tr>\n",
       "    <tr>\n",
       "      <th>antiviral_medication</th>\n",
       "      <td>71</td>\n",
       "      <td>0.27</td>\n",
       "    </tr>\n",
       "    <tr>\n",
       "      <th>wash_hands_frequently</th>\n",
       "      <td>42</td>\n",
       "      <td>0.16</td>\n",
       "    </tr>\n",
       "    <tr>\n",
       "      <th>bought_face_mask</th>\n",
       "      <td>19</td>\n",
       "      <td>0.07</td>\n",
       "    </tr>\n",
       "    <tr>\n",
       "      <th>age_bracket</th>\n",
       "      <td>0</td>\n",
       "      <td>0.00</td>\n",
       "    </tr>\n",
       "    <tr>\n",
       "      <th>race</th>\n",
       "      <td>0</td>\n",
       "      <td>0.00</td>\n",
       "    </tr>\n",
       "    <tr>\n",
       "      <th>sex</th>\n",
       "      <td>0</td>\n",
       "      <td>0.00</td>\n",
       "    </tr>\n",
       "    <tr>\n",
       "      <th>census_msa</th>\n",
       "      <td>0</td>\n",
       "      <td>0.00</td>\n",
       "    </tr>\n",
       "    <tr>\n",
       "      <th>h1n1_vaccine</th>\n",
       "      <td>0</td>\n",
       "      <td>0.00</td>\n",
       "    </tr>\n",
       "  </tbody>\n",
       "</table>\n",
       "</div>"
      ],
      "text/plain": [
       "                           Total  Percentage of Missing Values\n",
       "housing_status              2042                          7.65\n",
       "employment                  1463                          5.48\n",
       "marital_status              1408                          5.27\n",
       "qualification               1407                          5.27\n",
       "chronic_medic_condition      971                          3.64\n",
       "cont_child_undr_6_mnths      820                          3.07\n",
       "is_health_worker             804                          3.01\n",
       "sick_from_seas_vacc          537                          2.01\n",
       "is_seas_risky                514                          1.92\n",
       "is_seas_vacc_effective       462                          1.73\n",
       "sick_from_h1n1_vacc          395                          1.48\n",
       "is_h1n1_vacc_effective       391                          1.46\n",
       "is_h1n1_risky                388                          1.45\n",
       "no_of_adults                 249                          0.93\n",
       "no_of_children               249                          0.93\n",
       "contact_avoidance            208                          0.78\n",
       "avoid_touch_face             128                          0.48\n",
       "h1n1_awareness               116                          0.43\n",
       "h1n1_worry                    92                          0.34\n",
       "avoid_large_gatherings        87                          0.33\n",
       "reduced_outside_home_cont     82                          0.31\n",
       "antiviral_medication          71                          0.27\n",
       "wash_hands_frequently         42                          0.16\n",
       "bought_face_mask              19                          0.07\n",
       "age_bracket                    0                          0.00\n",
       "race                           0                          0.00\n",
       "sex                            0                          0.00\n",
       "census_msa                     0                          0.00\n",
       "h1n1_vaccine                   0                          0.00"
      ]
     },
     "execution_count": 22,
     "metadata": {},
     "output_type": "execute_result"
    }
   ],
   "source": [
    "missing_data.loc[df_vaccine.columns].sort_values(by='Total', ascending=False)"
   ]
  },
  {
   "cell_type": "code",
   "execution_count": 23,
   "metadata": {},
   "outputs": [],
   "source": [
    "df_vaccine.dropna(axis=0, inplace=True)"
   ]
  },
  {
   "cell_type": "code",
   "execution_count": 24,
   "metadata": {},
   "outputs": [
    {
     "data": {
      "text/plain": [
       "(23426, 29)"
      ]
     },
     "execution_count": 24,
     "metadata": {},
     "output_type": "execute_result"
    }
   ],
   "source": [
    "df_vaccine.shape"
   ]
  },
  {
   "cell_type": "markdown",
   "metadata": {},
   "source": [
    "After replacing the null values for both the variables, recheck the null values. "
   ]
  },
  {
   "cell_type": "code",
   "execution_count": 25,
   "metadata": {},
   "outputs": [
    {
     "data": {
      "image/png": "[encoded data removed]",
      "text/plain": [
       "<Figure size 1080x576 with 1 Axes>"
      ]
     },
     "metadata": {
      "needs_background": "light"
     },
     "output_type": "display_data"
    }
   ],
   "source": [
    "sns.heatmap(df_vaccine.isnull(), cbar=False)\n",
    "plt.show()"
   ]
  },
  {
   "cell_type": "code",
   "execution_count": 65,
   "metadata": {
    "scrolled": true
   },
   "outputs": [
    {
     "data": {
      "text/plain": [
       "Series([], dtype: int64)"
      ]
     },
     "execution_count": 65,
     "metadata": {},
     "output_type": "execute_result"
    }
   ],
   "source": [
    "# recheck the null values\n",
    "# 'isnull().sum()' returns the number of missing values in each variable\n",
    "df_vaccine.isnull().sum()[df_vaccine.isnull().sum() > 0]"
   ]
  },
  {
   "cell_type": "markdown",
   "metadata": {
    "colab_type": "text",
    "id": "Dogz55FZeboP"
   },
   "source": [
    "<table align=\"left\">\n",
    "    <tr>\n",
    "        <td width=\"8%\">\n",
    "            <img src=\"infer.png\">\n",
    "        </td>\n",
    "        <td>\n",
    "            <div align=\"left\", style=\"font-size:120%\">\n",
    "                <font color=\"#21618C\">\n",
    "                    <b> The above output shows that there are no missing values in the data.</b>\n",
    "                </font>\n",
    "            </div>\n",
    "        </td>\n",
    "    </tr>\n",
    "</table>"
   ]
  },
  {
   "cell_type": "markdown",
   "metadata": {},
   "source": [
    "<a id='Data_Preparation'></a>\n",
    "## 4.2 Prepare the Data"
   ]
  },
  {
   "cell_type": "markdown",
   "metadata": {},
   "source": [
    "To build the classification models, we need to encode the categorical variables using dummy encoding."
   ]
  },
  {
   "cell_type": "markdown",
   "metadata": {},
   "source": [
    "<table align=\"left\">\n",
    "    <tr>\n",
    "        <td width=\"8%\">\n",
    "            <img src=\"todo.png\">\n",
    "        </td>\n",
    "        <td>\n",
    "            <div align=\"left\", style=\"font-size:120%\">\n",
    "                <font color=\"#21618C\">\n",
    "                    <b> \n",
    "                  To dummy encode, we do the following: <br><br>\n",
    "                    1. Filter numerical and categorical variables<br>\n",
    "                    2. Dummy encode the categorical variables<br>\n",
    "                    3. Concatenate numerical and dummy encoded categorical variables</b>\n",
    "                </font>\n",
    "            </div>\n",
    "        </td>\n",
    "    </tr>\n",
    "</table>"
   ]
  },
  {
   "cell_type": "markdown",
   "metadata": {},
   "source": [
    "**1. Filter numerical and categorical variables **"
   ]
  },
  {
   "cell_type": "markdown",
   "metadata": {},
   "source": [
    "There are no numerical variables except the dependent variable(h1n1_vaccine)"
   ]
  },
  {
   "cell_type": "code",
   "execution_count": 27,
   "metadata": {},
   "outputs": [
    {
     "data": {
      "text/plain": [
       "h1n1_worry                   object\n",
       "h1n1_awareness               object\n",
       "antiviral_medication         object\n",
       "contact_avoidance            object\n",
       "bought_face_mask             object\n",
       "wash_hands_frequently        object\n",
       "avoid_large_gatherings       object\n",
       "reduced_outside_home_cont    object\n",
       "avoid_touch_face             object\n",
       "chronic_medic_condition      object\n",
       "cont_child_undr_6_mnths      object\n",
       "is_health_worker             object\n",
       "is_h1n1_vacc_effective       object\n",
       "is_h1n1_risky                object\n",
       "sick_from_h1n1_vacc          object\n",
       "is_seas_vacc_effective       object\n",
       "is_seas_risky                object\n",
       "sick_from_seas_vacc          object\n",
       "age_bracket                  object\n",
       "qualification                object\n",
       "race                         object\n",
       "sex                          object\n",
       "marital_status               object\n",
       "housing_status               object\n",
       "employment                   object\n",
       "census_msa                   object\n",
       "no_of_adults                 object\n",
       "no_of_children               object\n",
       "h1n1_vaccine                  int64\n",
       "dtype: object"
      ]
     },
     "execution_count": 27,
     "metadata": {},
     "output_type": "execute_result"
    }
   ],
   "source": [
    "df_vaccine.dtypes"
   ]
  },
  {
   "cell_type": "code",
   "execution_count": 28,
   "metadata": {},
   "outputs": [],
   "source": [
    "# create a list of all categorical variables\n",
    "# initiate an empty list to store the categorical variables\n",
    "categorical=[]\n",
    "\n",
    "# use for loop to check the data type of each variable\n",
    "for column in df_vaccine:\n",
    "    \n",
    "    # use 'if' statement with condition to check the categorical type \n",
    "    if is_string_dtype(df_vaccine[column]):\n",
    "        \n",
    "        # append the variables with 'categoric' data type in the list 'categorical'\n",
    "        categorical.append(column)"
   ]
  },
  {
   "cell_type": "code",
   "execution_count": 29,
   "metadata": {
    "colab": {},
    "colab_type": "code",
    "id": "DLtmzY72eboU"
   },
   "outputs": [],
   "source": [
    "# dataframe with categorical features\n",
    "# 'categorical' contains a list of categorical variables\n",
    "df_cat = df_vaccine[categorical]\n",
    "\n",
    "# dataframe with numerical features\n",
    "# use 'drop()' to drop the categorical variables\n",
    "# 'axis = 1' drops the corresponding column(s)\n",
    "df_num = df_vaccine.drop(categorical, axis = 1)"
   ]
  },
  {
   "cell_type": "markdown",
   "metadata": {},
   "source": [
    "**2. Dummy encode the categorical variables**"
   ]
  },
  {
   "cell_type": "code",
   "execution_count": 30,
   "metadata": {
    "scrolled": true
   },
   "outputs": [
    {
     "data": {
      "text/html": [
       "<div>\n",
       "<style scoped>\n",
       "    .dataframe tbody tr th:only-of-type {\n",
       "        vertical-align: middle;\n",
       "    }\n",
       "\n",
       "    .dataframe tbody tr th {\n",
       "        vertical-align: top;\n",
       "    }\n",
       "\n",
       "    .dataframe thead th {\n",
       "        text-align: right;\n",
       "    }\n",
       "</style>\n",
       "<table border=\"1\" class=\"dataframe\">\n",
       "  <thead>\n",
       "    <tr style=\"text-align: right;\">\n",
       "      <th></th>\n",
       "      <th>h1n1_worry</th>\n",
       "      <th>h1n1_awareness</th>\n",
       "      <th>antiviral_medication</th>\n",
       "      <th>contact_avoidance</th>\n",
       "      <th>bought_face_mask</th>\n",
       "      <th>wash_hands_frequently</th>\n",
       "      <th>avoid_large_gatherings</th>\n",
       "      <th>reduced_outside_home_cont</th>\n",
       "      <th>avoid_touch_face</th>\n",
       "      <th>chronic_medic_condition</th>\n",
       "      <th>cont_child_undr_6_mnths</th>\n",
       "      <th>is_health_worker</th>\n",
       "      <th>is_h1n1_vacc_effective</th>\n",
       "      <th>is_h1n1_risky</th>\n",
       "      <th>sick_from_h1n1_vacc</th>\n",
       "      <th>is_seas_vacc_effective</th>\n",
       "      <th>is_seas_risky</th>\n",
       "      <th>sick_from_seas_vacc</th>\n",
       "      <th>age_bracket</th>\n",
       "      <th>qualification</th>\n",
       "      <th>race</th>\n",
       "      <th>sex</th>\n",
       "      <th>marital_status</th>\n",
       "      <th>housing_status</th>\n",
       "      <th>employment</th>\n",
       "      <th>census_msa</th>\n",
       "      <th>no_of_adults</th>\n",
       "      <th>no_of_children</th>\n",
       "    </tr>\n",
       "  </thead>\n",
       "  <tbody>\n",
       "    <tr>\n",
       "      <th>0</th>\n",
       "      <td>1.0</td>\n",
       "      <td>0.0</td>\n",
       "      <td>0.0</td>\n",
       "      <td>0.0</td>\n",
       "      <td>0.0</td>\n",
       "      <td>0.0</td>\n",
       "      <td>0.0</td>\n",
       "      <td>1.0</td>\n",
       "      <td>1.0</td>\n",
       "      <td>0.0</td>\n",
       "      <td>0.0</td>\n",
       "      <td>0.0</td>\n",
       "      <td>3.0</td>\n",
       "      <td>1.0</td>\n",
       "      <td>2.0</td>\n",
       "      <td>2.0</td>\n",
       "      <td>1.0</td>\n",
       "      <td>2.0</td>\n",
       "      <td>55 - 64 Years</td>\n",
       "      <td>&lt; 12 Years</td>\n",
       "      <td>White</td>\n",
       "      <td>Female</td>\n",
       "      <td>Not Married</td>\n",
       "      <td>Own</td>\n",
       "      <td>Not in Labor Force</td>\n",
       "      <td>Non-MSA</td>\n",
       "      <td>0.0</td>\n",
       "      <td>0.0</td>\n",
       "    </tr>\n",
       "    <tr>\n",
       "      <th>1</th>\n",
       "      <td>3.0</td>\n",
       "      <td>2.0</td>\n",
       "      <td>0.0</td>\n",
       "      <td>1.0</td>\n",
       "      <td>0.0</td>\n",
       "      <td>1.0</td>\n",
       "      <td>0.0</td>\n",
       "      <td>1.0</td>\n",
       "      <td>1.0</td>\n",
       "      <td>0.0</td>\n",
       "      <td>0.0</td>\n",
       "      <td>0.0</td>\n",
       "      <td>5.0</td>\n",
       "      <td>4.0</td>\n",
       "      <td>4.0</td>\n",
       "      <td>4.0</td>\n",
       "      <td>2.0</td>\n",
       "      <td>4.0</td>\n",
       "      <td>35 - 44 Years</td>\n",
       "      <td>12 Years</td>\n",
       "      <td>White</td>\n",
       "      <td>Male</td>\n",
       "      <td>Not Married</td>\n",
       "      <td>Rent</td>\n",
       "      <td>Employed</td>\n",
       "      <td>MSA, Not Principle  City</td>\n",
       "      <td>0.0</td>\n",
       "      <td>0.0</td>\n",
       "    </tr>\n",
       "    <tr>\n",
       "      <th>2</th>\n",
       "      <td>1.0</td>\n",
       "      <td>1.0</td>\n",
       "      <td>0.0</td>\n",
       "      <td>1.0</td>\n",
       "      <td>0.0</td>\n",
       "      <td>0.0</td>\n",
       "      <td>0.0</td>\n",
       "      <td>0.0</td>\n",
       "      <td>0.0</td>\n",
       "      <td>1.0</td>\n",
       "      <td>0.0</td>\n",
       "      <td>0.0</td>\n",
       "      <td>3.0</td>\n",
       "      <td>1.0</td>\n",
       "      <td>1.0</td>\n",
       "      <td>4.0</td>\n",
       "      <td>1.0</td>\n",
       "      <td>2.0</td>\n",
       "      <td>18 - 34 Years</td>\n",
       "      <td>College Graduate</td>\n",
       "      <td>White</td>\n",
       "      <td>Male</td>\n",
       "      <td>Not Married</td>\n",
       "      <td>Own</td>\n",
       "      <td>Employed</td>\n",
       "      <td>MSA, Not Principle  City</td>\n",
       "      <td>2.0</td>\n",
       "      <td>0.0</td>\n",
       "    </tr>\n",
       "    <tr>\n",
       "      <th>3</th>\n",
       "      <td>1.0</td>\n",
       "      <td>1.0</td>\n",
       "      <td>0.0</td>\n",
       "      <td>1.0</td>\n",
       "      <td>0.0</td>\n",
       "      <td>1.0</td>\n",
       "      <td>1.0</td>\n",
       "      <td>0.0</td>\n",
       "      <td>0.0</td>\n",
       "      <td>1.0</td>\n",
       "      <td>0.0</td>\n",
       "      <td>0.0</td>\n",
       "      <td>3.0</td>\n",
       "      <td>3.0</td>\n",
       "      <td>5.0</td>\n",
       "      <td>5.0</td>\n",
       "      <td>4.0</td>\n",
       "      <td>1.0</td>\n",
       "      <td>65+ Years</td>\n",
       "      <td>12 Years</td>\n",
       "      <td>White</td>\n",
       "      <td>Female</td>\n",
       "      <td>Not Married</td>\n",
       "      <td>Rent</td>\n",
       "      <td>Not in Labor Force</td>\n",
       "      <td>MSA, Principle City</td>\n",
       "      <td>0.0</td>\n",
       "      <td>0.0</td>\n",
       "    </tr>\n",
       "    <tr>\n",
       "      <th>4</th>\n",
       "      <td>2.0</td>\n",
       "      <td>1.0</td>\n",
       "      <td>0.0</td>\n",
       "      <td>1.0</td>\n",
       "      <td>0.0</td>\n",
       "      <td>1.0</td>\n",
       "      <td>1.0</td>\n",
       "      <td>0.0</td>\n",
       "      <td>1.0</td>\n",
       "      <td>0.0</td>\n",
       "      <td>0.0</td>\n",
       "      <td>0.0</td>\n",
       "      <td>3.0</td>\n",
       "      <td>3.0</td>\n",
       "      <td>2.0</td>\n",
       "      <td>3.0</td>\n",
       "      <td>1.0</td>\n",
       "      <td>4.0</td>\n",
       "      <td>45 - 54 Years</td>\n",
       "      <td>Some College</td>\n",
       "      <td>White</td>\n",
       "      <td>Female</td>\n",
       "      <td>Married</td>\n",
       "      <td>Own</td>\n",
       "      <td>Employed</td>\n",
       "      <td>MSA, Not Principle  City</td>\n",
       "      <td>1.0</td>\n",
       "      <td>0.0</td>\n",
       "    </tr>\n",
       "  </tbody>\n",
       "</table>\n",
       "</div>"
      ],
      "text/plain": [
       "  h1n1_worry h1n1_awareness antiviral_medication contact_avoidance  \\\n",
       "0        1.0            0.0                  0.0               0.0   \n",
       "1        3.0            2.0                  0.0               1.0   \n",
       "2        1.0            1.0                  0.0               1.0   \n",
       "3        1.0            1.0                  0.0               1.0   \n",
       "4        2.0            1.0                  0.0               1.0   \n",
       "\n",
       "  bought_face_mask wash_hands_frequently avoid_large_gatherings  \\\n",
       "0              0.0                   0.0                    0.0   \n",
       "1              0.0                   1.0                    0.0   \n",
       "2              0.0                   0.0                    0.0   \n",
       "3              0.0                   1.0                    1.0   \n",
       "4              0.0                   1.0                    1.0   \n",
       "\n",
       "  reduced_outside_home_cont avoid_touch_face chronic_medic_condition  \\\n",
       "0                       1.0              1.0                     0.0   \n",
       "1                       1.0              1.0                     0.0   \n",
       "2                       0.0              0.0                     1.0   \n",
       "3                       0.0              0.0                     1.0   \n",
       "4                       0.0              1.0                     0.0   \n",
       "\n",
       "  cont_child_undr_6_mnths is_health_worker is_h1n1_vacc_effective  \\\n",
       "0                     0.0              0.0                    3.0   \n",
       "1                     0.0              0.0                    5.0   \n",
       "2                     0.0              0.0                    3.0   \n",
       "3                     0.0              0.0                    3.0   \n",
       "4                     0.0              0.0                    3.0   \n",
       "\n",
       "  is_h1n1_risky sick_from_h1n1_vacc is_seas_vacc_effective is_seas_risky  \\\n",
       "0           1.0                 2.0                    2.0           1.0   \n",
       "1           4.0                 4.0                    4.0           2.0   \n",
       "2           1.0                 1.0                    4.0           1.0   \n",
       "3           3.0                 5.0                    5.0           4.0   \n",
       "4           3.0                 2.0                    3.0           1.0   \n",
       "\n",
       "  sick_from_seas_vacc    age_bracket     qualification   race     sex  \\\n",
       "0                 2.0  55 - 64 Years        < 12 Years  White  Female   \n",
       "1                 4.0  35 - 44 Years          12 Years  White    Male   \n",
       "2                 2.0  18 - 34 Years  College Graduate  White    Male   \n",
       "3                 1.0      65+ Years          12 Years  White  Female   \n",
       "4                 4.0  45 - 54 Years      Some College  White  Female   \n",
       "\n",
       "  marital_status housing_status          employment                census_msa  \\\n",
       "0    Not Married            Own  Not in Labor Force                   Non-MSA   \n",
       "1    Not Married           Rent            Employed  MSA, Not Principle  City   \n",
       "2    Not Married            Own            Employed  MSA, Not Principle  City   \n",
       "3    Not Married           Rent  Not in Labor Force       MSA, Principle City   \n",
       "4        Married            Own            Employed  MSA, Not Principle  City   \n",
       "\n",
       "  no_of_adults no_of_children  \n",
       "0          0.0            0.0  \n",
       "1          0.0            0.0  \n",
       "2          2.0            0.0  \n",
       "3          0.0            0.0  \n",
       "4          1.0            0.0  "
      ]
     },
     "execution_count": 30,
     "metadata": {},
     "output_type": "execute_result"
    }
   ],
   "source": [
    "# print the first five observations of the 'df_cat'\n",
    "df_cat.head()"
   ]
  },
  {
   "cell_type": "code",
   "execution_count": 31,
   "metadata": {
    "colab": {},
    "colab_type": "code",
    "id": "rLNKCK7lebo3"
   },
   "outputs": [],
   "source": [
    "# use 'get_dummies()' from pandas to create dummy variables\n",
    "# use 'drop_first = True' to create (n-1) dummy variables\n",
    "df_cat_dummies = pd.get_dummies(df_cat, drop_first = True)"
   ]
  },
  {
   "cell_type": "code",
   "execution_count": 32,
   "metadata": {},
   "outputs": [
    {
     "data": {
      "text/html": [
       "<div>\n",
       "<style scoped>\n",
       "    .dataframe tbody tr th:only-of-type {\n",
       "        vertical-align: middle;\n",
       "    }\n",
       "\n",
       "    .dataframe tbody tr th {\n",
       "        vertical-align: top;\n",
       "    }\n",
       "\n",
       "    .dataframe thead th {\n",
       "        text-align: right;\n",
       "    }\n",
       "</style>\n",
       "<table border=\"1\" class=\"dataframe\">\n",
       "  <thead>\n",
       "    <tr style=\"text-align: right;\">\n",
       "      <th></th>\n",
       "      <th>h1n1_worry_1.0</th>\n",
       "      <th>h1n1_worry_2.0</th>\n",
       "      <th>h1n1_worry_3.0</th>\n",
       "      <th>h1n1_awareness_1.0</th>\n",
       "      <th>h1n1_awareness_2.0</th>\n",
       "      <th>antiviral_medication_1.0</th>\n",
       "      <th>contact_avoidance_1.0</th>\n",
       "      <th>bought_face_mask_1.0</th>\n",
       "      <th>wash_hands_frequently_1.0</th>\n",
       "      <th>avoid_large_gatherings_1.0</th>\n",
       "      <th>reduced_outside_home_cont_1.0</th>\n",
       "      <th>avoid_touch_face_1.0</th>\n",
       "      <th>chronic_medic_condition_1.0</th>\n",
       "      <th>cont_child_undr_6_mnths_1.0</th>\n",
       "      <th>is_health_worker_1.0</th>\n",
       "      <th>is_h1n1_vacc_effective_2.0</th>\n",
       "      <th>is_h1n1_vacc_effective_3.0</th>\n",
       "      <th>is_h1n1_vacc_effective_4.0</th>\n",
       "      <th>is_h1n1_vacc_effective_5.0</th>\n",
       "      <th>is_h1n1_risky_2.0</th>\n",
       "      <th>is_h1n1_risky_3.0</th>\n",
       "      <th>is_h1n1_risky_4.0</th>\n",
       "      <th>is_h1n1_risky_5.0</th>\n",
       "      <th>sick_from_h1n1_vacc_2.0</th>\n",
       "      <th>sick_from_h1n1_vacc_3.0</th>\n",
       "      <th>sick_from_h1n1_vacc_4.0</th>\n",
       "      <th>sick_from_h1n1_vacc_5.0</th>\n",
       "      <th>is_seas_vacc_effective_2.0</th>\n",
       "      <th>is_seas_vacc_effective_3.0</th>\n",
       "      <th>is_seas_vacc_effective_4.0</th>\n",
       "      <th>is_seas_vacc_effective_5.0</th>\n",
       "      <th>is_seas_risky_2.0</th>\n",
       "      <th>is_seas_risky_3.0</th>\n",
       "      <th>is_seas_risky_4.0</th>\n",
       "      <th>is_seas_risky_5.0</th>\n",
       "      <th>sick_from_seas_vacc_2.0</th>\n",
       "      <th>sick_from_seas_vacc_3.0</th>\n",
       "      <th>sick_from_seas_vacc_4.0</th>\n",
       "      <th>sick_from_seas_vacc_5.0</th>\n",
       "      <th>age_bracket_35 - 44 Years</th>\n",
       "      <th>age_bracket_45 - 54 Years</th>\n",
       "      <th>age_bracket_55 - 64 Years</th>\n",
       "      <th>age_bracket_65+ Years</th>\n",
       "      <th>qualification_&lt; 12 Years</th>\n",
       "      <th>qualification_College Graduate</th>\n",
       "      <th>qualification_Some College</th>\n",
       "      <th>race_Hispanic</th>\n",
       "      <th>race_Other or Multiple</th>\n",
       "      <th>race_White</th>\n",
       "      <th>sex_Male</th>\n",
       "      <th>marital_status_Not Married</th>\n",
       "      <th>housing_status_Rent</th>\n",
       "      <th>employment_Not in Labor Force</th>\n",
       "      <th>employment_Unemployed</th>\n",
       "      <th>census_msa_MSA, Principle City</th>\n",
       "      <th>census_msa_Non-MSA</th>\n",
       "      <th>no_of_adults_1.0</th>\n",
       "      <th>no_of_adults_2.0</th>\n",
       "      <th>no_of_adults_3.0</th>\n",
       "      <th>no_of_children_1.0</th>\n",
       "      <th>no_of_children_2.0</th>\n",
       "      <th>no_of_children_3.0</th>\n",
       "    </tr>\n",
       "  </thead>\n",
       "  <tbody>\n",
       "    <tr>\n",
       "      <th>0</th>\n",
       "      <td>1</td>\n",
       "      <td>0</td>\n",
       "      <td>0</td>\n",
       "      <td>0</td>\n",
       "      <td>0</td>\n",
       "      <td>0</td>\n",
       "      <td>0</td>\n",
       "      <td>0</td>\n",
       "      <td>0</td>\n",
       "      <td>0</td>\n",
       "      <td>1</td>\n",
       "      <td>1</td>\n",
       "      <td>0</td>\n",
       "      <td>0</td>\n",
       "      <td>0</td>\n",
       "      <td>0</td>\n",
       "      <td>1</td>\n",
       "      <td>0</td>\n",
       "      <td>0</td>\n",
       "      <td>0</td>\n",
       "      <td>0</td>\n",
       "      <td>0</td>\n",
       "      <td>0</td>\n",
       "      <td>1</td>\n",
       "      <td>0</td>\n",
       "      <td>0</td>\n",
       "      <td>0</td>\n",
       "      <td>1</td>\n",
       "      <td>0</td>\n",
       "      <td>0</td>\n",
       "      <td>0</td>\n",
       "      <td>0</td>\n",
       "      <td>0</td>\n",
       "      <td>0</td>\n",
       "      <td>0</td>\n",
       "      <td>1</td>\n",
       "      <td>0</td>\n",
       "      <td>0</td>\n",
       "      <td>0</td>\n",
       "      <td>0</td>\n",
       "      <td>0</td>\n",
       "      <td>1</td>\n",
       "      <td>0</td>\n",
       "      <td>1</td>\n",
       "      <td>0</td>\n",
       "      <td>0</td>\n",
       "      <td>0</td>\n",
       "      <td>0</td>\n",
       "      <td>1</td>\n",
       "      <td>0</td>\n",
       "      <td>1</td>\n",
       "      <td>0</td>\n",
       "      <td>1</td>\n",
       "      <td>0</td>\n",
       "      <td>0</td>\n",
       "      <td>1</td>\n",
       "      <td>0</td>\n",
       "      <td>0</td>\n",
       "      <td>0</td>\n",
       "      <td>0</td>\n",
       "      <td>0</td>\n",
       "      <td>0</td>\n",
       "    </tr>\n",
       "    <tr>\n",
       "      <th>1</th>\n",
       "      <td>0</td>\n",
       "      <td>0</td>\n",
       "      <td>1</td>\n",
       "      <td>0</td>\n",
       "      <td>1</td>\n",
       "      <td>0</td>\n",
       "      <td>1</td>\n",
       "      <td>0</td>\n",
       "      <td>1</td>\n",
       "      <td>0</td>\n",
       "      <td>1</td>\n",
       "      <td>1</td>\n",
       "      <td>0</td>\n",
       "      <td>0</td>\n",
       "      <td>0</td>\n",
       "      <td>0</td>\n",
       "      <td>0</td>\n",
       "      <td>0</td>\n",
       "      <td>1</td>\n",
       "      <td>0</td>\n",
       "      <td>0</td>\n",
       "      <td>1</td>\n",
       "      <td>0</td>\n",
       "      <td>0</td>\n",
       "      <td>0</td>\n",
       "      <td>1</td>\n",
       "      <td>0</td>\n",
       "      <td>0</td>\n",
       "      <td>0</td>\n",
       "      <td>1</td>\n",
       "      <td>0</td>\n",
       "      <td>1</td>\n",
       "      <td>0</td>\n",
       "      <td>0</td>\n",
       "      <td>0</td>\n",
       "      <td>0</td>\n",
       "      <td>0</td>\n",
       "      <td>1</td>\n",
       "      <td>0</td>\n",
       "      <td>1</td>\n",
       "      <td>0</td>\n",
       "      <td>0</td>\n",
       "      <td>0</td>\n",
       "      <td>0</td>\n",
       "      <td>0</td>\n",
       "      <td>0</td>\n",
       "      <td>0</td>\n",
       "      <td>0</td>\n",
       "      <td>1</td>\n",
       "      <td>1</td>\n",
       "      <td>1</td>\n",
       "      <td>1</td>\n",
       "      <td>0</td>\n",
       "      <td>0</td>\n",
       "      <td>0</td>\n",
       "      <td>0</td>\n",
       "      <td>0</td>\n",
       "      <td>0</td>\n",
       "      <td>0</td>\n",
       "      <td>0</td>\n",
       "      <td>0</td>\n",
       "      <td>0</td>\n",
       "    </tr>\n",
       "    <tr>\n",
       "      <th>2</th>\n",
       "      <td>1</td>\n",
       "      <td>0</td>\n",
       "      <td>0</td>\n",
       "      <td>1</td>\n",
       "      <td>0</td>\n",
       "      <td>0</td>\n",
       "      <td>1</td>\n",
       "      <td>0</td>\n",
       "      <td>0</td>\n",
       "      <td>0</td>\n",
       "      <td>0</td>\n",
       "      <td>0</td>\n",
       "      <td>1</td>\n",
       "      <td>0</td>\n",
       "      <td>0</td>\n",
       "      <td>0</td>\n",
       "      <td>1</td>\n",
       "      <td>0</td>\n",
       "      <td>0</td>\n",
       "      <td>0</td>\n",
       "      <td>0</td>\n",
       "      <td>0</td>\n",
       "      <td>0</td>\n",
       "      <td>0</td>\n",
       "      <td>0</td>\n",
       "      <td>0</td>\n",
       "      <td>0</td>\n",
       "      <td>0</td>\n",
       "      <td>0</td>\n",
       "      <td>1</td>\n",
       "      <td>0</td>\n",
       "      <td>0</td>\n",
       "      <td>0</td>\n",
       "      <td>0</td>\n",
       "      <td>0</td>\n",
       "      <td>1</td>\n",
       "      <td>0</td>\n",
       "      <td>0</td>\n",
       "      <td>0</td>\n",
       "      <td>0</td>\n",
       "      <td>0</td>\n",
       "      <td>0</td>\n",
       "      <td>0</td>\n",
       "      <td>0</td>\n",
       "      <td>1</td>\n",
       "      <td>0</td>\n",
       "      <td>0</td>\n",
       "      <td>0</td>\n",
       "      <td>1</td>\n",
       "      <td>1</td>\n",
       "      <td>1</td>\n",
       "      <td>0</td>\n",
       "      <td>0</td>\n",
       "      <td>0</td>\n",
       "      <td>0</td>\n",
       "      <td>0</td>\n",
       "      <td>0</td>\n",
       "      <td>1</td>\n",
       "      <td>0</td>\n",
       "      <td>0</td>\n",
       "      <td>0</td>\n",
       "      <td>0</td>\n",
       "    </tr>\n",
       "    <tr>\n",
       "      <th>3</th>\n",
       "      <td>1</td>\n",
       "      <td>0</td>\n",
       "      <td>0</td>\n",
       "      <td>1</td>\n",
       "      <td>0</td>\n",
       "      <td>0</td>\n",
       "      <td>1</td>\n",
       "      <td>0</td>\n",
       "      <td>1</td>\n",
       "      <td>1</td>\n",
       "      <td>0</td>\n",
       "      <td>0</td>\n",
       "      <td>1</td>\n",
       "      <td>0</td>\n",
       "      <td>0</td>\n",
       "      <td>0</td>\n",
       "      <td>1</td>\n",
       "      <td>0</td>\n",
       "      <td>0</td>\n",
       "      <td>0</td>\n",
       "      <td>1</td>\n",
       "      <td>0</td>\n",
       "      <td>0</td>\n",
       "      <td>0</td>\n",
       "      <td>0</td>\n",
       "      <td>0</td>\n",
       "      <td>1</td>\n",
       "      <td>0</td>\n",
       "      <td>0</td>\n",
       "      <td>0</td>\n",
       "      <td>1</td>\n",
       "      <td>0</td>\n",
       "      <td>0</td>\n",
       "      <td>1</td>\n",
       "      <td>0</td>\n",
       "      <td>0</td>\n",
       "      <td>0</td>\n",
       "      <td>0</td>\n",
       "      <td>0</td>\n",
       "      <td>0</td>\n",
       "      <td>0</td>\n",
       "      <td>0</td>\n",
       "      <td>1</td>\n",
       "      <td>0</td>\n",
       "      <td>0</td>\n",
       "      <td>0</td>\n",
       "      <td>0</td>\n",
       "      <td>0</td>\n",
       "      <td>1</td>\n",
       "      <td>0</td>\n",
       "      <td>1</td>\n",
       "      <td>1</td>\n",
       "      <td>1</td>\n",
       "      <td>0</td>\n",
       "      <td>1</td>\n",
       "      <td>0</td>\n",
       "      <td>0</td>\n",
       "      <td>0</td>\n",
       "      <td>0</td>\n",
       "      <td>0</td>\n",
       "      <td>0</td>\n",
       "      <td>0</td>\n",
       "    </tr>\n",
       "    <tr>\n",
       "      <th>4</th>\n",
       "      <td>0</td>\n",
       "      <td>1</td>\n",
       "      <td>0</td>\n",
       "      <td>1</td>\n",
       "      <td>0</td>\n",
       "      <td>0</td>\n",
       "      <td>1</td>\n",
       "      <td>0</td>\n",
       "      <td>1</td>\n",
       "      <td>1</td>\n",
       "      <td>0</td>\n",
       "      <td>1</td>\n",
       "      <td>0</td>\n",
       "      <td>0</td>\n",
       "      <td>0</td>\n",
       "      <td>0</td>\n",
       "      <td>1</td>\n",
       "      <td>0</td>\n",
       "      <td>0</td>\n",
       "      <td>0</td>\n",
       "      <td>1</td>\n",
       "      <td>0</td>\n",
       "      <td>0</td>\n",
       "      <td>1</td>\n",
       "      <td>0</td>\n",
       "      <td>0</td>\n",
       "      <td>0</td>\n",
       "      <td>0</td>\n",
       "      <td>1</td>\n",
       "      <td>0</td>\n",
       "      <td>0</td>\n",
       "      <td>0</td>\n",
       "      <td>0</td>\n",
       "      <td>0</td>\n",
       "      <td>0</td>\n",
       "      <td>0</td>\n",
       "      <td>0</td>\n",
       "      <td>1</td>\n",
       "      <td>0</td>\n",
       "      <td>0</td>\n",
       "      <td>1</td>\n",
       "      <td>0</td>\n",
       "      <td>0</td>\n",
       "      <td>0</td>\n",
       "      <td>0</td>\n",
       "      <td>1</td>\n",
       "      <td>0</td>\n",
       "      <td>0</td>\n",
       "      <td>1</td>\n",
       "      <td>0</td>\n",
       "      <td>0</td>\n",
       "      <td>0</td>\n",
       "      <td>0</td>\n",
       "      <td>0</td>\n",
       "      <td>0</td>\n",
       "      <td>0</td>\n",
       "      <td>1</td>\n",
       "      <td>0</td>\n",
       "      <td>0</td>\n",
       "      <td>0</td>\n",
       "      <td>0</td>\n",
       "      <td>0</td>\n",
       "    </tr>\n",
       "  </tbody>\n",
       "</table>\n",
       "</div>"
      ],
      "text/plain": [
       "   h1n1_worry_1.0  h1n1_worry_2.0  h1n1_worry_3.0  h1n1_awareness_1.0  \\\n",
       "0               1               0               0                   0   \n",
       "1               0               0               1                   0   \n",
       "2               1               0               0                   1   \n",
       "3               1               0               0                   1   \n",
       "4               0               1               0                   1   \n",
       "\n",
       "   h1n1_awareness_2.0  antiviral_medication_1.0  contact_avoidance_1.0  \\\n",
       "0                   0                         0                      0   \n",
       "1                   1                         0                      1   \n",
       "2                   0                         0                      1   \n",
       "3                   0                         0                      1   \n",
       "4                   0                         0                      1   \n",
       "\n",
       "   bought_face_mask_1.0  wash_hands_frequently_1.0  \\\n",
       "0                     0                          0   \n",
       "1                     0                          1   \n",
       "2                     0                          0   \n",
       "3                     0                          1   \n",
       "4                     0                          1   \n",
       "\n",
       "   avoid_large_gatherings_1.0  reduced_outside_home_cont_1.0  \\\n",
       "0                           0                              1   \n",
       "1                           0                              1   \n",
       "2                           0                              0   \n",
       "3                           1                              0   \n",
       "4                           1                              0   \n",
       "\n",
       "   avoid_touch_face_1.0  chronic_medic_condition_1.0  \\\n",
       "0                     1                            0   \n",
       "1                     1                            0   \n",
       "2                     0                            1   \n",
       "3                     0                            1   \n",
       "4                     1                            0   \n",
       "\n",
       "   cont_child_undr_6_mnths_1.0  is_health_worker_1.0  \\\n",
       "0                            0                     0   \n",
       "1                            0                     0   \n",
       "2                            0                     0   \n",
       "3                            0                     0   \n",
       "4                            0                     0   \n",
       "\n",
       "   is_h1n1_vacc_effective_2.0  is_h1n1_vacc_effective_3.0  \\\n",
       "0                           0                           1   \n",
       "1                           0                           0   \n",
       "2                           0                           1   \n",
       "3                           0                           1   \n",
       "4                           0                           1   \n",
       "\n",
       "   is_h1n1_vacc_effective_4.0  is_h1n1_vacc_effective_5.0  is_h1n1_risky_2.0  \\\n",
       "0                           0                           0                  0   \n",
       "1                           0                           1                  0   \n",
       "2                           0                           0                  0   \n",
       "3                           0                           0                  0   \n",
       "4                           0                           0                  0   \n",
       "\n",
       "   is_h1n1_risky_3.0  is_h1n1_risky_4.0  is_h1n1_risky_5.0  \\\n",
       "0                  0                  0                  0   \n",
       "1                  0                  1                  0   \n",
       "2                  0                  0                  0   \n",
       "3                  1                  0                  0   \n",
       "4                  1                  0                  0   \n",
       "\n",
       "   sick_from_h1n1_vacc_2.0  sick_from_h1n1_vacc_3.0  sick_from_h1n1_vacc_4.0  \\\n",
       "0                        1                        0                        0   \n",
       "1                        0                        0                        1   \n",
       "2                        0                        0                        0   \n",
       "3                        0                        0                        0   \n",
       "4                        1                        0                        0   \n",
       "\n",
       "   sick_from_h1n1_vacc_5.0  is_seas_vacc_effective_2.0  \\\n",
       "0                        0                           1   \n",
       "1                        0                           0   \n",
       "2                        0                           0   \n",
       "3                        1                           0   \n",
       "4                        0                           0   \n",
       "\n",
       "   is_seas_vacc_effective_3.0  is_seas_vacc_effective_4.0  \\\n",
       "0                           0                           0   \n",
       "1                           0                           1   \n",
       "2                           0                           1   \n",
       "3                           0                           0   \n",
       "4                           1                           0   \n",
       "\n",
       "   is_seas_vacc_effective_5.0  is_seas_risky_2.0  is_seas_risky_3.0  \\\n",
       "0                           0                  0                  0   \n",
       "1                           0                  1                  0   \n",
       "2                           0                  0                  0   \n",
       "3                           1                  0                  0   \n",
       "4                           0                  0                  0   \n",
       "\n",
       "   is_seas_risky_4.0  is_seas_risky_5.0  sick_from_seas_vacc_2.0  \\\n",
       "0                  0                  0                        1   \n",
       "1                  0                  0                        0   \n",
       "2                  0                  0                        1   \n",
       "3                  1                  0                        0   \n",
       "4                  0                  0                        0   \n",
       "\n",
       "   sick_from_seas_vacc_3.0  sick_from_seas_vacc_4.0  sick_from_seas_vacc_5.0  \\\n",
       "0                        0                        0                        0   \n",
       "1                        0                        1                        0   \n",
       "2                        0                        0                        0   \n",
       "3                        0                        0                        0   \n",
       "4                        0                        1                        0   \n",
       "\n",
       "   age_bracket_35 - 44 Years  age_bracket_45 - 54 Years  \\\n",
       "0                          0                          0   \n",
       "1                          1                          0   \n",
       "2                          0                          0   \n",
       "3                          0                          0   \n",
       "4                          0                          1   \n",
       "\n",
       "   age_bracket_55 - 64 Years  age_bracket_65+ Years  qualification_< 12 Years  \\\n",
       "0                          1                      0                         1   \n",
       "1                          0                      0                         0   \n",
       "2                          0                      0                         0   \n",
       "3                          0                      1                         0   \n",
       "4                          0                      0                         0   \n",
       "\n",
       "   qualification_College Graduate  qualification_Some College  race_Hispanic  \\\n",
       "0                               0                           0              0   \n",
       "1                               0                           0              0   \n",
       "2                               1                           0              0   \n",
       "3                               0                           0              0   \n",
       "4                               0                           1              0   \n",
       "\n",
       "   race_Other or Multiple  race_White  sex_Male  marital_status_Not Married  \\\n",
       "0                       0           1         0                           1   \n",
       "1                       0           1         1                           1   \n",
       "2                       0           1         1                           1   \n",
       "3                       0           1         0                           1   \n",
       "4                       0           1         0                           0   \n",
       "\n",
       "   housing_status_Rent  employment_Not in Labor Force  employment_Unemployed  \\\n",
       "0                    0                              1                      0   \n",
       "1                    1                              0                      0   \n",
       "2                    0                              0                      0   \n",
       "3                    1                              1                      0   \n",
       "4                    0                              0                      0   \n",
       "\n",
       "   census_msa_MSA, Principle City  census_msa_Non-MSA  no_of_adults_1.0  \\\n",
       "0                               0                   1                 0   \n",
       "1                               0                   0                 0   \n",
       "2                               0                   0                 0   \n",
       "3                               1                   0                 0   \n",
       "4                               0                   0                 1   \n",
       "\n",
       "   no_of_adults_2.0  no_of_adults_3.0  no_of_children_1.0  no_of_children_2.0  \\\n",
       "0                 0                 0                   0                   0   \n",
       "1                 0                 0                   0                   0   \n",
       "2                 1                 0                   0                   0   \n",
       "3                 0                 0                   0                   0   \n",
       "4                 0                 0                   0                   0   \n",
       "\n",
       "   no_of_children_3.0  \n",
       "0                   0  \n",
       "1                   0  \n",
       "2                   0  \n",
       "3                   0  \n",
       "4                   0  "
      ]
     },
     "execution_count": 32,
     "metadata": {},
     "output_type": "execute_result"
    }
   ],
   "source": [
    "# check the first five observations of the data with dummy encoded variables\n",
    "df_cat_dummies.head()"
   ]
  },
  {
   "cell_type": "markdown",
   "metadata": {},
   "source": [
    "After removal of missing values and dummy encoding the data, the dataframe `df_cat_dummies` contains all the independent variables and the dataframe df_num contains the target variable. We will rename these dataframes as X and y respectively."
   ]
  },
  {
   "cell_type": "code",
   "execution_count": 33,
   "metadata": {},
   "outputs": [],
   "source": [
    "# df_num contains only the target variable 'h1n1_vaccine'.\n",
    "# We store it in dataframe 'y'\n",
    "y = pd.DataFrame(df_num)"
   ]
  },
  {
   "cell_type": "markdown",
   "metadata": {},
   "source": [
    "Now, use this 'y' as a target variable to build the classification models."
   ]
  },
  {
   "cell_type": "code",
   "execution_count": 34,
   "metadata": {},
   "outputs": [],
   "source": [
    "# df_cat_dummies contain all the dummy encoded independent variables\n",
    "# We store it in dataframe 'X'\n",
    "X = pd.DataFrame(df_cat_dummies)"
   ]
  },
  {
   "cell_type": "code",
   "execution_count": 35,
   "metadata": {},
   "outputs": [
    {
     "data": {
      "text/html": [
       "<div>\n",
       "<style scoped>\n",
       "    .dataframe tbody tr th:only-of-type {\n",
       "        vertical-align: middle;\n",
       "    }\n",
       "\n",
       "    .dataframe tbody tr th {\n",
       "        vertical-align: top;\n",
       "    }\n",
       "\n",
       "    .dataframe thead th {\n",
       "        text-align: right;\n",
       "    }\n",
       "</style>\n",
       "<table border=\"1\" class=\"dataframe\">\n",
       "  <thead>\n",
       "    <tr style=\"text-align: right;\">\n",
       "      <th></th>\n",
       "      <th>h1n1_worry_1.0</th>\n",
       "      <th>h1n1_worry_2.0</th>\n",
       "      <th>h1n1_worry_3.0</th>\n",
       "      <th>h1n1_awareness_1.0</th>\n",
       "      <th>h1n1_awareness_2.0</th>\n",
       "      <th>antiviral_medication_1.0</th>\n",
       "      <th>contact_avoidance_1.0</th>\n",
       "      <th>bought_face_mask_1.0</th>\n",
       "      <th>wash_hands_frequently_1.0</th>\n",
       "      <th>avoid_large_gatherings_1.0</th>\n",
       "      <th>reduced_outside_home_cont_1.0</th>\n",
       "      <th>avoid_touch_face_1.0</th>\n",
       "      <th>chronic_medic_condition_1.0</th>\n",
       "      <th>cont_child_undr_6_mnths_1.0</th>\n",
       "      <th>is_health_worker_1.0</th>\n",
       "      <th>is_h1n1_vacc_effective_2.0</th>\n",
       "      <th>is_h1n1_vacc_effective_3.0</th>\n",
       "      <th>is_h1n1_vacc_effective_4.0</th>\n",
       "      <th>is_h1n1_vacc_effective_5.0</th>\n",
       "      <th>is_h1n1_risky_2.0</th>\n",
       "      <th>is_h1n1_risky_3.0</th>\n",
       "      <th>is_h1n1_risky_4.0</th>\n",
       "      <th>is_h1n1_risky_5.0</th>\n",
       "      <th>sick_from_h1n1_vacc_2.0</th>\n",
       "      <th>sick_from_h1n1_vacc_3.0</th>\n",
       "      <th>sick_from_h1n1_vacc_4.0</th>\n",
       "      <th>sick_from_h1n1_vacc_5.0</th>\n",
       "      <th>is_seas_vacc_effective_2.0</th>\n",
       "      <th>is_seas_vacc_effective_3.0</th>\n",
       "      <th>is_seas_vacc_effective_4.0</th>\n",
       "      <th>is_seas_vacc_effective_5.0</th>\n",
       "      <th>is_seas_risky_2.0</th>\n",
       "      <th>is_seas_risky_3.0</th>\n",
       "      <th>is_seas_risky_4.0</th>\n",
       "      <th>is_seas_risky_5.0</th>\n",
       "      <th>sick_from_seas_vacc_2.0</th>\n",
       "      <th>sick_from_seas_vacc_3.0</th>\n",
       "      <th>sick_from_seas_vacc_4.0</th>\n",
       "      <th>sick_from_seas_vacc_5.0</th>\n",
       "      <th>age_bracket_35 - 44 Years</th>\n",
       "      <th>age_bracket_45 - 54 Years</th>\n",
       "      <th>age_bracket_55 - 64 Years</th>\n",
       "      <th>age_bracket_65+ Years</th>\n",
       "      <th>qualification_&lt; 12 Years</th>\n",
       "      <th>qualification_College Graduate</th>\n",
       "      <th>qualification_Some College</th>\n",
       "      <th>race_Hispanic</th>\n",
       "      <th>race_Other or Multiple</th>\n",
       "      <th>race_White</th>\n",
       "      <th>sex_Male</th>\n",
       "      <th>marital_status_Not Married</th>\n",
       "      <th>housing_status_Rent</th>\n",
       "      <th>employment_Not in Labor Force</th>\n",
       "      <th>employment_Unemployed</th>\n",
       "      <th>census_msa_MSA, Principle City</th>\n",
       "      <th>census_msa_Non-MSA</th>\n",
       "      <th>no_of_adults_1.0</th>\n",
       "      <th>no_of_adults_2.0</th>\n",
       "      <th>no_of_adults_3.0</th>\n",
       "      <th>no_of_children_1.0</th>\n",
       "      <th>no_of_children_2.0</th>\n",
       "      <th>no_of_children_3.0</th>\n",
       "    </tr>\n",
       "  </thead>\n",
       "  <tbody>\n",
       "    <tr>\n",
       "      <th>0</th>\n",
       "      <td>1</td>\n",
       "      <td>0</td>\n",
       "      <td>0</td>\n",
       "      <td>0</td>\n",
       "      <td>0</td>\n",
       "      <td>0</td>\n",
       "      <td>0</td>\n",
       "      <td>0</td>\n",
       "      <td>0</td>\n",
       "      <td>0</td>\n",
       "      <td>1</td>\n",
       "      <td>1</td>\n",
       "      <td>0</td>\n",
       "      <td>0</td>\n",
       "      <td>0</td>\n",
       "      <td>0</td>\n",
       "      <td>1</td>\n",
       "      <td>0</td>\n",
       "      <td>0</td>\n",
       "      <td>0</td>\n",
       "      <td>0</td>\n",
       "      <td>0</td>\n",
       "      <td>0</td>\n",
       "      <td>1</td>\n",
       "      <td>0</td>\n",
       "      <td>0</td>\n",
       "      <td>0</td>\n",
       "      <td>1</td>\n",
       "      <td>0</td>\n",
       "      <td>0</td>\n",
       "      <td>0</td>\n",
       "      <td>0</td>\n",
       "      <td>0</td>\n",
       "      <td>0</td>\n",
       "      <td>0</td>\n",
       "      <td>1</td>\n",
       "      <td>0</td>\n",
       "      <td>0</td>\n",
       "      <td>0</td>\n",
       "      <td>0</td>\n",
       "      <td>0</td>\n",
       "      <td>1</td>\n",
       "      <td>0</td>\n",
       "      <td>1</td>\n",
       "      <td>0</td>\n",
       "      <td>0</td>\n",
       "      <td>0</td>\n",
       "      <td>0</td>\n",
       "      <td>1</td>\n",
       "      <td>0</td>\n",
       "      <td>1</td>\n",
       "      <td>0</td>\n",
       "      <td>1</td>\n",
       "      <td>0</td>\n",
       "      <td>0</td>\n",
       "      <td>1</td>\n",
       "      <td>0</td>\n",
       "      <td>0</td>\n",
       "      <td>0</td>\n",
       "      <td>0</td>\n",
       "      <td>0</td>\n",
       "      <td>0</td>\n",
       "    </tr>\n",
       "    <tr>\n",
       "      <th>1</th>\n",
       "      <td>0</td>\n",
       "      <td>0</td>\n",
       "      <td>1</td>\n",
       "      <td>0</td>\n",
       "      <td>1</td>\n",
       "      <td>0</td>\n",
       "      <td>1</td>\n",
       "      <td>0</td>\n",
       "      <td>1</td>\n",
       "      <td>0</td>\n",
       "      <td>1</td>\n",
       "      <td>1</td>\n",
       "      <td>0</td>\n",
       "      <td>0</td>\n",
       "      <td>0</td>\n",
       "      <td>0</td>\n",
       "      <td>0</td>\n",
       "      <td>0</td>\n",
       "      <td>1</td>\n",
       "      <td>0</td>\n",
       "      <td>0</td>\n",
       "      <td>1</td>\n",
       "      <td>0</td>\n",
       "      <td>0</td>\n",
       "      <td>0</td>\n",
       "      <td>1</td>\n",
       "      <td>0</td>\n",
       "      <td>0</td>\n",
       "      <td>0</td>\n",
       "      <td>1</td>\n",
       "      <td>0</td>\n",
       "      <td>1</td>\n",
       "      <td>0</td>\n",
       "      <td>0</td>\n",
       "      <td>0</td>\n",
       "      <td>0</td>\n",
       "      <td>0</td>\n",
       "      <td>1</td>\n",
       "      <td>0</td>\n",
       "      <td>1</td>\n",
       "      <td>0</td>\n",
       "      <td>0</td>\n",
       "      <td>0</td>\n",
       "      <td>0</td>\n",
       "      <td>0</td>\n",
       "      <td>0</td>\n",
       "      <td>0</td>\n",
       "      <td>0</td>\n",
       "      <td>1</td>\n",
       "      <td>1</td>\n",
       "      <td>1</td>\n",
       "      <td>1</td>\n",
       "      <td>0</td>\n",
       "      <td>0</td>\n",
       "      <td>0</td>\n",
       "      <td>0</td>\n",
       "      <td>0</td>\n",
       "      <td>0</td>\n",
       "      <td>0</td>\n",
       "      <td>0</td>\n",
       "      <td>0</td>\n",
       "      <td>0</td>\n",
       "    </tr>\n",
       "    <tr>\n",
       "      <th>2</th>\n",
       "      <td>1</td>\n",
       "      <td>0</td>\n",
       "      <td>0</td>\n",
       "      <td>1</td>\n",
       "      <td>0</td>\n",
       "      <td>0</td>\n",
       "      <td>1</td>\n",
       "      <td>0</td>\n",
       "      <td>0</td>\n",
       "      <td>0</td>\n",
       "      <td>0</td>\n",
       "      <td>0</td>\n",
       "      <td>1</td>\n",
       "      <td>0</td>\n",
       "      <td>0</td>\n",
       "      <td>0</td>\n",
       "      <td>1</td>\n",
       "      <td>0</td>\n",
       "      <td>0</td>\n",
       "      <td>0</td>\n",
       "      <td>0</td>\n",
       "      <td>0</td>\n",
       "      <td>0</td>\n",
       "      <td>0</td>\n",
       "      <td>0</td>\n",
       "      <td>0</td>\n",
       "      <td>0</td>\n",
       "      <td>0</td>\n",
       "      <td>0</td>\n",
       "      <td>1</td>\n",
       "      <td>0</td>\n",
       "      <td>0</td>\n",
       "      <td>0</td>\n",
       "      <td>0</td>\n",
       "      <td>0</td>\n",
       "      <td>1</td>\n",
       "      <td>0</td>\n",
       "      <td>0</td>\n",
       "      <td>0</td>\n",
       "      <td>0</td>\n",
       "      <td>0</td>\n",
       "      <td>0</td>\n",
       "      <td>0</td>\n",
       "      <td>0</td>\n",
       "      <td>1</td>\n",
       "      <td>0</td>\n",
       "      <td>0</td>\n",
       "      <td>0</td>\n",
       "      <td>1</td>\n",
       "      <td>1</td>\n",
       "      <td>1</td>\n",
       "      <td>0</td>\n",
       "      <td>0</td>\n",
       "      <td>0</td>\n",
       "      <td>0</td>\n",
       "      <td>0</td>\n",
       "      <td>0</td>\n",
       "      <td>1</td>\n",
       "      <td>0</td>\n",
       "      <td>0</td>\n",
       "      <td>0</td>\n",
       "      <td>0</td>\n",
       "    </tr>\n",
       "    <tr>\n",
       "      <th>3</th>\n",
       "      <td>1</td>\n",
       "      <td>0</td>\n",
       "      <td>0</td>\n",
       "      <td>1</td>\n",
       "      <td>0</td>\n",
       "      <td>0</td>\n",
       "      <td>1</td>\n",
       "      <td>0</td>\n",
       "      <td>1</td>\n",
       "      <td>1</td>\n",
       "      <td>0</td>\n",
       "      <td>0</td>\n",
       "      <td>1</td>\n",
       "      <td>0</td>\n",
       "      <td>0</td>\n",
       "      <td>0</td>\n",
       "      <td>1</td>\n",
       "      <td>0</td>\n",
       "      <td>0</td>\n",
       "      <td>0</td>\n",
       "      <td>1</td>\n",
       "      <td>0</td>\n",
       "      <td>0</td>\n",
       "      <td>0</td>\n",
       "      <td>0</td>\n",
       "      <td>0</td>\n",
       "      <td>1</td>\n",
       "      <td>0</td>\n",
       "      <td>0</td>\n",
       "      <td>0</td>\n",
       "      <td>1</td>\n",
       "      <td>0</td>\n",
       "      <td>0</td>\n",
       "      <td>1</td>\n",
       "      <td>0</td>\n",
       "      <td>0</td>\n",
       "      <td>0</td>\n",
       "      <td>0</td>\n",
       "      <td>0</td>\n",
       "      <td>0</td>\n",
       "      <td>0</td>\n",
       "      <td>0</td>\n",
       "      <td>1</td>\n",
       "      <td>0</td>\n",
       "      <td>0</td>\n",
       "      <td>0</td>\n",
       "      <td>0</td>\n",
       "      <td>0</td>\n",
       "      <td>1</td>\n",
       "      <td>0</td>\n",
       "      <td>1</td>\n",
       "      <td>1</td>\n",
       "      <td>1</td>\n",
       "      <td>0</td>\n",
       "      <td>1</td>\n",
       "      <td>0</td>\n",
       "      <td>0</td>\n",
       "      <td>0</td>\n",
       "      <td>0</td>\n",
       "      <td>0</td>\n",
       "      <td>0</td>\n",
       "      <td>0</td>\n",
       "    </tr>\n",
       "    <tr>\n",
       "      <th>4</th>\n",
       "      <td>0</td>\n",
       "      <td>1</td>\n",
       "      <td>0</td>\n",
       "      <td>1</td>\n",
       "      <td>0</td>\n",
       "      <td>0</td>\n",
       "      <td>1</td>\n",
       "      <td>0</td>\n",
       "      <td>1</td>\n",
       "      <td>1</td>\n",
       "      <td>0</td>\n",
       "      <td>1</td>\n",
       "      <td>0</td>\n",
       "      <td>0</td>\n",
       "      <td>0</td>\n",
       "      <td>0</td>\n",
       "      <td>1</td>\n",
       "      <td>0</td>\n",
       "      <td>0</td>\n",
       "      <td>0</td>\n",
       "      <td>1</td>\n",
       "      <td>0</td>\n",
       "      <td>0</td>\n",
       "      <td>1</td>\n",
       "      <td>0</td>\n",
       "      <td>0</td>\n",
       "      <td>0</td>\n",
       "      <td>0</td>\n",
       "      <td>1</td>\n",
       "      <td>0</td>\n",
       "      <td>0</td>\n",
       "      <td>0</td>\n",
       "      <td>0</td>\n",
       "      <td>0</td>\n",
       "      <td>0</td>\n",
       "      <td>0</td>\n",
       "      <td>0</td>\n",
       "      <td>1</td>\n",
       "      <td>0</td>\n",
       "      <td>0</td>\n",
       "      <td>1</td>\n",
       "      <td>0</td>\n",
       "      <td>0</td>\n",
       "      <td>0</td>\n",
       "      <td>0</td>\n",
       "      <td>1</td>\n",
       "      <td>0</td>\n",
       "      <td>0</td>\n",
       "      <td>1</td>\n",
       "      <td>0</td>\n",
       "      <td>0</td>\n",
       "      <td>0</td>\n",
       "      <td>0</td>\n",
       "      <td>0</td>\n",
       "      <td>0</td>\n",
       "      <td>0</td>\n",
       "      <td>1</td>\n",
       "      <td>0</td>\n",
       "      <td>0</td>\n",
       "      <td>0</td>\n",
       "      <td>0</td>\n",
       "      <td>0</td>\n",
       "    </tr>\n",
       "  </tbody>\n",
       "</table>\n",
       "</div>"
      ],
      "text/plain": [
       "   h1n1_worry_1.0  h1n1_worry_2.0  h1n1_worry_3.0  h1n1_awareness_1.0  \\\n",
       "0               1               0               0                   0   \n",
       "1               0               0               1                   0   \n",
       "2               1               0               0                   1   \n",
       "3               1               0               0                   1   \n",
       "4               0               1               0                   1   \n",
       "\n",
       "   h1n1_awareness_2.0  antiviral_medication_1.0  contact_avoidance_1.0  \\\n",
       "0                   0                         0                      0   \n",
       "1                   1                         0                      1   \n",
       "2                   0                         0                      1   \n",
       "3                   0                         0                      1   \n",
       "4                   0                         0                      1   \n",
       "\n",
       "   bought_face_mask_1.0  wash_hands_frequently_1.0  \\\n",
       "0                     0                          0   \n",
       "1                     0                          1   \n",
       "2                     0                          0   \n",
       "3                     0                          1   \n",
       "4                     0                          1   \n",
       "\n",
       "   avoid_large_gatherings_1.0  reduced_outside_home_cont_1.0  \\\n",
       "0                           0                              1   \n",
       "1                           0                              1   \n",
       "2                           0                              0   \n",
       "3                           1                              0   \n",
       "4                           1                              0   \n",
       "\n",
       "   avoid_touch_face_1.0  chronic_medic_condition_1.0  \\\n",
       "0                     1                            0   \n",
       "1                     1                            0   \n",
       "2                     0                            1   \n",
       "3                     0                            1   \n",
       "4                     1                            0   \n",
       "\n",
       "   cont_child_undr_6_mnths_1.0  is_health_worker_1.0  \\\n",
       "0                            0                     0   \n",
       "1                            0                     0   \n",
       "2                            0                     0   \n",
       "3                            0                     0   \n",
       "4                            0                     0   \n",
       "\n",
       "   is_h1n1_vacc_effective_2.0  is_h1n1_vacc_effective_3.0  \\\n",
       "0                           0                           1   \n",
       "1                           0                           0   \n",
       "2                           0                           1   \n",
       "3                           0                           1   \n",
       "4                           0                           1   \n",
       "\n",
       "   is_h1n1_vacc_effective_4.0  is_h1n1_vacc_effective_5.0  is_h1n1_risky_2.0  \\\n",
       "0                           0                           0                  0   \n",
       "1                           0                           1                  0   \n",
       "2                           0                           0                  0   \n",
       "3                           0                           0                  0   \n",
       "4                           0                           0                  0   \n",
       "\n",
       "   is_h1n1_risky_3.0  is_h1n1_risky_4.0  is_h1n1_risky_5.0  \\\n",
       "0                  0                  0                  0   \n",
       "1                  0                  1                  0   \n",
       "2                  0                  0                  0   \n",
       "3                  1                  0                  0   \n",
       "4                  1                  0                  0   \n",
       "\n",
       "   sick_from_h1n1_vacc_2.0  sick_from_h1n1_vacc_3.0  sick_from_h1n1_vacc_4.0  \\\n",
       "0                        1                        0                        0   \n",
       "1                        0                        0                        1   \n",
       "2                        0                        0                        0   \n",
       "3                        0                        0                        0   \n",
       "4                        1                        0                        0   \n",
       "\n",
       "   sick_from_h1n1_vacc_5.0  is_seas_vacc_effective_2.0  \\\n",
       "0                        0                           1   \n",
       "1                        0                           0   \n",
       "2                        0                           0   \n",
       "3                        1                           0   \n",
       "4                        0                           0   \n",
       "\n",
       "   is_seas_vacc_effective_3.0  is_seas_vacc_effective_4.0  \\\n",
       "0                           0                           0   \n",
       "1                           0                           1   \n",
       "2                           0                           1   \n",
       "3                           0                           0   \n",
       "4                           1                           0   \n",
       "\n",
       "   is_seas_vacc_effective_5.0  is_seas_risky_2.0  is_seas_risky_3.0  \\\n",
       "0                           0                  0                  0   \n",
       "1                           0                  1                  0   \n",
       "2                           0                  0                  0   \n",
       "3                           1                  0                  0   \n",
       "4                           0                  0                  0   \n",
       "\n",
       "   is_seas_risky_4.0  is_seas_risky_5.0  sick_from_seas_vacc_2.0  \\\n",
       "0                  0                  0                        1   \n",
       "1                  0                  0                        0   \n",
       "2                  0                  0                        1   \n",
       "3                  1                  0                        0   \n",
       "4                  0                  0                        0   \n",
       "\n",
       "   sick_from_seas_vacc_3.0  sick_from_seas_vacc_4.0  sick_from_seas_vacc_5.0  \\\n",
       "0                        0                        0                        0   \n",
       "1                        0                        1                        0   \n",
       "2                        0                        0                        0   \n",
       "3                        0                        0                        0   \n",
       "4                        0                        1                        0   \n",
       "\n",
       "   age_bracket_35 - 44 Years  age_bracket_45 - 54 Years  \\\n",
       "0                          0                          0   \n",
       "1                          1                          0   \n",
       "2                          0                          0   \n",
       "3                          0                          0   \n",
       "4                          0                          1   \n",
       "\n",
       "   age_bracket_55 - 64 Years  age_bracket_65+ Years  qualification_< 12 Years  \\\n",
       "0                          1                      0                         1   \n",
       "1                          0                      0                         0   \n",
       "2                          0                      0                         0   \n",
       "3                          0                      1                         0   \n",
       "4                          0                      0                         0   \n",
       "\n",
       "   qualification_College Graduate  qualification_Some College  race_Hispanic  \\\n",
       "0                               0                           0              0   \n",
       "1                               0                           0              0   \n",
       "2                               1                           0              0   \n",
       "3                               0                           0              0   \n",
       "4                               0                           1              0   \n",
       "\n",
       "   race_Other or Multiple  race_White  sex_Male  marital_status_Not Married  \\\n",
       "0                       0           1         0                           1   \n",
       "1                       0           1         1                           1   \n",
       "2                       0           1         1                           1   \n",
       "3                       0           1         0                           1   \n",
       "4                       0           1         0                           0   \n",
       "\n",
       "   housing_status_Rent  employment_Not in Labor Force  employment_Unemployed  \\\n",
       "0                    0                              1                      0   \n",
       "1                    1                              0                      0   \n",
       "2                    0                              0                      0   \n",
       "3                    1                              1                      0   \n",
       "4                    0                              0                      0   \n",
       "\n",
       "   census_msa_MSA, Principle City  census_msa_Non-MSA  no_of_adults_1.0  \\\n",
       "0                               0                   1                 0   \n",
       "1                               0                   0                 0   \n",
       "2                               0                   0                 0   \n",
       "3                               1                   0                 0   \n",
       "4                               0                   0                 1   \n",
       "\n",
       "   no_of_adults_2.0  no_of_adults_3.0  no_of_children_1.0  no_of_children_2.0  \\\n",
       "0                 0                 0                   0                   0   \n",
       "1                 0                 0                   0                   0   \n",
       "2                 1                 0                   0                   0   \n",
       "3                 0                 0                   0                   0   \n",
       "4                 0                 0                   0                   0   \n",
       "\n",
       "   no_of_children_3.0  \n",
       "0                   0  \n",
       "1                   0  \n",
       "2                   0  \n",
       "3                   0  \n",
       "4                   0  "
      ]
     },
     "execution_count": 35,
     "metadata": {},
     "output_type": "execute_result"
    }
   ],
   "source": [
    "# check the first five observations of X\n",
    "X.head()"
   ]
  },
  {
   "cell_type": "markdown",
   "metadata": {},
   "source": [
    "Use this 'X' as a set of predictors to build the classification models."
   ]
  },
  {
   "cell_type": "markdown",
   "metadata": {},
   "source": [
    "#### Create a generalized function to calculate the metrics for the test set."
   ]
  },
  {
   "cell_type": "code",
   "execution_count": 36,
   "metadata": {},
   "outputs": [],
   "source": [
    "# create a generalized function to calculate the metrics values for test set\n",
    "def get_test_report(model):\n",
    "    \n",
    "    # return the performace measures on test set\n",
    "    return(classification_report(y_test, y_pred))"
   ]
  },
  {
   "cell_type": "markdown",
   "metadata": {},
   "source": [
    "#### Create a generalized function to calculate the kappa score for the test set."
   ]
  },
  {
   "cell_type": "code",
   "execution_count": 37,
   "metadata": {},
   "outputs": [],
   "source": [
    "# create a generalized function to calculate the metrics values for test set\n",
    "def kappa_score(model):\n",
    "    \n",
    "    # return the kappa score on test set\n",
    "    return(cohen_kappa_score(y_test, y_pred))"
   ]
  },
  {
   "cell_type": "markdown",
   "metadata": {},
   "source": [
    "#### Define a function to plot the confusion matrix."
   ]
  },
  {
   "cell_type": "code",
   "execution_count": 38,
   "metadata": {
    "colab": {},
    "colab_type": "code",
    "id": "Av39nL7SebpS",
    "outputId": "eb72d174-cce1-49f2-abcc-b8a6111b2008"
   },
   "outputs": [],
   "source": [
    "# define a to plot a confusion matrix for the model\n",
    "def plot_confusion_matrix(model):\n",
    "    \n",
    "    # create a confusion matrix\n",
    "    # pass the actual and predicted target values to the confusion_matrix()\n",
    "    cm = confusion_matrix(y_test, y_pred)\n",
    "\n",
    "    # label the confusion matrix  \n",
    "    # pass the matrix as 'data'\n",
    "    # pass the required column names to the parameter, 'columns'\n",
    "    # pass the required row names to the parameter, 'index'\n",
    "    conf_matrix = pd.DataFrame(data = cm,columns = ['Predicted:0','Predicted:1'], index = ['Actual:0','Actual:1'])\n",
    "\n",
    "    # plot a heatmap to visualize the confusion matrix\n",
    "    # 'annot' prints the value of each grid \n",
    "    # 'fmt = d' returns the integer value in each grid\n",
    "    # 'cmap' assigns color to each grid\n",
    "    # as we do not require different colors for each grid in the heatmap,\n",
    "    # use 'ListedColormap' to assign the specified color to the grid\n",
    "    # 'cbar = False' will not return the color bar to the right side of the heatmap\n",
    "    # 'linewidths' assigns the width to the line that divides each grid\n",
    "    # 'annot_kws = {'size':25})' assigns the font size of the annotated text \n",
    "    sns.heatmap(conf_matrix, annot = True, fmt = 'd', cmap = ListedColormap(['lightskyblue']), cbar = False, \n",
    "                linewidths = 0.1, annot_kws = {'size':25})\n",
    "\n",
    "    # set the font size of x-axis ticks using 'fontsize'\n",
    "    plt.xticks(fontsize = 20)\n",
    "\n",
    "    # set the font size of y-axis ticks using 'fontsize'\n",
    "    plt.yticks(fontsize = 20)\n",
    "\n",
    "    # display the plot\n",
    "    plt.show()"
   ]
  },
  {
   "cell_type": "markdown",
   "metadata": {},
   "source": [
    "#### Define a function to plot the ROC curve."
   ]
  },
  {
   "cell_type": "code",
   "execution_count": 39,
   "metadata": {},
   "outputs": [],
   "source": [
    "# define a function to plot the ROC curve and print the ROC-AUC score\n",
    "def plot_roc(model):\n",
    "    \n",
    "    # the roc_curve() returns the values for false positive rate, true positive rate and threshold\n",
    "    # pass the actual target values and predicted probabilities to the function\n",
    "    fpr, tpr, thresholds = roc_curve(y_test, y_pred_prob)\n",
    "\n",
    "    # plot the ROC curve\n",
    "    plt.plot(fpr, tpr)\n",
    "\n",
    "    # set limits for x and y axes\n",
    "    plt.xlim([0.0, 1.0])\n",
    "    plt.ylim([0.0, 1.0])\n",
    "\n",
    "    # plot the straight line showing worst prediction for the model\n",
    "    plt.plot([0, 1], [0, 1],'r--')\n",
    "\n",
    "    # add plot and axes labels\n",
    "    # set text size using 'fontsize'\n",
    "    plt.title('ROC Curve for h1n1_vaccine Classifier', fontsize = 15)\n",
    "    plt.xlabel('False positive rate (1-Specificity)', fontsize = 15)\n",
    "    plt.ylabel('True positive rate (Sensitivity)', fontsize = 15)\n",
    "\n",
    "    # add the AUC score to the plot\n",
    "    # 'x' and 'y' gives position of the text\n",
    "    # 's' is the text \n",
    "    # use round() to round-off the AUC score upto 4 digits\n",
    "    plt.text(x = 0.02, y = 0.9, s = ('AUC Score:',round(roc_auc_score(y_test, y_pred_prob),4)))\n",
    "\n",
    "    # plot the grid\n",
    "    plt.grid(True)"
   ]
  },
  {
   "cell_type": "markdown",
   "metadata": {},
   "source": [
    "#### Create a generalized function to create a dataframe containing the scores for the models."
   ]
  },
  {
   "cell_type": "code",
   "execution_count": 40,
   "metadata": {},
   "outputs": [],
   "source": [
    "# create an empty dataframe to store the scores for various classification algorithms\n",
    "score_card = pd.DataFrame(columns=['Model', 'AUC Score', 'Precision Score', 'Recall Score', 'Accuracy Score',\n",
    "                                   'Kappa Score', 'f1-score'])\n",
    "\n",
    "# append the result table for all performance scores\n",
    "# performance measures considered for comparision are 'AUC', 'Precision', 'Recall','Accuracy','Kappa Score', and 'f1-score'\n",
    "# compile the required information in a user defined function \n",
    "def update_score_card(model_name):\n",
    "    \n",
    "    # assign 'score_card' as global variable\n",
    "    global score_card\n",
    "\n",
    "    # append the results to the dataframe 'score_card'\n",
    "    # 'ignore_index = True' do not consider the index labels\n",
    "    score_card = score_card.append({'Model': model_name,\n",
    "                                    'AUC Score' : roc_auc_score(y_test, y_pred_prob),\n",
    "                                    'Precision Score': metrics.precision_score(y_test, y_pred),\n",
    "                                    'Recall Score': metrics.recall_score(y_test, y_pred),\n",
    "                                    'Accuracy Score': metrics.accuracy_score(y_test, y_pred),\n",
    "                                    'Kappa Score': cohen_kappa_score(y_test, y_pred),\n",
    "                                    'f1-score': metrics.f1_score(y_test, y_pred)}, \n",
    "                                    ignore_index = True)\n",
    "    return(score_card)"
   ]
  },
  {
   "cell_type": "markdown",
   "metadata": {},
   "source": [
    "<a id='LogisticReg'></a>\n",
    "# 5. Logistic Regression "
   ]
  },
  {
   "cell_type": "markdown",
   "metadata": {},
   "source": [
    "Logistic regression is one of the techniques used for classification. The estimates of the parameters are obtained by maximizing the likelihood function."
   ]
  },
  {
   "cell_type": "markdown",
   "metadata": {},
   "source": [
    "<table align=\"left\">\n",
    "    <tr>\n",
    "        <td width=\"8%\">\n",
    "            <img src=\"alsoreadicon.png\">\n",
    "        </td>\n",
    "        <td>\n",
    "            <div align=\"left\", style=\"font-size:120%\">\n",
    "                <font color=\"#21618C\">\n",
    "                    <b>I love to know more:  <br></b>\n",
    "                     1. <a href=\"https://bit.ly/2qE1xTB\">Logistic Regression<br></a>\n",
    "                     2. <a href=\"https://bit.ly/34XFnub\">Accuracy Measures<br></a>\n",
    "                     3. <a href=\"https://bit.ly/2CCGFPg\">Understanding ROC and AUC</a>\n",
    "                </font>\n",
    "            </div>\n",
    "        </td>\n",
    "    </tr>\n",
    "</table>"
   ]
  },
  {
   "cell_type": "markdown",
   "metadata": {},
   "source": [
    "<a id='withStatsModels'></a>\n",
    "## 5.1 Logistic Regression (using MLE)"
   ]
  },
  {
   "cell_type": "markdown",
   "metadata": {},
   "source": [
    "<table align=\"left\">\n",
    "    <tr>\n",
    "        <td width=\"8%\">\n",
    "            <img src=\"todo.png\">\n",
    "        </td>\n",
    "        <td>\n",
    "            <div align=\"left\", style=\"font-size:120%\">\n",
    "                <font color=\"#21618C\">\n",
    "                    <b>To build the logistic model using Statsmodel, we do the following: <br><br>\n",
    "                       1. Introduce the intercept term<br>\n",
    "                       2. Split the data into training and test sets<br> \n",
    "                       3. Build the model<br>\n",
    "                       4. Do predictions on the test set <br>\n",
    "                       5. Compute accuracy measures <br>\n",
    "                       6. Tabulate the results</b>\n",
    "                </font>\n",
    "            </div>\n",
    "        </td>\n",
    "    </tr>\n",
    "</table>"
   ]
  },
  {
   "cell_type": "markdown",
   "metadata": {},
   "source": [
    "**1. Introduce the intercept term**"
   ]
  },
  {
   "cell_type": "markdown",
   "metadata": {},
   "source": [
    "Statmodels logistic regression function (Logit) does not include the intercept term by default. Thus, we add the intercept column in the dataframe including features."
   ]
  },
  {
   "cell_type": "code",
   "execution_count": 41,
   "metadata": {},
   "outputs": [
    {
     "data": {
      "text/html": [
       "<div>\n",
       "<style scoped>\n",
       "    .dataframe tbody tr th:only-of-type {\n",
       "        vertical-align: middle;\n",
       "    }\n",
       "\n",
       "    .dataframe tbody tr th {\n",
       "        vertical-align: top;\n",
       "    }\n",
       "\n",
       "    .dataframe thead th {\n",
       "        text-align: right;\n",
       "    }\n",
       "</style>\n",
       "<table border=\"1\" class=\"dataframe\">\n",
       "  <thead>\n",
       "    <tr style=\"text-align: right;\">\n",
       "      <th></th>\n",
       "      <th>const</th>\n",
       "      <th>h1n1_worry_1.0</th>\n",
       "      <th>h1n1_worry_2.0</th>\n",
       "      <th>h1n1_worry_3.0</th>\n",
       "      <th>h1n1_awareness_1.0</th>\n",
       "      <th>h1n1_awareness_2.0</th>\n",
       "      <th>antiviral_medication_1.0</th>\n",
       "      <th>contact_avoidance_1.0</th>\n",
       "      <th>bought_face_mask_1.0</th>\n",
       "      <th>wash_hands_frequently_1.0</th>\n",
       "      <th>avoid_large_gatherings_1.0</th>\n",
       "      <th>reduced_outside_home_cont_1.0</th>\n",
       "      <th>avoid_touch_face_1.0</th>\n",
       "      <th>chronic_medic_condition_1.0</th>\n",
       "      <th>cont_child_undr_6_mnths_1.0</th>\n",
       "      <th>is_health_worker_1.0</th>\n",
       "      <th>is_h1n1_vacc_effective_2.0</th>\n",
       "      <th>is_h1n1_vacc_effective_3.0</th>\n",
       "      <th>is_h1n1_vacc_effective_4.0</th>\n",
       "      <th>is_h1n1_vacc_effective_5.0</th>\n",
       "      <th>is_h1n1_risky_2.0</th>\n",
       "      <th>is_h1n1_risky_3.0</th>\n",
       "      <th>is_h1n1_risky_4.0</th>\n",
       "      <th>is_h1n1_risky_5.0</th>\n",
       "      <th>sick_from_h1n1_vacc_2.0</th>\n",
       "      <th>sick_from_h1n1_vacc_3.0</th>\n",
       "      <th>sick_from_h1n1_vacc_4.0</th>\n",
       "      <th>sick_from_h1n1_vacc_5.0</th>\n",
       "      <th>is_seas_vacc_effective_2.0</th>\n",
       "      <th>is_seas_vacc_effective_3.0</th>\n",
       "      <th>is_seas_vacc_effective_4.0</th>\n",
       "      <th>is_seas_vacc_effective_5.0</th>\n",
       "      <th>is_seas_risky_2.0</th>\n",
       "      <th>is_seas_risky_3.0</th>\n",
       "      <th>is_seas_risky_4.0</th>\n",
       "      <th>is_seas_risky_5.0</th>\n",
       "      <th>sick_from_seas_vacc_2.0</th>\n",
       "      <th>sick_from_seas_vacc_3.0</th>\n",
       "      <th>sick_from_seas_vacc_4.0</th>\n",
       "      <th>sick_from_seas_vacc_5.0</th>\n",
       "      <th>age_bracket_35 - 44 Years</th>\n",
       "      <th>age_bracket_45 - 54 Years</th>\n",
       "      <th>age_bracket_55 - 64 Years</th>\n",
       "      <th>age_bracket_65+ Years</th>\n",
       "      <th>qualification_&lt; 12 Years</th>\n",
       "      <th>qualification_College Graduate</th>\n",
       "      <th>qualification_Some College</th>\n",
       "      <th>race_Hispanic</th>\n",
       "      <th>race_Other or Multiple</th>\n",
       "      <th>race_White</th>\n",
       "      <th>sex_Male</th>\n",
       "      <th>marital_status_Not Married</th>\n",
       "      <th>housing_status_Rent</th>\n",
       "      <th>employment_Not in Labor Force</th>\n",
       "      <th>employment_Unemployed</th>\n",
       "      <th>census_msa_MSA, Principle City</th>\n",
       "      <th>census_msa_Non-MSA</th>\n",
       "      <th>no_of_adults_1.0</th>\n",
       "      <th>no_of_adults_2.0</th>\n",
       "      <th>no_of_adults_3.0</th>\n",
       "      <th>no_of_children_1.0</th>\n",
       "      <th>no_of_children_2.0</th>\n",
       "      <th>no_of_children_3.0</th>\n",
       "    </tr>\n",
       "  </thead>\n",
       "  <tbody>\n",
       "    <tr>\n",
       "      <th>0</th>\n",
       "      <td>1.0</td>\n",
       "      <td>1</td>\n",
       "      <td>0</td>\n",
       "      <td>0</td>\n",
       "      <td>0</td>\n",
       "      <td>0</td>\n",
       "      <td>0</td>\n",
       "      <td>0</td>\n",
       "      <td>0</td>\n",
       "      <td>0</td>\n",
       "      <td>0</td>\n",
       "      <td>1</td>\n",
       "      <td>1</td>\n",
       "      <td>0</td>\n",
       "      <td>0</td>\n",
       "      <td>0</td>\n",
       "      <td>0</td>\n",
       "      <td>1</td>\n",
       "      <td>0</td>\n",
       "      <td>0</td>\n",
       "      <td>0</td>\n",
       "      <td>0</td>\n",
       "      <td>0</td>\n",
       "      <td>0</td>\n",
       "      <td>1</td>\n",
       "      <td>0</td>\n",
       "      <td>0</td>\n",
       "      <td>0</td>\n",
       "      <td>1</td>\n",
       "      <td>0</td>\n",
       "      <td>0</td>\n",
       "      <td>0</td>\n",
       "      <td>0</td>\n",
       "      <td>0</td>\n",
       "      <td>0</td>\n",
       "      <td>0</td>\n",
       "      <td>1</td>\n",
       "      <td>0</td>\n",
       "      <td>0</td>\n",
       "      <td>0</td>\n",
       "      <td>0</td>\n",
       "      <td>0</td>\n",
       "      <td>1</td>\n",
       "      <td>0</td>\n",
       "      <td>1</td>\n",
       "      <td>0</td>\n",
       "      <td>0</td>\n",
       "      <td>0</td>\n",
       "      <td>0</td>\n",
       "      <td>1</td>\n",
       "      <td>0</td>\n",
       "      <td>1</td>\n",
       "      <td>0</td>\n",
       "      <td>1</td>\n",
       "      <td>0</td>\n",
       "      <td>0</td>\n",
       "      <td>1</td>\n",
       "      <td>0</td>\n",
       "      <td>0</td>\n",
       "      <td>0</td>\n",
       "      <td>0</td>\n",
       "      <td>0</td>\n",
       "      <td>0</td>\n",
       "    </tr>\n",
       "    <tr>\n",
       "      <th>1</th>\n",
       "      <td>1.0</td>\n",
       "      <td>0</td>\n",
       "      <td>0</td>\n",
       "      <td>1</td>\n",
       "      <td>0</td>\n",
       "      <td>1</td>\n",
       "      <td>0</td>\n",
       "      <td>1</td>\n",
       "      <td>0</td>\n",
       "      <td>1</td>\n",
       "      <td>0</td>\n",
       "      <td>1</td>\n",
       "      <td>1</td>\n",
       "      <td>0</td>\n",
       "      <td>0</td>\n",
       "      <td>0</td>\n",
       "      <td>0</td>\n",
       "      <td>0</td>\n",
       "      <td>0</td>\n",
       "      <td>1</td>\n",
       "      <td>0</td>\n",
       "      <td>0</td>\n",
       "      <td>1</td>\n",
       "      <td>0</td>\n",
       "      <td>0</td>\n",
       "      <td>0</td>\n",
       "      <td>1</td>\n",
       "      <td>0</td>\n",
       "      <td>0</td>\n",
       "      <td>0</td>\n",
       "      <td>1</td>\n",
       "      <td>0</td>\n",
       "      <td>1</td>\n",
       "      <td>0</td>\n",
       "      <td>0</td>\n",
       "      <td>0</td>\n",
       "      <td>0</td>\n",
       "      <td>0</td>\n",
       "      <td>1</td>\n",
       "      <td>0</td>\n",
       "      <td>1</td>\n",
       "      <td>0</td>\n",
       "      <td>0</td>\n",
       "      <td>0</td>\n",
       "      <td>0</td>\n",
       "      <td>0</td>\n",
       "      <td>0</td>\n",
       "      <td>0</td>\n",
       "      <td>0</td>\n",
       "      <td>1</td>\n",
       "      <td>1</td>\n",
       "      <td>1</td>\n",
       "      <td>1</td>\n",
       "      <td>0</td>\n",
       "      <td>0</td>\n",
       "      <td>0</td>\n",
       "      <td>0</td>\n",
       "      <td>0</td>\n",
       "      <td>0</td>\n",
       "      <td>0</td>\n",
       "      <td>0</td>\n",
       "      <td>0</td>\n",
       "      <td>0</td>\n",
       "    </tr>\n",
       "    <tr>\n",
       "      <th>2</th>\n",
       "      <td>1.0</td>\n",
       "      <td>1</td>\n",
       "      <td>0</td>\n",
       "      <td>0</td>\n",
       "      <td>1</td>\n",
       "      <td>0</td>\n",
       "      <td>0</td>\n",
       "      <td>1</td>\n",
       "      <td>0</td>\n",
       "      <td>0</td>\n",
       "      <td>0</td>\n",
       "      <td>0</td>\n",
       "      <td>0</td>\n",
       "      <td>1</td>\n",
       "      <td>0</td>\n",
       "      <td>0</td>\n",
       "      <td>0</td>\n",
       "      <td>1</td>\n",
       "      <td>0</td>\n",
       "      <td>0</td>\n",
       "      <td>0</td>\n",
       "      <td>0</td>\n",
       "      <td>0</td>\n",
       "      <td>0</td>\n",
       "      <td>0</td>\n",
       "      <td>0</td>\n",
       "      <td>0</td>\n",
       "      <td>0</td>\n",
       "      <td>0</td>\n",
       "      <td>0</td>\n",
       "      <td>1</td>\n",
       "      <td>0</td>\n",
       "      <td>0</td>\n",
       "      <td>0</td>\n",
       "      <td>0</td>\n",
       "      <td>0</td>\n",
       "      <td>1</td>\n",
       "      <td>0</td>\n",
       "      <td>0</td>\n",
       "      <td>0</td>\n",
       "      <td>0</td>\n",
       "      <td>0</td>\n",
       "      <td>0</td>\n",
       "      <td>0</td>\n",
       "      <td>0</td>\n",
       "      <td>1</td>\n",
       "      <td>0</td>\n",
       "      <td>0</td>\n",
       "      <td>0</td>\n",
       "      <td>1</td>\n",
       "      <td>1</td>\n",
       "      <td>1</td>\n",
       "      <td>0</td>\n",
       "      <td>0</td>\n",
       "      <td>0</td>\n",
       "      <td>0</td>\n",
       "      <td>0</td>\n",
       "      <td>0</td>\n",
       "      <td>1</td>\n",
       "      <td>0</td>\n",
       "      <td>0</td>\n",
       "      <td>0</td>\n",
       "      <td>0</td>\n",
       "    </tr>\n",
       "    <tr>\n",
       "      <th>3</th>\n",
       "      <td>1.0</td>\n",
       "      <td>1</td>\n",
       "      <td>0</td>\n",
       "      <td>0</td>\n",
       "      <td>1</td>\n",
       "      <td>0</td>\n",
       "      <td>0</td>\n",
       "      <td>1</td>\n",
       "      <td>0</td>\n",
       "      <td>1</td>\n",
       "      <td>1</td>\n",
       "      <td>0</td>\n",
       "      <td>0</td>\n",
       "      <td>1</td>\n",
       "      <td>0</td>\n",
       "      <td>0</td>\n",
       "      <td>0</td>\n",
       "      <td>1</td>\n",
       "      <td>0</td>\n",
       "      <td>0</td>\n",
       "      <td>0</td>\n",
       "      <td>1</td>\n",
       "      <td>0</td>\n",
       "      <td>0</td>\n",
       "      <td>0</td>\n",
       "      <td>0</td>\n",
       "      <td>0</td>\n",
       "      <td>1</td>\n",
       "      <td>0</td>\n",
       "      <td>0</td>\n",
       "      <td>0</td>\n",
       "      <td>1</td>\n",
       "      <td>0</td>\n",
       "      <td>0</td>\n",
       "      <td>1</td>\n",
       "      <td>0</td>\n",
       "      <td>0</td>\n",
       "      <td>0</td>\n",
       "      <td>0</td>\n",
       "      <td>0</td>\n",
       "      <td>0</td>\n",
       "      <td>0</td>\n",
       "      <td>0</td>\n",
       "      <td>1</td>\n",
       "      <td>0</td>\n",
       "      <td>0</td>\n",
       "      <td>0</td>\n",
       "      <td>0</td>\n",
       "      <td>0</td>\n",
       "      <td>1</td>\n",
       "      <td>0</td>\n",
       "      <td>1</td>\n",
       "      <td>1</td>\n",
       "      <td>1</td>\n",
       "      <td>0</td>\n",
       "      <td>1</td>\n",
       "      <td>0</td>\n",
       "      <td>0</td>\n",
       "      <td>0</td>\n",
       "      <td>0</td>\n",
       "      <td>0</td>\n",
       "      <td>0</td>\n",
       "      <td>0</td>\n",
       "    </tr>\n",
       "    <tr>\n",
       "      <th>4</th>\n",
       "      <td>1.0</td>\n",
       "      <td>0</td>\n",
       "      <td>1</td>\n",
       "      <td>0</td>\n",
       "      <td>1</td>\n",
       "      <td>0</td>\n",
       "      <td>0</td>\n",
       "      <td>1</td>\n",
       "      <td>0</td>\n",
       "      <td>1</td>\n",
       "      <td>1</td>\n",
       "      <td>0</td>\n",
       "      <td>1</td>\n",
       "      <td>0</td>\n",
       "      <td>0</td>\n",
       "      <td>0</td>\n",
       "      <td>0</td>\n",
       "      <td>1</td>\n",
       "      <td>0</td>\n",
       "      <td>0</td>\n",
       "      <td>0</td>\n",
       "      <td>1</td>\n",
       "      <td>0</td>\n",
       "      <td>0</td>\n",
       "      <td>1</td>\n",
       "      <td>0</td>\n",
       "      <td>0</td>\n",
       "      <td>0</td>\n",
       "      <td>0</td>\n",
       "      <td>1</td>\n",
       "      <td>0</td>\n",
       "      <td>0</td>\n",
       "      <td>0</td>\n",
       "      <td>0</td>\n",
       "      <td>0</td>\n",
       "      <td>0</td>\n",
       "      <td>0</td>\n",
       "      <td>0</td>\n",
       "      <td>1</td>\n",
       "      <td>0</td>\n",
       "      <td>0</td>\n",
       "      <td>1</td>\n",
       "      <td>0</td>\n",
       "      <td>0</td>\n",
       "      <td>0</td>\n",
       "      <td>0</td>\n",
       "      <td>1</td>\n",
       "      <td>0</td>\n",
       "      <td>0</td>\n",
       "      <td>1</td>\n",
       "      <td>0</td>\n",
       "      <td>0</td>\n",
       "      <td>0</td>\n",
       "      <td>0</td>\n",
       "      <td>0</td>\n",
       "      <td>0</td>\n",
       "      <td>0</td>\n",
       "      <td>1</td>\n",
       "      <td>0</td>\n",
       "      <td>0</td>\n",
       "      <td>0</td>\n",
       "      <td>0</td>\n",
       "      <td>0</td>\n",
       "    </tr>\n",
       "  </tbody>\n",
       "</table>\n",
       "</div>"
      ],
      "text/plain": [
       "   const  h1n1_worry_1.0  h1n1_worry_2.0  h1n1_worry_3.0  h1n1_awareness_1.0  \\\n",
       "0    1.0               1               0               0                   0   \n",
       "1    1.0               0               0               1                   0   \n",
       "2    1.0               1               0               0                   1   \n",
       "3    1.0               1               0               0                   1   \n",
       "4    1.0               0               1               0                   1   \n",
       "\n",
       "   h1n1_awareness_2.0  antiviral_medication_1.0  contact_avoidance_1.0  \\\n",
       "0                   0                         0                      0   \n",
       "1                   1                         0                      1   \n",
       "2                   0                         0                      1   \n",
       "3                   0                         0                      1   \n",
       "4                   0                         0                      1   \n",
       "\n",
       "   bought_face_mask_1.0  wash_hands_frequently_1.0  \\\n",
       "0                     0                          0   \n",
       "1                     0                          1   \n",
       "2                     0                          0   \n",
       "3                     0                          1   \n",
       "4                     0                          1   \n",
       "\n",
       "   avoid_large_gatherings_1.0  reduced_outside_home_cont_1.0  \\\n",
       "0                           0                              1   \n",
       "1                           0                              1   \n",
       "2                           0                              0   \n",
       "3                           1                              0   \n",
       "4                           1                              0   \n",
       "\n",
       "   avoid_touch_face_1.0  chronic_medic_condition_1.0  \\\n",
       "0                     1                            0   \n",
       "1                     1                            0   \n",
       "2                     0                            1   \n",
       "3                     0                            1   \n",
       "4                     1                            0   \n",
       "\n",
       "   cont_child_undr_6_mnths_1.0  is_health_worker_1.0  \\\n",
       "0                            0                     0   \n",
       "1                            0                     0   \n",
       "2                            0                     0   \n",
       "3                            0                     0   \n",
       "4                            0                     0   \n",
       "\n",
       "   is_h1n1_vacc_effective_2.0  is_h1n1_vacc_effective_3.0  \\\n",
       "0                           0                           1   \n",
       "1                           0                           0   \n",
       "2                           0                           1   \n",
       "3                           0                           1   \n",
       "4                           0                           1   \n",
       "\n",
       "   is_h1n1_vacc_effective_4.0  is_h1n1_vacc_effective_5.0  is_h1n1_risky_2.0  \\\n",
       "0                           0                           0                  0   \n",
       "1                           0                           1                  0   \n",
       "2                           0                           0                  0   \n",
       "3                           0                           0                  0   \n",
       "4                           0                           0                  0   \n",
       "\n",
       "   is_h1n1_risky_3.0  is_h1n1_risky_4.0  is_h1n1_risky_5.0  \\\n",
       "0                  0                  0                  0   \n",
       "1                  0                  1                  0   \n",
       "2                  0                  0                  0   \n",
       "3                  1                  0                  0   \n",
       "4                  1                  0                  0   \n",
       "\n",
       "   sick_from_h1n1_vacc_2.0  sick_from_h1n1_vacc_3.0  sick_from_h1n1_vacc_4.0  \\\n",
       "0                        1                        0                        0   \n",
       "1                        0                        0                        1   \n",
       "2                        0                        0                        0   \n",
       "3                        0                        0                        0   \n",
       "4                        1                        0                        0   \n",
       "\n",
       "   sick_from_h1n1_vacc_5.0  is_seas_vacc_effective_2.0  \\\n",
       "0                        0                           1   \n",
       "1                        0                           0   \n",
       "2                        0                           0   \n",
       "3                        1                           0   \n",
       "4                        0                           0   \n",
       "\n",
       "   is_seas_vacc_effective_3.0  is_seas_vacc_effective_4.0  \\\n",
       "0                           0                           0   \n",
       "1                           0                           1   \n",
       "2                           0                           1   \n",
       "3                           0                           0   \n",
       "4                           1                           0   \n",
       "\n",
       "   is_seas_vacc_effective_5.0  is_seas_risky_2.0  is_seas_risky_3.0  \\\n",
       "0                           0                  0                  0   \n",
       "1                           0                  1                  0   \n",
       "2                           0                  0                  0   \n",
       "3                           1                  0                  0   \n",
       "4                           0                  0                  0   \n",
       "\n",
       "   is_seas_risky_4.0  is_seas_risky_5.0  sick_from_seas_vacc_2.0  \\\n",
       "0                  0                  0                        1   \n",
       "1                  0                  0                        0   \n",
       "2                  0                  0                        1   \n",
       "3                  1                  0                        0   \n",
       "4                  0                  0                        0   \n",
       "\n",
       "   sick_from_seas_vacc_3.0  sick_from_seas_vacc_4.0  sick_from_seas_vacc_5.0  \\\n",
       "0                        0                        0                        0   \n",
       "1                        0                        1                        0   \n",
       "2                        0                        0                        0   \n",
       "3                        0                        0                        0   \n",
       "4                        0                        1                        0   \n",
       "\n",
       "   age_bracket_35 - 44 Years  age_bracket_45 - 54 Years  \\\n",
       "0                          0                          0   \n",
       "1                          1                          0   \n",
       "2                          0                          0   \n",
       "3                          0                          0   \n",
       "4                          0                          1   \n",
       "\n",
       "   age_bracket_55 - 64 Years  age_bracket_65+ Years  qualification_< 12 Years  \\\n",
       "0                          1                      0                         1   \n",
       "1                          0                      0                         0   \n",
       "2                          0                      0                         0   \n",
       "3                          0                      1                         0   \n",
       "4                          0                      0                         0   \n",
       "\n",
       "   qualification_College Graduate  qualification_Some College  race_Hispanic  \\\n",
       "0                               0                           0              0   \n",
       "1                               0                           0              0   \n",
       "2                               1                           0              0   \n",
       "3                               0                           0              0   \n",
       "4                               0                           1              0   \n",
       "\n",
       "   race_Other or Multiple  race_White  sex_Male  marital_status_Not Married  \\\n",
       "0                       0           1         0                           1   \n",
       "1                       0           1         1                           1   \n",
       "2                       0           1         1                           1   \n",
       "3                       0           1         0                           1   \n",
       "4                       0           1         0                           0   \n",
       "\n",
       "   housing_status_Rent  employment_Not in Labor Force  employment_Unemployed  \\\n",
       "0                    0                              1                      0   \n",
       "1                    1                              0                      0   \n",
       "2                    0                              0                      0   \n",
       "3                    1                              1                      0   \n",
       "4                    0                              0                      0   \n",
       "\n",
       "   census_msa_MSA, Principle City  census_msa_Non-MSA  no_of_adults_1.0  \\\n",
       "0                               0                   1                 0   \n",
       "1                               0                   0                 0   \n",
       "2                               0                   0                 0   \n",
       "3                               1                   0                 0   \n",
       "4                               0                   0                 1   \n",
       "\n",
       "   no_of_adults_2.0  no_of_adults_3.0  no_of_children_1.0  no_of_children_2.0  \\\n",
       "0                 0                 0                   0                   0   \n",
       "1                 0                 0                   0                   0   \n",
       "2                 1                 0                   0                   0   \n",
       "3                 0                 0                   0                   0   \n",
       "4                 0                 0                   0                   0   \n",
       "\n",
       "   no_of_children_3.0  \n",
       "0                   0  \n",
       "1                   0  \n",
       "2                   0  \n",
       "3                   0  \n",
       "4                   0  "
      ]
     },
     "execution_count": 41,
     "metadata": {},
     "output_type": "execute_result"
    }
   ],
   "source": [
    "# add the intercept column using 'add_constant()'\n",
    "X = sm.add_constant(X)\n",
    "\n",
    "# print the first five bservations after adding intercept\n",
    "X.head()"
   ]
  },
  {
   "cell_type": "markdown",
   "metadata": {},
   "source": [
    "**2. Split the dataset into train and test sets**"
   ]
  },
  {
   "cell_type": "code",
   "execution_count": 42,
   "metadata": {
    "colab": {},
    "colab_type": "code",
    "id": "9XWUmyXrebo_",
    "outputId": "7dcfd65a-f799-464c-d257-c7df8d4b7a06"
   },
   "outputs": [
    {
     "name": "stdout",
     "output_type": "stream",
     "text": [
      "X_train (16398, 63)\n",
      "y_train (16398, 1)\n",
      "X_test (7028, 63)\n",
      "y_test (7028, 1)\n"
     ]
    }
   ],
   "source": [
    "# split data into train subset and test subset\n",
    "# set 'random_state' to generate the same dataset each time you run the code \n",
    "# 'test_size' returns the proportion of data to be included in the test set\n",
    "X_train, X_test, y_train, y_test = train_test_split(X, y, test_size = 0.30, random_state = 10)\n",
    "\n",
    "# check the dimensions of the train & test subset using 'shape'\n",
    "# print dimension of train set\n",
    "print(\"X_train\",X_train.shape)\n",
    "print(\"y_train\",y_train.shape)\n",
    "\n",
    "# print dimension of test set\n",
    "print(\"X_test\",X_test.shape)\n",
    "print(\"y_test\",y_test.shape)"
   ]
  },
  {
   "cell_type": "markdown",
   "metadata": {},
   "source": [
    "#### 3. Build a logistic regression model using statsmodels `Logit()`."
   ]
  },
  {
   "cell_type": "code",
   "execution_count": 43,
   "metadata": {
    "scrolled": false
   },
   "outputs": [
    {
     "name": "stdout",
     "output_type": "stream",
     "text": [
      "Optimization terminated successfully.\n",
      "         Current function value: 0.414325\n",
      "         Iterations 7\n",
      "                           Logit Regression Results                           \n",
      "==============================================================================\n",
      "Dep. Variable:           h1n1_vaccine   No. Observations:                16398\n",
      "Model:                          Logit   Df Residuals:                    16335\n",
      "Method:                           MLE   Df Model:                           62\n",
      "Date:                Mon, 14 Mar 2022   Pseudo R-squ.:                  0.1990\n",
      "Time:                        06:02:00   Log-Likelihood:                -6794.1\n",
      "converged:                       True   LL-Null:                       -8482.4\n",
      "Covariance Type:            nonrobust   LLR p-value:                     0.000\n",
      "==================================================================================================\n",
      "                                     coef    std err          z      P>|z|      [0.025      0.975]\n",
      "--------------------------------------------------------------------------------------------------\n",
      "const                             -4.4648      0.297    -15.041      0.000      -5.047      -3.883\n",
      "h1n1_worry_1.0                    -0.0658      0.089     -0.739      0.460      -0.240       0.109\n",
      "h1n1_worry_2.0                    -0.1000      0.090     -1.109      0.267      -0.277       0.077\n",
      "h1n1_worry_3.0                    -0.2456      0.101     -2.430      0.015      -0.444      -0.047\n",
      "h1n1_awareness_1.0                -0.0167      0.094     -0.177      0.860      -0.202       0.168\n",
      "h1n1_awareness_2.0                 0.1793      0.099      1.805      0.071      -0.015       0.374\n",
      "antiviral_medication_1.0           0.2231      0.099      2.262      0.024       0.030       0.416\n",
      "contact_avoidance_1.0             -0.0414      0.055     -0.746      0.455      -0.150       0.067\n",
      "bought_face_mask_1.0               0.1483      0.082      1.804      0.071      -0.013       0.309\n",
      "wash_hands_frequently_1.0          0.1179      0.071      1.649      0.099      -0.022       0.258\n",
      "avoid_large_gatherings_1.0        -0.1337      0.057     -2.347      0.019      -0.245      -0.022\n",
      "reduced_outside_home_cont_1.0     -0.0560      0.058     -0.967      0.334      -0.170       0.058\n",
      "avoid_touch_face_1.0               0.0750      0.054      1.391      0.164      -0.031       0.181\n",
      "chronic_medic_condition_1.0        0.2745      0.048      5.685      0.000       0.180       0.369\n",
      "cont_child_undr_6_mnths_1.0        0.3852      0.075      5.142      0.000       0.238       0.532\n",
      "is_health_worker_1.0               1.0208      0.063     16.149      0.000       0.897       1.145\n",
      "is_h1n1_vacc_effective_2.0        -0.2255      0.268     -0.842      0.400      -0.751       0.300\n",
      "is_h1n1_vacc_effective_3.0         0.3436      0.238      1.441      0.150      -0.124       0.811\n",
      "is_h1n1_vacc_effective_4.0         0.9134      0.231      3.957      0.000       0.461       1.366\n",
      "is_h1n1_vacc_effective_5.0         1.7691      0.232      7.634      0.000       1.315       2.223\n",
      "is_h1n1_risky_2.0                  0.4774      0.069      6.899      0.000       0.342       0.613\n",
      "is_h1n1_risky_3.0                  0.7898      0.145      5.435      0.000       0.505       1.075\n",
      "is_h1n1_risky_4.0                  1.3443      0.077     17.525      0.000       1.194       1.495\n",
      "is_h1n1_risky_5.0                  1.7373      0.102     17.094      0.000       1.538       1.937\n",
      "sick_from_h1n1_vacc_2.0           -0.3338      0.060     -5.551      0.000      -0.452      -0.216\n",
      "sick_from_h1n1_vacc_3.0           -1.1660      0.610     -1.911      0.056      -2.362       0.030\n",
      "sick_from_h1n1_vacc_4.0           -0.1008      0.067     -1.506      0.132      -0.232       0.030\n",
      "sick_from_h1n1_vacc_5.0           -0.0953      0.100     -0.950      0.342      -0.292       0.101\n",
      "is_seas_vacc_effective_2.0        -0.0714      0.190     -0.377      0.706      -0.443       0.300\n",
      "is_seas_vacc_effective_3.0         0.4532      0.210      2.157      0.031       0.041       0.865\n",
      "is_seas_vacc_effective_4.0         0.1020      0.167      0.609      0.542      -0.226       0.430\n",
      "is_seas_vacc_effective_5.0         0.2093      0.168      1.244      0.213      -0.120       0.539\n",
      "is_seas_risky_2.0                  0.4478      0.081      5.548      0.000       0.290       0.606\n",
      "is_seas_risky_3.0                  0.7621      0.183      4.155      0.000       0.403       1.122\n",
      "is_seas_risky_4.0                  0.6335      0.083      7.595      0.000       0.470       0.797\n",
      "is_seas_risky_5.0                  0.7018      0.099      7.125      0.000       0.509       0.895\n",
      "sick_from_seas_vacc_2.0           -0.1054      0.057     -1.838      0.066      -0.218       0.007\n",
      "sick_from_seas_vacc_3.0           -0.5849      0.571     -1.024      0.306      -1.704       0.534\n",
      "sick_from_seas_vacc_4.0           -0.1661      0.066     -2.522      0.012      -0.295      -0.037\n",
      "sick_from_seas_vacc_5.0           -0.3793      0.108     -3.520      0.000      -0.591      -0.168\n",
      "age_bracket_35 - 44 Years         -0.0085      0.082     -0.104      0.917      -0.168       0.152\n",
      "age_bracket_45 - 54 Years         -0.0719      0.077     -0.932      0.351      -0.223       0.079\n",
      "age_bracket_55 - 64 Years          0.2601      0.079      3.271      0.001       0.104       0.416\n",
      "age_bracket_65+ Years              0.3193      0.086      3.701      0.000       0.150       0.488\n",
      "qualification_< 12 Years          -0.1897      0.093     -2.034      0.042      -0.372      -0.007\n",
      "qualification_College Graduate     0.1607      0.063      2.557      0.011       0.038       0.284\n",
      "qualification_Some College         0.1208      0.064      1.892      0.058      -0.004       0.246\n",
      "race_Hispanic                      0.2276      0.125      1.815      0.070      -0.018       0.473\n",
      "race_Other or Multiple             0.3526      0.127      2.787      0.005       0.105       0.601\n",
      "race_White                         0.2702      0.095      2.830      0.005       0.083       0.457\n",
      "sex_Male                           0.1347      0.047      2.875      0.004       0.043       0.227\n",
      "marital_status_Not Married        -0.0870      0.063     -1.391      0.164      -0.210       0.036\n",
      "housing_status_Rent               -0.0331      0.059     -0.563      0.573      -0.148       0.082\n",
      "employment_Not in Labor Force      0.1674      0.055      3.016      0.003       0.059       0.276\n",
      "employment_Unemployed              0.0572      0.106      0.539      0.590      -0.151       0.265\n",
      "census_msa_MSA, Principle City     0.0719      0.052      1.372      0.170      -0.031       0.175\n",
      "census_msa_Non-MSA                 0.1104      0.053      2.066      0.039       0.006       0.215\n",
      "no_of_adults_1.0                   0.0718      0.069      1.048      0.295      -0.062       0.206\n",
      "no_of_adults_2.0                   0.0480      0.089      0.542      0.588      -0.126       0.222\n",
      "no_of_adults_3.0                  -0.0617      0.123     -0.503      0.615      -0.302       0.178\n",
      "no_of_children_1.0                 0.0821      0.074      1.106      0.269      -0.063       0.228\n",
      "no_of_children_2.0                 0.0251      0.081      0.310      0.757      -0.134       0.184\n",
      "no_of_children_3.0                -0.0515      0.100     -0.513      0.608      -0.248       0.145\n",
      "==================================================================================================\n"
     ]
    }
   ],
   "source": [
    "# build the model on train data (X_train and y_train)\n",
    "# use fit() to fit the logistic regression model\n",
    "log_reg_model = sm.Logit(y_train, X_train).fit()\n",
    "\n",
    "# print the summary of the model\n",
    "print(log_reg_model.summary())"
   ]
  },
  {
   "cell_type": "markdown",
   "metadata": {},
   "source": [
    "**Interpretation:** The `Pseudo R-squ.` obtained from the above model summary is the value of `McFadden's R-squared`."
   ]
  },
  {
   "cell_type": "markdown",
   "metadata": {},
   "source": [
    "**4. Do predictions on the test set**"
   ]
  },
  {
   "cell_type": "code",
   "execution_count": 44,
   "metadata": {
    "colab": {},
    "colab_type": "code",
    "id": "UP5DA9_qebpC",
    "scrolled": false
   },
   "outputs": [
    {
     "data": {
      "text/plain": [
       "9480     0.193582\n",
       "25478    0.663039\n",
       "16789    0.091390\n",
       "8036     0.121057\n",
       "7121     0.156698\n",
       "dtype: float64"
      ]
     },
     "execution_count": 44,
     "metadata": {},
     "output_type": "execute_result"
    }
   ],
   "source": [
    "# let 'y_pred_prob' be the predicted values of y\n",
    "y_pred_prob = log_reg_model.predict(X_test)\n",
    "\n",
    "# print the y_pred_prob\n",
    "y_pred_prob.head()"
   ]
  },
  {
   "cell_type": "markdown",
   "metadata": {},
   "source": [
    "Since the target variable can take only two values either 0 or 1. We decide the threshold of 0.5. If `y_pred_prob` is less than 0.5, then consider it to be 0 else consider it to be 1."
   ]
  },
  {
   "cell_type": "markdown",
   "metadata": {},
   "source": [
    "We have seen that the dataset is not balanced. We may check model performance parameters for different threshold values to classify as 0 and 1. As an exercise check the impact on performance parameters for different threshold values."
   ]
  },
  {
   "cell_type": "code",
   "execution_count": 45,
   "metadata": {
    "colab": {},
    "colab_type": "code",
    "id": "s-aj8refebpI"
   },
   "outputs": [],
   "source": [
    "# convert probabilities to 0 and 1 using 'if_else'\n",
    "y_pred = ['0' if x < 0.5 else '1' for x in y_pred_prob]"
   ]
  },
  {
   "cell_type": "code",
   "execution_count": 46,
   "metadata": {
    "colab": {},
    "colab_type": "code",
    "id": "NQyMfFD5ebpP"
   },
   "outputs": [
    {
     "data": {
      "text/plain": [
       "array([0., 1., 0., 0., 0.], dtype=float32)"
      ]
     },
     "execution_count": 46,
     "metadata": {},
     "output_type": "execute_result"
    }
   ],
   "source": [
    "# convert the predicted values to type 'float32'\n",
    "y_pred = np.array(y_pred, dtype=np.float32)\n",
    "\n",
    "# print the first five predictions\n",
    "y_pred[0:5]"
   ]
  },
  {
   "cell_type": "markdown",
   "metadata": {},
   "source": [
    "#### 5. Calculate the performance measures."
   ]
  },
  {
   "cell_type": "markdown",
   "metadata": {},
   "source": [
    "#### Build a confusion matrix."
   ]
  },
  {
   "cell_type": "code",
   "execution_count": 47,
   "metadata": {},
   "outputs": [
    {
     "data": {
      "image/png": "[encoded data removed]",
      "text/plain": [
       "<Figure size 1080x576 with 1 Axes>"
      ]
     },
     "metadata": {
      "needs_background": "light"
     },
     "output_type": "display_data"
    }
   ],
   "source": [
    "# call the function to plot the confusion matrix\n",
    "# pass the logistic regression model to the function\n",
    "plot_confusion_matrix(log_reg_model)"
   ]
  },
  {
   "cell_type": "markdown",
   "metadata": {},
   "source": [
    "**Calculate performance measures on the test set.**"
   ]
  },
  {
   "cell_type": "code",
   "execution_count": 48,
   "metadata": {
    "colab": {},
    "colab_type": "code",
    "id": "UP5DA9_qebpC",
    "scrolled": false
   },
   "outputs": [
    {
     "name": "stdout",
     "output_type": "stream",
     "text": [
      "              precision    recall  f1-score   support\n",
      "\n",
      "           0       0.83      0.95      0.89      5476\n",
      "           1       0.65      0.33      0.44      1552\n",
      "\n",
      "    accuracy                           0.81      7028\n",
      "   macro avg       0.74      0.64      0.66      7028\n",
      "weighted avg       0.79      0.81      0.79      7028\n",
      "\n"
     ]
    }
   ],
   "source": [
    "# compute the performance measures on test data\n",
    "# call the function 'get_test_report'\n",
    "# pass the logstic regression model to the function\n",
    "test_report = get_test_report(log_reg_model)\n",
    "\n",
    "# print the performace measures\n",
    "print(test_report)"
   ]
  },
  {
   "cell_type": "markdown",
   "metadata": {},
   "source": [
    "**Interpretation:** The accuracy is 81% for this model. Also, there is significant difference between specificity and sensitivity."
   ]
  },
  {
   "cell_type": "code",
   "execution_count": 49,
   "metadata": {},
   "outputs": [
    {
     "name": "stdout",
     "output_type": "stream",
     "text": [
      "0.3426774787926872\n"
     ]
    }
   ],
   "source": [
    "# compute kappa score on test set\n",
    "# call the function 'kappa_score'\n",
    "# pass the logstic regression model to the function\n",
    "kappa_value = kappa_score(log_reg_model)\n",
    "\n",
    "# print the kappa value\n",
    "print(kappa_value)"
   ]
  },
  {
   "cell_type": "markdown",
   "metadata": {},
   "source": [
    "**Interpretation:** As the kappa score for the logistic regression is 0.3426, we can say that there is low to moderate agreement between the actual and predicted values."
   ]
  },
  {
   "cell_type": "markdown",
   "metadata": {},
   "source": [
    "**Plot the ROC curve.**"
   ]
  },
  {
   "cell_type": "code",
   "execution_count": 50,
   "metadata": {
    "scrolled": false
   },
   "outputs": [
    {
     "data": {
      "image/png": "[encoded data removed]",
      "text/plain": [
       "<Figure size 1080x576 with 1 Axes>"
      ]
     },
     "metadata": {
      "needs_background": "light"
     },
     "output_type": "display_data"
    }
   ],
   "source": [
    "# call the function 'plot_roc' to plot the ROC curve\n",
    "# pass the logstic regression model to the function\n",
    "plot_roc(log_reg_model)"
   ]
  },
  {
   "cell_type": "markdown",
   "metadata": {},
   "source": [
    "<table align=\"left\">\n",
    "    <tr>\n",
    "        <td width=\"8%\">\n",
    "            <img src=\"infer.png\">\n",
    "        </td>\n",
    "        <td>\n",
    "            <div align=\"left\", style=\"font-size:120%\">\n",
    "                <font color=\"#21618C\">\n",
    "                    <b>The dotted line represents the ROC curve of a purely random classifier; a good classifier stays as far away from that line as possible (toward the top-left corner).<br><br>\n",
    "We see our classifier (logistic regression) to be away from the dotted line with the AUC score 0.7944.</b>\n",
    "                </font>\n",
    "            </div>\n",
    "        </td>\n",
    "    </tr>\n",
    "</table>\n",
    "\n"
   ]
  },
  {
   "cell_type": "markdown",
   "metadata": {},
   "source": [
    "**6. Tabulate the results.**"
   ]
  },
  {
   "cell_type": "markdown",
   "metadata": {},
   "source": [
    "Now, we tabulate the results, so that is easy for us to compare the models built."
   ]
  },
  {
   "cell_type": "code",
   "execution_count": 51,
   "metadata": {},
   "outputs": [
    {
     "data": {
      "text/html": [
       "<div>\n",
       "<style scoped>\n",
       "    .dataframe tbody tr th:only-of-type {\n",
       "        vertical-align: middle;\n",
       "    }\n",
       "\n",
       "    .dataframe tbody tr th {\n",
       "        vertical-align: top;\n",
       "    }\n",
       "\n",
       "    .dataframe thead th {\n",
       "        text-align: right;\n",
       "    }\n",
       "</style>\n",
       "<table border=\"1\" class=\"dataframe\">\n",
       "  <thead>\n",
       "    <tr style=\"text-align: right;\">\n",
       "      <th></th>\n",
       "      <th>Model</th>\n",
       "      <th>AUC Score</th>\n",
       "      <th>Precision Score</th>\n",
       "      <th>Recall Score</th>\n",
       "      <th>Accuracy Score</th>\n",
       "      <th>Kappa Score</th>\n",
       "      <th>f1-score</th>\n",
       "    </tr>\n",
       "  </thead>\n",
       "  <tbody>\n",
       "    <tr>\n",
       "      <th>0</th>\n",
       "      <td>Logistic Regression</td>\n",
       "      <td>0.794406</td>\n",
       "      <td>0.654384</td>\n",
       "      <td>0.33183</td>\n",
       "      <td>0.813745</td>\n",
       "      <td>0.342677</td>\n",
       "      <td>0.440359</td>\n",
       "    </tr>\n",
       "  </tbody>\n",
       "</table>\n",
       "</div>"
      ],
      "text/plain": [
       "                 Model  AUC Score  Precision Score  Recall Score  \\\n",
       "0  Logistic Regression   0.794406         0.654384       0.33183   \n",
       "\n",
       "   Accuracy Score  Kappa Score  f1-score  \n",
       "0        0.813745     0.342677  0.440359  "
      ]
     },
     "execution_count": 51,
     "metadata": {},
     "output_type": "execute_result"
    }
   ],
   "source": [
    "# use the function 'update_score_card' to store the performance measures\n",
    "# pass the 'Logistic Regression' as model name to the function\n",
    "update_score_card(model_name = 'Logistic Regression')"
   ]
  },
  {
   "cell_type": "markdown",
   "metadata": {},
   "source": [
    "<table align=\"left\">\n",
    "    <tr>\n",
    "        <td width=\"8%\">\n",
    "            <img src=\"infer.png\">\n",
    "        </td>\n",
    "        <td>\n",
    "            <div align=\"left\", style=\"font-size:120%\">\n",
    "                <font color=\"#21618C\">\n",
    "                    <b>It can be seen from the result tabulation, that most of the accuracy measures for logistic regression (without scaled features) and logistic regression with scaled features are nearly equal. This implies that there is no significant difference between the model with scaled features and unscaled features.</b>\n",
    "                </font>\n",
    "            </div>\n",
    "        </td>\n",
    "    </tr>\n",
    "</table>"
   ]
  },
  {
   "cell_type": "markdown",
   "metadata": {
    "colab_type": "text",
    "id": "chj2_KBtebpz"
   },
   "source": [
    "<a id='usingSGD'></a>\n",
    "## 5.2 Logistic Regression (using SGD)"
   ]
  },
  {
   "cell_type": "markdown",
   "metadata": {},
   "source": [
    "<table align=\"left\">\n",
    "    <tr>\n",
    "        <td width=\"8%\">\n",
    "            <img src=\"todo.png\">\n",
    "        </td>\n",
    "        <td>\n",
    "            <div align=\"left\", style=\"font-size:120%\">\n",
    "                <font color=\"#21618C\">\n",
    "                    <b>To build the logistic model on scaled features using SGD from sklearn, we do the following: <br><br>\n",
    "                       1. Scale the data<br>\n",
    "                       2. Split the data into training and test sets<br> \n",
    "                       3. Build the model<br>\n",
    "                       4. Do predictions on the test set <br>\n",
    "                       5. Compute accuracy measures <br>\n",
    "                       6. Tabulate the results\n",
    "</b>\n",
    "                </font>\n",
    "            </div>\n",
    "        </td>\n",
    "    </tr>\n",
    "</table>"
   ]
  },
  {
   "cell_type": "markdown",
   "metadata": {},
   "source": [
    "**1. Scale the data features**"
   ]
  },
  {
   "cell_type": "markdown",
   "metadata": {},
   "source": [
    "We do not need to scale the data, as all the varaibles are categorical variables."
   ]
  },
  {
   "cell_type": "markdown",
   "metadata": {},
   "source": [
    "**2. Split the data into training and test sets**"
   ]
  },
  {
   "cell_type": "markdown",
   "metadata": {},
   "source": [
    "The data has been split in section 5.1"
   ]
  },
  {
   "cell_type": "markdown",
   "metadata": {},
   "source": [
    "**3. Build the model**\n",
    "\n",
    "The `SGDClassifier()` from sklearn contains an intercept term. Thus, there is no need to add the column of intercept."
   ]
  },
  {
   "cell_type": "code",
   "execution_count": 52,
   "metadata": {
    "colab": {},
    "colab_type": "code",
    "id": "OeNBFnOQebp1",
    "outputId": "4e896ca6-e6ea-4966-f157-5dfc920f1f98"
   },
   "outputs": [],
   "source": [
    "# instantiate the 'SGDClassifier' to build model using SGD\n",
    "# to perform logistic regression, consider the log-loss function \n",
    "# set 'random_state' to generate the same dataset each time you run the code \n",
    "SGD = SGDClassifier(loss = 'log', random_state = 10)\n",
    "\n",
    "# fit the model on scaled training data\n",
    "logreg_with_SGD = SGD.fit(X_train, y_train)"
   ]
  },
  {
   "cell_type": "markdown",
   "metadata": {},
   "source": [
    "**4. Do predictions on the test set**"
   ]
  },
  {
   "cell_type": "code",
   "execution_count": 53,
   "metadata": {},
   "outputs": [],
   "source": [
    "# predict probabilities on the test set\n",
    "# consider the probability of positive class by subsetting with '[:,1]'\n",
    "y_pred_prob = logreg_with_SGD.predict_proba(X_test)[:,1]"
   ]
  },
  {
   "cell_type": "code",
   "execution_count": 54,
   "metadata": {},
   "outputs": [],
   "source": [
    "# use predict() to predict the class labels of target variable\n",
    "y_pred = logreg_with_SGD.predict(X_test)"
   ]
  },
  {
   "cell_type": "markdown",
   "metadata": {},
   "source": [
    "**5. Compute accuracy measures**"
   ]
  },
  {
   "cell_type": "markdown",
   "metadata": {},
   "source": [
    "#### Build a confusion matrix."
   ]
  },
  {
   "cell_type": "code",
   "execution_count": 55,
   "metadata": {},
   "outputs": [
    {
     "data": {
      "image/png": "[encoded data removed]",
      "text/plain": [
       "<Figure size 1080x576 with 1 Axes>"
      ]
     },
     "metadata": {
      "needs_background": "light"
     },
     "output_type": "display_data"
    }
   ],
   "source": [
    "# call the function to plot the confusion matrix\n",
    "# pass the logistic regression (SGD) model to the function\n",
    "plot_confusion_matrix(logreg_with_SGD)"
   ]
  },
  {
   "cell_type": "markdown",
   "metadata": {},
   "source": [
    "**Calculate performance measures on the test set.**"
   ]
  },
  {
   "cell_type": "code",
   "execution_count": 56,
   "metadata": {
    "colab": {},
    "colab_type": "code",
    "id": "UP5DA9_qebpC",
    "scrolled": false
   },
   "outputs": [
    {
     "name": "stdout",
     "output_type": "stream",
     "text": [
      "              precision    recall  f1-score   support\n",
      "\n",
      "           0       0.83      0.96      0.89      5476\n",
      "           1       0.66      0.28      0.40      1552\n",
      "\n",
      "    accuracy                           0.81      7028\n",
      "   macro avg       0.74      0.62      0.64      7028\n",
      "weighted avg       0.79      0.81      0.78      7028\n",
      "\n"
     ]
    }
   ],
   "source": [
    "# compute the performance measures on test data\n",
    "# call the function 'get_test_report'\n",
    "# pass the logstic regression (SGD) model to the function\n",
    "test_report = get_test_report(logreg_with_SGD)\n",
    "\n",
    "# print the performace measures\n",
    "print(test_report)"
   ]
  },
  {
   "cell_type": "markdown",
   "metadata": {},
   "source": [
    "**Interpretation:** The accuracy is 81% for this model."
   ]
  },
  {
   "cell_type": "code",
   "execution_count": 57,
   "metadata": {},
   "outputs": [
    {
     "name": "stdout",
     "output_type": "stream",
     "text": [
      "0.30475321107275866\n"
     ]
    }
   ],
   "source": [
    "# compute kappa score on test set\n",
    "# call the function 'kappa_score'\n",
    "# pass the logstic regression (SGD) model to the function\n",
    "kappa_value = kappa_score(logreg_with_SGD)\n",
    "\n",
    "# print the kappa value\n",
    "print(kappa_value)"
   ]
  },
  {
   "cell_type": "markdown",
   "metadata": {},
   "source": [
    "**Interpretation:** As the kappa score for the logistic regression (SGD) is 0.3047, we can say that there is low to moderate agreement between the actual and predicted values."
   ]
  },
  {
   "cell_type": "markdown",
   "metadata": {},
   "source": [
    "**Plot the ROC curve.**"
   ]
  },
  {
   "cell_type": "code",
   "execution_count": 58,
   "metadata": {
    "scrolled": false
   },
   "outputs": [
    {
     "data": {
      "image/png": "[encoded data removed]",
      "text/plain": [
       "<Figure size 1080x576 with 1 Axes>"
      ]
     },
     "metadata": {
      "needs_background": "light"
     },
     "output_type": "display_data"
    }
   ],
   "source": [
    "# call the function 'plot_roc' to plot the ROC curve\n",
    "# pass the logstic regression (SGD) model to the function\n",
    "plot_roc(logreg_with_SGD)"
   ]
  },
  {
   "cell_type": "markdown",
   "metadata": {},
   "source": [
    "<table align=\"left\">\n",
    "    <tr>\n",
    "        <td width=\"8%\">\n",
    "            <img src=\"infer.png\">\n",
    "        </td>\n",
    "        <td>\n",
    "            <div align=\"left\", style=\"font-size:120%\">\n",
    "                <font color=\"#21618C\">\n",
    "                    <b>The dotted line represents the ROC curve of a purely random classifier; a good classifier stays as far away from that line as possible (toward the top-left corner).<br><br>\n",
    "We see our classifier (logistic regression with SGD) to be away from the dotted line with the AUC score 0.7886.</b>\n",
    "                </font>\n",
    "            </div>\n",
    "        </td>\n",
    "    </tr>\n",
    "</table>\n",
    "\n"
   ]
  },
  {
   "cell_type": "markdown",
   "metadata": {},
   "source": [
    "**6. Tabulate the results**"
   ]
  },
  {
   "cell_type": "code",
   "execution_count": 59,
   "metadata": {},
   "outputs": [
    {
     "data": {
      "text/html": [
       "<div>\n",
       "<style scoped>\n",
       "    .dataframe tbody tr th:only-of-type {\n",
       "        vertical-align: middle;\n",
       "    }\n",
       "\n",
       "    .dataframe tbody tr th {\n",
       "        vertical-align: top;\n",
       "    }\n",
       "\n",
       "    .dataframe thead th {\n",
       "        text-align: right;\n",
       "    }\n",
       "</style>\n",
       "<table border=\"1\" class=\"dataframe\">\n",
       "  <thead>\n",
       "    <tr style=\"text-align: right;\">\n",
       "      <th></th>\n",
       "      <th>Model</th>\n",
       "      <th>AUC Score</th>\n",
       "      <th>Precision Score</th>\n",
       "      <th>Recall Score</th>\n",
       "      <th>Accuracy Score</th>\n",
       "      <th>Kappa Score</th>\n",
       "      <th>f1-score</th>\n",
       "    </tr>\n",
       "  </thead>\n",
       "  <tbody>\n",
       "    <tr>\n",
       "      <th>0</th>\n",
       "      <td>Logistic Regression</td>\n",
       "      <td>0.794406</td>\n",
       "      <td>0.654384</td>\n",
       "      <td>0.331830</td>\n",
       "      <td>0.813745</td>\n",
       "      <td>0.342677</td>\n",
       "      <td>0.440359</td>\n",
       "    </tr>\n",
       "    <tr>\n",
       "      <th>1</th>\n",
       "      <td>Logistic Regression (SGD)</td>\n",
       "      <td>0.788639</td>\n",
       "      <td>0.663142</td>\n",
       "      <td>0.282861</td>\n",
       "      <td>0.809903</td>\n",
       "      <td>0.304753</td>\n",
       "      <td>0.396567</td>\n",
       "    </tr>\n",
       "  </tbody>\n",
       "</table>\n",
       "</div>"
      ],
      "text/plain": [
       "                       Model  AUC Score  Precision Score  Recall Score  \\\n",
       "0        Logistic Regression   0.794406         0.654384      0.331830   \n",
       "1  Logistic Regression (SGD)   0.788639         0.663142      0.282861   \n",
       "\n",
       "   Accuracy Score  Kappa Score  f1-score  \n",
       "0        0.813745     0.342677  0.440359  \n",
       "1        0.809903     0.304753  0.396567  "
      ]
     },
     "execution_count": 59,
     "metadata": {},
     "output_type": "execute_result"
    }
   ],
   "source": [
    "# use the function 'update_score_card' to store the performance measures\n",
    "# pass the 'Logistic Regression (SGD)' as model name to the function\n",
    "update_score_card(model_name = 'Logistic Regression (SGD)')"
   ]
  },
  {
   "cell_type": "markdown",
   "metadata": {},
   "source": [
    "<a id=\"conclusion\"> </a>\n",
    "# 6. Conclusion and Interpretation"
   ]
  },
  {
   "cell_type": "markdown",
   "metadata": {},
   "source": [
    "To take the final conclusion, let us print the result table."
   ]
  },
  {
   "cell_type": "code",
   "execution_count": 60,
   "metadata": {},
   "outputs": [
    {
     "data": {
      "text/html": [
       "<div>\n",
       "<style scoped>\n",
       "    .dataframe tbody tr th:only-of-type {\n",
       "        vertical-align: middle;\n",
       "    }\n",
       "\n",
       "    .dataframe tbody tr th {\n",
       "        vertical-align: top;\n",
       "    }\n",
       "\n",
       "    .dataframe thead th {\n",
       "        text-align: right;\n",
       "    }\n",
       "</style>\n",
       "<table border=\"1\" class=\"dataframe\">\n",
       "  <thead>\n",
       "    <tr style=\"text-align: right;\">\n",
       "      <th></th>\n",
       "      <th>Model</th>\n",
       "      <th>AUC Score</th>\n",
       "      <th>Precision Score</th>\n",
       "      <th>Recall Score</th>\n",
       "      <th>Accuracy Score</th>\n",
       "      <th>Kappa Score</th>\n",
       "      <th>f1-score</th>\n",
       "    </tr>\n",
       "  </thead>\n",
       "  <tbody>\n",
       "    <tr>\n",
       "      <th>0</th>\n",
       "      <td>Logistic Regression</td>\n",
       "      <td>0.794406</td>\n",
       "      <td>0.654384</td>\n",
       "      <td>0.331830</td>\n",
       "      <td>0.813745</td>\n",
       "      <td>0.342677</td>\n",
       "      <td>0.440359</td>\n",
       "    </tr>\n",
       "    <tr>\n",
       "      <th>1</th>\n",
       "      <td>Logistic Regression (SGD)</td>\n",
       "      <td>0.788639</td>\n",
       "      <td>0.663142</td>\n",
       "      <td>0.282861</td>\n",
       "      <td>0.809903</td>\n",
       "      <td>0.304753</td>\n",
       "      <td>0.396567</td>\n",
       "    </tr>\n",
       "  </tbody>\n",
       "</table>\n",
       "</div>"
      ],
      "text/plain": [
       "                       Model  AUC Score  Precision Score  Recall Score  \\\n",
       "0        Logistic Regression   0.794406         0.654384      0.331830   \n",
       "1  Logistic Regression (SGD)   0.788639         0.663142      0.282861   \n",
       "\n",
       "   Accuracy Score  Kappa Score  f1-score  \n",
       "0        0.813745     0.342677  0.440359  \n",
       "1        0.809903     0.304753  0.396567  "
      ]
     },
     "execution_count": 60,
     "metadata": {},
     "output_type": "execute_result"
    }
   ],
   "source": [
    "# print the 'score_card' to compare all the models\n",
    "score_card"
   ]
  },
  {
   "cell_type": "markdown",
   "metadata": {},
   "source": [
    "<table align=\"left\">\n",
    "    <tr>\n",
    "        <td width=\"8%\">\n",
    "            <img src=\"infer.png\">\n",
    "        </td>\n",
    "        <td>\n",
    "            <div align=\"left\", style=\"font-size:120%\">\n",
    "                <font color=\"#21618C\">\n",
    "                    <b> The performance of the models were evaluated using AUC score, accuracy, precision, f1-score, recall, and kappa score. </b>\n",
    "                </font>\n",
    "            </div>\n",
    "        </td>\n",
    "    </tr>\n",
    "</table>"
   ]
  },
  {
   "cell_type": "markdown",
   "metadata": {},
   "source": [
    "Let us plot the performance measures of the two models in the single graph."
   ]
  },
  {
   "cell_type": "code",
   "execution_count": 61,
   "metadata": {},
   "outputs": [
    {
     "data": {
      "image/png": "[encoded data removed]",
      "text/plain": [
       "<Figure size 1080x576 with 1 Axes>"
      ]
     },
     "metadata": {
      "needs_background": "light"
     },
     "output_type": "display_data"
    }
   ],
   "source": [
    "# plot the graph\n",
    "# by default, plot() returns the line plot\n",
    "score_card.plot()\n",
    "\n",
    "# set the text size of the title\n",
    "plt.title(label = 'Comparison of the Models', fontsize = 15)\n",
    "\n",
    "# set the model names as x-ticks\n",
    "# 'score_card.Model' retuns the model names\n",
    "# rotate the x-axis labels vertically\n",
    "plt.xticks([0,1], list(score_card.Model), rotation = 'vertical')\n",
    "\n",
    "# display the plot\n",
    "plt.show()"
   ]
  },
  {
   "cell_type": "markdown",
   "metadata": {},
   "source": [
    "<table align=\"left\">\n",
    "    <tr>\n",
    "        <td width=\"8%\">\n",
    "            <img src=\"infer.png\">\n",
    "        </td>\n",
    "        <td>\n",
    "            <div align=\"left\", style=\"font-size:120%\">\n",
    "                <font color=\"#21618C\">\n",
    "                    <b> The graph was plotted for all the performance metrics of the models implemented. The X-axis has the model name as given in the table. <br><br>\n",
    "The above plot shows that the Logistic Regression(SGD) modela has lower values for Recall Score, Kappa score and F1-score when compared to the Logistic Regression model built initially. All the other performance measures are similar for both the models. Finally, it can be concluded that the Logistic Regression model can be used to predict if a person has taken a h1n1 vaccine or not. Additionally, based on the business decision, as to what is more important to predict correctly for business,i.e., predicting the people who have taken the vaccine is more important or whether it is more important to predict the people who have not taken the vaccine. Based on business decision the performance parameters like sensitivity or specificity can be fine tuned.</b>\n",
    "                </font>\n",
    "            </div>\n",
    "        </td>\n",
    "    </tr>\n",
    "</table>"
   ]
  }
 ],
 "metadata": {
  "colab": {
   "collapsed_sections": [
    "wORl-2PPebnv",
    "O71NsesEebn3",
    "7rG9ZJ7bebn-",
    "BFOkFedXeboC",
    "G-aTB0DseboJ",
    "vkZahcS9eboQ",
    "-tWX9ptGeboe",
    "FjtDatMReboh",
    "rv_JBRXxeboi",
    "v1hJh7QHebow",
    "55XwAHbgebpg",
    "LDDWA6ZIebpj",
    "kHBfLkZ3ebpk",
    "rd8vQHD-ebpo",
    "chj2_KBtebpz",
    "zO3yf2EWebqB",
    "Nvj6SJi9ebqY",
    "Vbs7RQIbebqn",
    "cfzuv0sbebq7",
    "y6YAJg_Iebq7",
    "YxDtqzYhebre",
    "IRmSXEhkebrl"
   ],
   "name": "Chronic Renal Gland Disorder - Logit.ipynb",
   "provenance": []
  },
  "kernelspec": {
   "display_name": "Python 3 (ipykernel)",
   "language": "python",
   "name": "python3"
  },
  "language_info": {
   "codemirror_mode": {
    "name": "ipython",
    "version": 3
   },
   "file_extension": ".py",
   "mimetype": "text/x-python",
   "name": "python",
   "nbconvert_exporter": "python",
   "pygments_lexer": "ipython3",
   "version": "3.8.8"
  }
 },
 "nbformat": 4,
 "nbformat_minor": 1
}
